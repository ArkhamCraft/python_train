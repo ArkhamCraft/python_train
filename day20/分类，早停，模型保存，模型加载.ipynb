{
 "cells": [
  {
   "cell_type": "code",
   "id": "initial_id",
   "metadata": {
    "collapsed": true,
    "ExecuteTime": {
     "end_time": "2025-01-16T14:52:14.086151Z",
     "start_time": "2025-01-16T14:51:59.223939Z"
    }
   },
   "source": [
    "import matplotlib as mpl\n",
    "import matplotlib.pyplot as plt\n",
    "%matplotlib inline\n",
    "import numpy as np\n",
    "import sklearn\n",
    "import pandas as pd\n",
    "import os\n",
    "import sys\n",
    "import time\n",
    "from tqdm.auto import tqdm\n",
    "import torch\n",
    "import torch.nn as nn\n",
    "import torch.nn.functional as F\n",
    "\n",
    "print(sys.version_info)\n",
    "for module in mpl, np, pd, sklearn, torch:\n",
    "    print(module.__name__, module.__version__)\n",
    "    \n",
    "device = torch.device(\"cuda:0\") if torch.cuda.is_available() else torch.device(\"cpu\")\n",
    "print(device)  #设备是cuda:0，即GPU，如果没有GPU则是cpu\n"
   ],
   "outputs": [
    {
     "name": "stdout",
     "output_type": "stream",
     "text": [
      "sys.version_info(major=3, minor=12, micro=3, releaselevel='final', serial=0)\n",
      "matplotlib 3.10.0\n",
      "numpy 2.0.2\n",
      "pandas 2.2.3\n",
      "sklearn 1.6.0\n",
      "torch 2.5.1+cu124\n",
      "cuda:0\n"
     ]
    }
   ],
   "execution_count": 1
  },
  {
   "metadata": {},
   "cell_type": "markdown",
   "source": "# 数据准备",
   "id": "e5f67b14ab931158"
  },
  {
   "metadata": {
    "ExecuteTime": {
     "end_time": "2025-01-16T14:53:13.278995Z",
     "start_time": "2025-01-16T14:53:09.589191Z"
    }
   },
   "cell_type": "code",
   "source": [
    "from torchvision import datasets\n",
    "from torchvision.transforms import ToTensor\n",
    "\n",
    "# fashion_mnist图像分类数据集\n",
    "train_ds = datasets.FashionMNIST(\n",
    "    root=\"../data1\",\n",
    "    train=True,\n",
    "    download=True,\n",
    "    transform=ToTensor() # 将图像数据转换为PyTorch张量\n",
    ")\n",
    "\n",
    "test_ds = datasets.FashionMNIST(\n",
    "    root=\"../data1\",\n",
    "    train=False,\n",
    "    download=True,\n",
    "    transform=ToTensor() # 将图像数据转换为PyTorch张量\n",
    ")\n",
    "\n",
    "# torchvision 数据集里没有提供训练集和验证集的划分\n",
    "# 当然也可以用 torch.utils.data.Dataset 实现人为划分"
   ],
   "id": "b443d1999bca20b7",
   "outputs": [],
   "execution_count": 2
  },
  {
   "metadata": {
    "ExecuteTime": {
     "end_time": "2025-01-16T14:53:38.103235Z",
     "start_time": "2025-01-16T14:53:38.100013Z"
    }
   },
   "cell_type": "code",
   "source": [
    "# 从数据集到dataloader\n",
    "train_loader = torch.utils.data.DataLoader(train_ds, batch_size=32, shuffle=True)\n",
    "val_loader = torch.utils.data.DataLoader(test_ds, batch_size=32, shuffle=False)"
   ],
   "id": "b0709dab6146197b",
   "outputs": [],
   "execution_count": 3
  },
  {
   "metadata": {},
   "cell_type": "markdown",
   "source": "# 定义模型",
   "id": "6a4da2cea7b24a11"
  },
  {
   "metadata": {
    "ExecuteTime": {
     "end_time": "2025-01-16T14:54:04.752357Z",
     "start_time": "2025-01-16T14:54:04.429657Z"
    }
   },
   "cell_type": "code",
   "source": [
    "class NeuralNetwork(nn.Module):\n",
    "    # 类的构造函数，用于初始化神经网络的结构\n",
    "    def __init__(self):\n",
    "        super().__init__()\n",
    "         # 定义一个展平层（Flatten），用于将输入的二维图像数据展平为一维向量\n",
    "        self.flatten = nn.Flatten()\n",
    "        self.linear_relu_stack = nn.Sequential(\n",
    "            nn.Linear(28 * 28, 300),  # in_features=784, out_features=300\n",
    "            nn.ReLU(),\n",
    "            nn.Linear(300, 100),\n",
    "            nn.ReLU(),\n",
    "            nn.Linear(100, 10),\n",
    "        )\n",
    "    # 定义前向传播函数，描述数据如何通过神经网络\n",
    "    def forward(self, x):\n",
    "        # x.shape [batch size, 1, 28, 28]\n",
    "        x = self.flatten(x)  \n",
    "        # 展平后 x.shape [batch size, 28 * 28]\n",
    "        logits = self.linear_relu_stack(x)\n",
    "        # logits.shape [batch size, 10]\n",
    "        return logits\n",
    "    \n",
    "model = NeuralNetwork()"
   ],
   "id": "45ccafa18b74760d",
   "outputs": [],
   "execution_count": 4
  },
  {
   "metadata": {},
   "cell_type": "markdown",
   "source": [
    "## 训练\n",
    "\n",
    "pytorch的训练需要自行实现，包括\n",
    "1. 定义损失函数\n",
    "2. 定义优化器\n",
    "3. 定义训练步\n",
    "4. 训练"
   ],
   "id": "4b376cf37c22a6ba"
  },
  {
   "metadata": {
    "ExecuteTime": {
     "end_time": "2025-01-16T14:56:41.060071Z",
     "start_time": "2025-01-16T14:56:40.700264Z"
    }
   },
   "cell_type": "code",
   "source": [
    "from sklearn.metrics import accuracy_score\n",
    "\n",
    "@torch.no_grad()\n",
    "def evaluating(model, dataloader, loss_fct):\n",
    "    loss_list = []\n",
    "    pred_list = []\n",
    "    label_list = []\n",
    "    for datas, labels in dataloader:\n",
    "        #datas.shape [batch size, 1, 28, 28]\n",
    "        #labels.shape [batch size]\n",
    "        datas = datas.to(device)\n",
    "        labels = labels.to(device)\n",
    "        # 前向计算\n",
    "        logits = model(datas)\n",
    "        loss = loss_fct(logits, labels)         # 验证集损失\n",
    "        loss_list.append(loss.item()) # tensor.item() 获取tensor的数值，loss是只有一个元素的tensor\n",
    "        \n",
    "        preds = logits.argmax(axis=-1)    # 验证集预测, axis=-1 表示最后一个维度,因为logits.shape [batch size, 10]，所以axis=-1表示对最后一个维度求argmax，即对每个样本的10个类别的概率求argmax，得到最大概率的类别, preds.shape [batch size]\n",
    "        pred_list.extend(preds.cpu().numpy().tolist()) # tensor转numpy，再转list\n",
    "        label_list.extend(labels.cpu().numpy().tolist())\n",
    "        \n",
    "    acc = accuracy_score(label_list, pred_list) # 验证集准确率\n",
    "    return np.mean(loss_list), acc # 返回验证集平均损失和准确率\n"
   ],
   "id": "b8bff301d05c3f48",
   "outputs": [],
   "execution_count": 5
  },
  {
   "metadata": {},
   "cell_type": "markdown",
   "source": "# TensorBoard 可视化",
   "id": "fb16c77748b147a1"
  },
  {
   "metadata": {
    "ExecuteTime": {
     "end_time": "2025-01-16T15:00:32.186042Z",
     "start_time": "2025-01-16T15:00:28.247356Z"
    }
   },
   "cell_type": "code",
   "source": [
    "from torch.utils.tensorboard import SummaryWriter\n",
    "\n",
    "\n",
    "class TensorBoardCallback:\n",
    "    def __init__(self, log_dir, flush_secs=10):\n",
    "        \"\"\"\n",
    "        Args:\n",
    "            log_dir (str): dir to write log.\n",
    "            flush_secs (int, optional): write to dsk each flush_secs seconds. Defaults to 10.\n",
    "        \"\"\"\n",
    "        self.writer = SummaryWriter(log_dir=log_dir, flush_secs=flush_secs) # 实例化SummaryWriter, log_dir是log存放路径，flush_secs是每隔多少秒写入磁盘\n",
    "\n",
    "    def draw_model(self, model, input_shape):#graphs\n",
    "        self.writer.add_graph(model, input_to_model=torch.randn(input_shape)) # 画模型图\n",
    "        \n",
    "    def add_loss_scalars(self, step, loss, val_loss):\n",
    "        self.writer.add_scalars(\n",
    "            main_tag=\"training/loss\", \n",
    "            tag_scalar_dict={\"loss\": loss, \"val_loss\": val_loss},\n",
    "            global_step=step,\n",
    "            ) # 画loss曲线, main_tag是主tag，tag_scalar_dict是子tag，global_step是步数\n",
    "        \n",
    "    def add_acc_scalars(self, step, acc, val_acc):\n",
    "        self.writer.add_scalars(\n",
    "            main_tag=\"training/accuracy\",\n",
    "            tag_scalar_dict={\"accuracy\": acc, \"val_accuracy\": val_acc},\n",
    "            global_step=step,\n",
    "        ) # 画acc曲线, main_tag是主tag，tag_scalar_dict是子tag，global_step是步数\n",
    "        \n",
    "    def add_lr_scalars(self, step, learning_rate):\n",
    "        self.writer.add_scalars(\n",
    "            main_tag=\"training/learning_rate\",\n",
    "            tag_scalar_dict={\"learning_rate\": learning_rate},\n",
    "            global_step=step,\n",
    "        ) # 画lr曲线, main_tag是主tag，tag_scalar_dict是子tag，global_step是步数\n",
    "    \n",
    "    def __call__(self, step, **kwargs):\n",
    "        # add loss,把loss，val_loss取掉，画loss曲线\n",
    "        loss = kwargs.pop(\"loss\", None)\n",
    "        val_loss = kwargs.pop(\"val_loss\", None)\n",
    "        if loss is not None and val_loss is not None:\n",
    "            self.add_loss_scalars(step, loss, val_loss) # 画loss曲线\n",
    "        # add acc\n",
    "        acc = kwargs.pop(\"acc\", None)\n",
    "        val_acc = kwargs.pop(\"val_acc\", None)\n",
    "        if acc is not None and val_acc is not None:\n",
    "            self.add_acc_scalars(step, acc, val_acc) # 画acc曲线\n",
    "        # add lr\n",
    "        learning_rate = kwargs.pop(\"lr\", None)\n",
    "        if learning_rate is not None:\n",
    "            self.add_lr_scalars(step, learning_rate) # 画lr曲线"
   ],
   "id": "eeb4e055be74023a",
   "outputs": [],
   "execution_count": 6
  },
  {
   "metadata": {},
   "cell_type": "markdown",
   "source": "# Save Best",
   "id": "20ea43540afb2c12"
  },
  {
   "metadata": {
    "ExecuteTime": {
     "end_time": "2025-01-16T15:01:55.192618Z",
     "start_time": "2025-01-16T15:01:55.188967Z"
    }
   },
   "cell_type": "code",
   "source": [
    "class SaveCheckpointsCallback:\n",
    "    def __init__(self, save_dir, save_step=500, save_best_only=True):\n",
    "        \"\"\"\n",
    "        Save checkpoints each save_epoch epoch. \n",
    "        We save checkpoint by epoch in this implementation.\n",
    "        Usually, training scripts with pytorch evaluating model and save checkpoint by step.\n",
    "\n",
    "        Args:\n",
    "            save_dir (str): dir to save checkpoint\n",
    "            save_epoch (int, optional): the frequency to save checkpoint. Defaults to 1.\n",
    "            save_best_only (bool, optional): If True, only save the best model or save each model at every epoch.\n",
    "        \"\"\"\n",
    "        self.save_dir = save_dir # 保存路径\n",
    "        self.save_step = save_step # 保存步数\n",
    "        self.save_best_only = save_best_only # 是否只保存最好的模型\n",
    "        self.best_metrics = -1 # 最好的指标，指标不可能为负数，所以初始化为-1\n",
    "        \n",
    "        # mkdir\n",
    "        if not os.path.exists(self.save_dir): # 如果不存在保存路径，则创建\n",
    "            os.mkdir(self.save_dir)\n",
    "        \n",
    "    def __call__(self, step, state_dict, metric=None):\n",
    "        if step % self.save_step > 0: #每隔save_step步保存一次\n",
    "            return\n",
    "        \n",
    "        if self.save_best_only:\n",
    "            assert metric is not None # 必须传入metric\n",
    "            if metric >= self.best_metrics:\n",
    "                # save checkpoints\n",
    "                torch.save(state_dict, os.path.join(self.save_dir, \"best.ckpt\")) # 保存最好的模型，覆盖之前的模型，不保存step，只保存state_dict，即模型参数，不保存优化器参数\n",
    "                # update best metrics\n",
    "                self.best_metrics = metric\n",
    "        else:\n",
    "            torch.save(state_dict, os.path.join(self.save_dir, f\"{step}.ckpt\")) # 保存每个step的模型，不覆盖之前的模型，保存step，保存state_dict，即模型参数，不保存优化器参数"
   ],
   "id": "34f2ffc88a64037a",
   "outputs": [],
   "execution_count": 7
  },
  {
   "metadata": {},
   "cell_type": "markdown",
   "source": "# Early Stop",
   "id": "cb43421b3c40479e"
  },
  {
   "metadata": {
    "ExecuteTime": {
     "end_time": "2025-01-16T15:02:21.424409Z",
     "start_time": "2025-01-16T15:02:21.421034Z"
    }
   },
   "cell_type": "code",
   "source": [
    "class EarlyStopCallback:\n",
    "    def __init__(self, patience=5, min_delta=0.01):\n",
    "        \"\"\"\n",
    "\n",
    "        Args:\n",
    "            patience (int, optional): Number of epochs with no improvement after which training will be stopped.. Defaults to 5.\n",
    "            min_delta (float, optional): Minimum change in the monitored quantity to qualify as an improvement, i.e. an absolute \n",
    "                change of less than min_delta, will count as no improvement. Defaults to 0.01.\n",
    "        \"\"\"\n",
    "        self.patience = patience # 多少个step没有提升就停止训练\n",
    "        self.min_delta = min_delta # 最小的提升幅度\n",
    "        self.best_metric = -1\n",
    "        self.counter = 0 # 计数器，记录多少个step没有提升\n",
    "        \n",
    "    def __call__(self, metric):\n",
    "        if metric >= self.best_metric + self.min_delta:#用准确率\n",
    "            # update best metric\n",
    "            self.best_metric = metric\n",
    "            # reset counter \n",
    "            self.counter = 0\n",
    "        else: \n",
    "            self.counter += 1 # 计数器加1，下面的patience判断用到\n",
    "            \n",
    "    @property #使用@property装饰器，使得 对象.early_stop可以调用，不需要()\n",
    "    def early_stop(self):\n",
    "        return self.counter >= self.patience\n"
   ],
   "id": "2deb4f02877df135",
   "outputs": [],
   "execution_count": 8
  },
  {
   "metadata": {
    "ExecuteTime": {
     "end_time": "2025-01-16T15:03:05.073769Z",
     "start_time": "2025-01-16T15:03:05.067941Z"
    }
   },
   "cell_type": "code",
   "source": [
    "# 训练\n",
    "def training(\n",
    "    model, \n",
    "    train_loader, \n",
    "    val_loader, \n",
    "    epoch, \n",
    "    loss_fct, \n",
    "    optimizer, \n",
    "    tensorboard_callback=None,\n",
    "    save_ckpt_callback=None,\n",
    "    early_stop_callback=None,\n",
    "    eval_step=500,\n",
    "    ):\n",
    "    record_dict = {\n",
    "        \"train\": [],\n",
    "        \"val\": []\n",
    "    }\n",
    "    \n",
    "    global_step = 0\n",
    "    model.train()\n",
    "    with tqdm(total=epoch * len(train_loader)) as pbar:\n",
    "        for epoch_id in range(epoch):\n",
    "            # training\n",
    "            for datas, labels in train_loader:\n",
    "                datas = datas.to(device) # 数据放到device上\n",
    "                labels = labels.to(device) # 标签放到device上\n",
    "                # 梯度清空\n",
    "                optimizer.zero_grad()\n",
    "                # 模型前向计算\n",
    "                logits = model(datas)\n",
    "                # 计算损失\n",
    "                loss = loss_fct(logits, labels)\n",
    "                # 梯度回传，计算梯度，更新参数，这里是更新模型参数\n",
    "                loss.backward()\n",
    "                # 调整优化器，包括学习率的变动等\n",
    "                optimizer.step()\n",
    "                preds = logits.argmax(axis=-1)\n",
    "            \n",
    "                acc = accuracy_score(labels.cpu().numpy(), preds.cpu().numpy())    \n",
    "                loss = loss.cpu().item()\n",
    "                # record\n",
    "                \n",
    "                record_dict[\"train\"].append({\n",
    "                    \"loss\": loss, \"acc\": acc, \"step\": global_step\n",
    "                })\n",
    "                \n",
    "                # evaluating\n",
    "                if global_step % eval_step == 0:\n",
    "                    model.eval()  # 切换到验证集模式\n",
    "                    val_loss, val_acc = evaluating(model, val_loader, loss_fct)\n",
    "                    record_dict[\"val\"].append({\n",
    "                        \"loss\": val_loss, \"acc\": val_acc, \"step\": global_step\n",
    "                    })\n",
    "                    model.train() # 切换回训练集模式\n",
    "                    \n",
    "                    # 1. 使用 tensorboard 可视化\n",
    "                    if tensorboard_callback is not None:\n",
    "                        tensorboard_callback(\n",
    "                            global_step, \n",
    "                            loss=loss, val_loss=val_loss,\n",
    "                            acc=acc, val_acc=val_acc,\n",
    "                            lr=optimizer.param_groups[0][\"lr\"], # 取出当前学习率\n",
    "                            )\n",
    "                    \n",
    "                    # 2. 保存模型权重 save model checkpoint\n",
    "                    if save_ckpt_callback is not None:\n",
    "                        save_ckpt_callback(global_step, model.state_dict(), metric=val_acc) # 保存最好的模型，覆盖之前的模型，保存step，保存state_dict,通过metric判断是否保存最好的模型\n",
    "\n",
    "                    # 3. 早停 Early Stop\n",
    "                    if early_stop_callback is not None:\n",
    "                        early_stop_callback(val_acc) # 验证集准确率不再提升，则停止训练\n",
    "                        if early_stop_callback.early_stop:# 验证集准确率不再提升，则停止训练\n",
    "                            print(f\"Early stop at epoch {epoch_id} / global_step {global_step}\")\n",
    "                            return record_dict\n",
    "                    \n",
    "                # udate step\n",
    "                global_step += 1\n",
    "                pbar.update(1)\n",
    "                pbar.set_postfix({\"epoch\": epoch_id})\n",
    "        \n",
    "    return record_dict"
   ],
   "id": "6fe286921c9ab06",
   "outputs": [],
   "execution_count": 9
  },
  {
   "metadata": {
    "ExecuteTime": {
     "end_time": "2025-01-16T15:03:21.225802Z",
     "start_time": "2025-01-16T15:03:20.051187Z"
    }
   },
   "cell_type": "code",
   "source": [
    "epoch = 100\n",
    "\n",
    "model = NeuralNetwork()\n",
    "\n",
    "# 1. 定义损失函数 采用MSE损失\n",
    "loss_fct = nn.CrossEntropyLoss()\n",
    "# 2. 定义优化器 采用SGD\n",
    "# Optimizers specified in the torch.optim package\n",
    "optimizer = torch.optim.SGD(model.parameters(), lr=0.001, momentum=0.9)\n",
    "\n",
    "# 1. tensorboard 可视化\n",
    "tensorboard_callback = TensorBoardCallback(\"runs\")\n",
    "tensorboard_callback.draw_model(model, [1, 28, 28])\n",
    "# 2. save best\n",
    "save_ckpt_callback = SaveCheckpointsCallback(\"checkpoints\", save_best_only=True)\n",
    "# 3. early stop\n",
    "early_stop_callback = EarlyStopCallback(patience=10)\n"
   ],
   "id": "7b6efee4f518811e",
   "outputs": [],
   "execution_count": 10
  },
  {
   "metadata": {
    "ExecuteTime": {
     "end_time": "2025-01-16T15:03:25.646959Z",
     "start_time": "2025-01-16T15:03:25.529570Z"
    }
   },
   "cell_type": "code",
   "source": "list(model.parameters())[1] #可学习的模型参数",
   "id": "5378adc191b1251c",
   "outputs": [
    {
     "data": {
      "text/plain": [
       "Parameter containing:\n",
       "tensor([ 2.9895e-02,  3.1775e-02,  5.3771e-03, -2.7685e-02, -2.3858e-02,\n",
       "         2.1217e-02,  1.8755e-02,  8.4018e-03,  3.0679e-03, -8.9084e-03,\n",
       "         3.2820e-02, -7.5525e-03, -2.1784e-02, -3.2239e-02,  2.6066e-02,\n",
       "        -2.3375e-02,  2.8627e-02, -1.4108e-04, -1.6864e-02,  1.8062e-02,\n",
       "         2.9628e-02, -3.4401e-03,  1.1199e-02,  3.2757e-02, -2.0734e-02,\n",
       "         1.3010e-03, -1.0061e-03, -1.2002e-03, -1.0775e-02,  5.3171e-03,\n",
       "         1.6520e-02, -3.0964e-02,  2.3957e-02, -3.4114e-02, -1.7965e-02,\n",
       "        -2.6689e-02,  2.5471e-02,  3.2534e-02,  3.2919e-02, -1.2516e-02,\n",
       "         2.3694e-02,  1.0209e-03,  9.0460e-03, -3.4080e-02, -1.1420e-02,\n",
       "        -1.7582e-02, -1.8037e-02,  4.9533e-03,  1.3448e-03,  1.8253e-02,\n",
       "        -6.2748e-03,  2.9677e-02,  3.3340e-02, -2.4101e-02, -8.1394e-03,\n",
       "         3.3384e-02,  2.3869e-02, -2.7466e-02,  3.0999e-02,  6.7469e-03,\n",
       "         1.7015e-02, -1.3120e-02, -8.9580e-03,  2.6249e-02,  1.6129e-02,\n",
       "        -1.9145e-02, -3.4353e-02,  1.5220e-02,  2.9007e-02,  3.3688e-02,\n",
       "        -9.1183e-03, -3.1992e-03,  1.5007e-02,  2.4272e-02,  1.2213e-02,\n",
       "         2.2166e-02, -3.0802e-04,  1.0529e-02, -2.8061e-02,  2.5349e-02,\n",
       "         2.1219e-02, -2.0679e-02,  1.3729e-02,  2.2385e-02,  8.9433e-03,\n",
       "        -2.2678e-02, -1.4786e-02, -1.4133e-02,  2.8449e-02,  1.9680e-02,\n",
       "        -3.1535e-02,  2.5495e-02, -2.5053e-02, -2.8529e-02, -2.4536e-02,\n",
       "        -8.0992e-03, -1.2341e-03,  1.8544e-02, -7.5490e-03,  1.2725e-02,\n",
       "        -2.3512e-02, -1.1513e-02,  2.4939e-02, -2.9364e-02, -1.8301e-02,\n",
       "         1.6034e-02, -2.5411e-02, -2.4968e-03,  2.4035e-02,  1.5466e-02,\n",
       "        -2.0881e-04,  2.3426e-02, -2.7221e-02, -2.2915e-02,  6.9042e-03,\n",
       "        -8.4758e-03,  1.3505e-02,  2.5698e-02, -1.3800e-03, -3.4103e-02,\n",
       "         4.2890e-03,  3.3184e-02,  2.5069e-02, -6.2118e-03,  2.2439e-02,\n",
       "         2.1005e-03, -1.0147e-02, -1.5025e-02, -1.3760e-02, -5.2209e-03,\n",
       "         9.5951e-03,  2.9337e-02, -5.5710e-03, -1.2383e-02, -4.1101e-03,\n",
       "        -1.4062e-02, -1.4523e-02,  7.6780e-03,  2.6210e-02, -2.6373e-02,\n",
       "         1.8011e-02, -3.4598e-02,  2.9800e-02, -2.6401e-02,  1.6312e-02,\n",
       "        -1.0298e-02,  6.8121e-03,  2.3159e-02, -2.6686e-02,  3.1395e-02,\n",
       "        -2.9227e-02, -4.2803e-03,  3.4917e-02,  1.9077e-02,  2.2765e-02,\n",
       "        -2.2563e-03, -3.3527e-02,  2.7873e-02, -1.6541e-02,  3.1395e-02,\n",
       "         2.6743e-02,  3.0473e-02, -2.3220e-02, -4.9175e-03, -5.4754e-03,\n",
       "         1.4590e-03, -2.4711e-02,  3.2487e-02, -1.9792e-02,  6.6501e-03,\n",
       "         3.2618e-02,  1.9587e-02,  1.6794e-02,  2.2347e-02, -1.0725e-02,\n",
       "         5.5308e-03,  3.0457e-02, -1.3445e-02,  8.0938e-04,  1.2291e-02,\n",
       "         8.1266e-03, -3.5402e-02,  1.5687e-02,  2.0929e-02, -1.8010e-02,\n",
       "        -1.1790e-02,  1.3093e-02,  1.7832e-02,  2.3668e-03,  6.9706e-03,\n",
       "        -1.0690e-02,  2.8503e-03,  2.9806e-02, -1.0643e-02, -2.4260e-02,\n",
       "         3.3567e-02,  2.0090e-02,  2.3134e-02,  2.1873e-02,  2.2763e-02,\n",
       "         1.8689e-03,  3.1775e-02, -1.0719e-02, -7.0617e-03,  3.5072e-02,\n",
       "         1.9174e-02,  1.0511e-02,  2.2651e-02, -2.0006e-02, -1.8587e-04,\n",
       "         6.4910e-03, -3.3367e-02, -6.2483e-03,  5.8251e-03,  9.8299e-05,\n",
       "         2.7503e-02,  1.6449e-02,  2.2531e-04,  2.7686e-02, -1.1209e-03,\n",
       "         2.3644e-02, -2.6556e-02,  2.9370e-02, -1.7040e-03,  3.5616e-02,\n",
       "         3.2233e-02, -3.2893e-02, -8.4143e-03, -5.1588e-03,  1.6038e-02,\n",
       "        -2.9434e-02, -1.0684e-02, -1.8789e-02,  3.0712e-02,  1.2019e-02,\n",
       "         1.5681e-02, -9.8548e-03, -3.5182e-02, -2.4844e-04,  2.5378e-02,\n",
       "         8.0671e-03, -8.2517e-03, -1.2277e-02,  2.9429e-02,  2.8936e-02,\n",
       "        -8.9857e-03,  3.3054e-02,  1.4185e-02,  2.6607e-02, -2.8711e-02,\n",
       "         1.0004e-02,  1.1270e-02,  8.6998e-04,  6.1764e-03,  1.1128e-02,\n",
       "        -1.1365e-02, -3.1109e-02,  1.0992e-02, -1.0105e-02,  3.0602e-02,\n",
       "         2.4525e-02,  2.0342e-02, -2.2557e-02, -6.6000e-03,  2.3730e-02,\n",
       "         1.6077e-02, -3.1257e-02, -3.2703e-02, -2.4240e-02,  1.2621e-02,\n",
       "         3.4366e-02,  2.8115e-02, -3.4034e-02,  2.8979e-02,  2.1305e-02,\n",
       "         1.4669e-02,  9.3191e-03,  8.3541e-03, -2.7224e-02,  3.2201e-03,\n",
       "         7.1996e-03,  3.3793e-02,  3.4362e-02,  9.2428e-03,  2.4904e-02,\n",
       "         1.9309e-02,  1.9818e-02,  2.6235e-02,  1.1558e-02, -2.3855e-02,\n",
       "         1.1578e-02, -3.6271e-03,  2.1025e-02, -6.4010e-04,  3.5454e-02,\n",
       "        -1.8444e-02,  2.6775e-02,  1.6309e-02,  3.3314e-02,  2.6812e-02],\n",
       "       requires_grad=True)"
      ]
     },
     "execution_count": 11,
     "metadata": {},
     "output_type": "execute_result"
    }
   ],
   "execution_count": 11
  },
  {
   "metadata": {
    "ExecuteTime": {
     "end_time": "2025-01-16T15:03:36.230545Z",
     "start_time": "2025-01-16T15:03:36.227292Z"
    }
   },
   "cell_type": "code",
   "source": "model.state_dict().keys() #模型参数名字",
   "id": "93d079937402aaa6",
   "outputs": [
    {
     "data": {
      "text/plain": [
       "odict_keys(['linear_relu_stack.0.weight', 'linear_relu_stack.0.bias', 'linear_relu_stack.2.weight', 'linear_relu_stack.2.bias', 'linear_relu_stack.4.weight', 'linear_relu_stack.4.bias'])"
      ]
     },
     "execution_count": 12,
     "metadata": {},
     "output_type": "execute_result"
    }
   ],
   "execution_count": 12
  },
  {
   "metadata": {
    "ExecuteTime": {
     "end_time": "2025-01-16T15:06:24.896878Z",
     "start_time": "2025-01-16T15:03:49.388167Z"
    }
   },
   "cell_type": "code",
   "source": [
    "model = model.to(device) # 放到device上\n",
    "record = training(\n",
    "    model,\n",
    "    train_loader,\n",
    "    val_loader,\n",
    "    epoch,\n",
    "    loss_fct,\n",
    "    optimizer,\n",
    "    tensorboard_callback=tensorboard_callback,\n",
    "    save_ckpt_callback=save_ckpt_callback,\n",
    "    early_stop_callback=early_stop_callback,\n",
    "    eval_step=1000\n",
    "    )\n",
    "#没有进度条，是因为pycharm本身jupyter的问题"
   ],
   "id": "cd29fcc885610300",
   "outputs": [
    {
     "data": {
      "text/plain": [
       "  0%|          | 0/187500 [00:00<?, ?it/s]"
      ],
      "application/vnd.jupyter.widget-view+json": {
       "version_major": 2,
       "version_minor": 0,
       "model_id": "92406e9c51bf45f796103aa5fb89f04e"
      }
     },
     "metadata": {},
     "output_type": "display_data"
    },
    {
     "name": "stdout",
     "output_type": "stream",
     "text": [
      "Early stop at epoch 20 / global_step 39000\n"
     ]
    }
   ],
   "execution_count": 13
  },
  {
   "metadata": {
    "ExecuteTime": {
     "end_time": "2025-01-16T15:07:24.119018Z",
     "start_time": "2025-01-16T15:07:23.816436Z"
    }
   },
   "cell_type": "code",
   "source": [
    "#画线要注意的是损失是不一定在零到1之间的\n",
    "def plot_learning_curves(record_dict, sample_step=500):\n",
    "    # build DataFrame\n",
    "    train_df = pd.DataFrame(record_dict[\"train\"]).set_index(\"step\").iloc[::sample_step]\n",
    "    val_df = pd.DataFrame(record_dict[\"val\"]).set_index(\"step\")\n",
    "    print(train_df.head())\n",
    "    print(val_df.head())\n",
    "    # plot\n",
    "    fig_num = len(train_df.columns) #因为有loss和acc两个指标，所以画个子图\n",
    "    fig, axs = plt.subplots(1, fig_num, figsize=(5 * fig_num, 5)) #fig_num个子图，figsize是子图大小\n",
    "    for idx, item in enumerate(train_df.columns):    \n",
    "        #index是步数，item是指标名字\n",
    "        axs[idx].plot(train_df.index, train_df[item], label=f\"train_{item}\")\n",
    "        axs[idx].plot(val_df.index, val_df[item], label=f\"val_{item}\")\n",
    "        axs[idx].grid()\n",
    "        axs[idx].legend()\n",
    "        x_data=range(0, train_df.index[-1], 5000) #每隔5000步标出一个点\n",
    "        axs[idx].set_xticks(x_data)\n",
    "        axs[idx].set_xticklabels(map(lambda x: f\"{int(x/1000)}k\", x_data)) #map生成labal\n",
    "        axs[idx].set_xlabel(\"step\")\n",
    "    \n",
    "    plt.show()\n",
    "\n",
    "plot_learning_curves(record, sample_step=500)  #横坐标是 steps"
   ],
   "id": "3ec938d8b71b3416",
   "outputs": [
    {
     "name": "stdout",
     "output_type": "stream",
     "text": [
      "          loss      acc\n",
      "step                   \n",
      "0     2.287996  0.25000\n",
      "500   1.299415  0.62500\n",
      "1000  0.797503  0.62500\n",
      "1500  1.003862  0.53125\n",
      "2000  0.631015  0.71875\n",
      "          loss     acc\n",
      "step                  \n",
      "0     2.310094  0.1264\n",
      "1000  0.841343  0.6735\n",
      "2000  0.665211  0.7652\n",
      "3000  0.583724  0.7915\n",
      "4000  0.549049  0.8059\n"
     ]
    },
    {
     "data": {
      "text/plain": [
       "<Figure size 1000x500 with 2 Axes>"
      ],
      "image/png": "[encoded data removed]"
     },
     "metadata": {},
     "output_type": "display_data"
    }
   ],
   "execution_count": 14
  },
  {
   "metadata": {},
   "cell_type": "markdown",
   "source": "# 评估",
   "id": "a1b2052087a5f7f1"
  },
  {
   "metadata": {
    "ExecuteTime": {
     "end_time": "2025-01-16T15:07:48.628882Z",
     "start_time": "2025-01-16T15:07:48.625045Z"
    }
   },
   "cell_type": "code",
   "source": [
    "model = NeuralNetwork() #上线时加载模型\n",
    "model = model.to(device)"
   ],
   "id": "45097915bd529dc9",
   "outputs": [],
   "execution_count": 15
  },
  {
   "metadata": {
    "ExecuteTime": {
     "end_time": "2025-01-16T15:08:02.747986Z",
     "start_time": "2025-01-16T15:08:02.026979Z"
    }
   },
   "cell_type": "code",
   "source": [
    "# dataload for evaluating\n",
    "#模型保存有两种情况，一种是模型结构和模型参数都保存，一种是只保存模型参数，这里是只保存模型参数，所以需要加上weights_only=True\n",
    "# load checkpoints\n",
    "model.load_state_dict(torch.load(\"checkpoints/best.ckpt\", weights_only=True,map_location=\"cpu\"))\n",
    "\n",
    "model.eval()\n",
    "loss, acc = evaluating(model, val_loader, loss_fct)\n",
    "print(f\"loss:     {loss:.4f}\\naccuracy: {acc:.4f}\")"
   ],
   "id": "d60ef0e331c964d8",
   "outputs": [
    {
     "name": "stdout",
     "output_type": "stream",
     "text": [
      "loss:     0.3411\n",
      "accuracy: 0.8779\n"
     ]
    }
   ],
   "execution_count": 16
  }
 ],
 "metadata": {
  "kernelspec": {
   "display_name": "Python 3",
   "language": "python",
   "name": "python3"
  },
  "language_info": {
   "codemirror_mode": {
    "name": "ipython",
    "version": 2
   },
   "file_extension": ".py",
   "mimetype": "text/x-python",
   "name": "python",
   "nbconvert_exporter": "python",
   "pygments_lexer": "ipython2",
   "version": "2.7.6"
  }
 },
 "nbformat": 4,
 "nbformat_minor": 5
}
