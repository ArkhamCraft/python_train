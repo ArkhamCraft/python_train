{
 "cells": [
  {
   "cell_type": "code",
   "execution_count": 1,
   "metadata": {
    "ExecuteTime": {
     "end_time": "2025-01-20T07:41:29.893914Z",
     "start_time": "2025-01-20T07:41:27.487296Z"
    },
    "execution": {
     "iopub.execute_input": "2025-01-22T14:08:43.631952Z",
     "iopub.status.busy": "2025-01-22T14:08:43.631793Z",
     "iopub.status.idle": "2025-01-22T14:08:48.881036Z",
     "shell.execute_reply": "2025-01-22T14:08:48.880441Z",
     "shell.execute_reply.started": "2025-01-22T14:08:43.631924Z"
    },
    "tags": []
   },
   "outputs": [
    {
     "name": "stderr",
     "output_type": "stream",
     "text": [
      "/usr/local/lib/python3.10/site-packages/tqdm/auto.py:21: TqdmWarning: IProgress not found. Please update jupyter and ipywidgets. See https://ipywidgets.readthedocs.io/en/stable/user_install.html\n",
      "  from .autonotebook import tqdm as notebook_tqdm\n"
     ]
    },
    {
     "name": "stdout",
     "output_type": "stream",
     "text": [
      "sys.version_info(major=3, minor=10, micro=14, releaselevel='final', serial=0)\n",
      "matplotlib 3.10.0\n",
      "numpy 1.26.4\n",
      "pandas 2.2.3\n",
      "sklearn 1.6.0\n",
      "torch 2.5.1+cu124\n",
      "cuda:0\n"
     ]
    }
   ],
   "source": [
    "import matplotlib as mpl\n",
    "import matplotlib.pyplot as plt\n",
    "%matplotlib inline\n",
    "import numpy as np\n",
    "import sklearn\n",
    "import pandas as pd\n",
    "import os\n",
    "import sys\n",
    "import time\n",
    "from tqdm.auto import tqdm\n",
    "import torch\n",
    "import torch.nn as nn\n",
    "import torch.nn.functional as F\n",
    "\n",
    "print(sys.version_info)\n",
    "for module in mpl, np, pd, sklearn, torch:\n",
    "    print(module.__name__, module.__version__)\n",
    "    \n",
    "device = torch.device(\"cuda:0\") if torch.cuda.is_available() else torch.device(\"cpu\")\n",
    "print(device)\n",
    "\n",
    "seed = 42\n"
   ]
  },
  {
   "cell_type": "markdown",
   "metadata": {},
   "source": [
    "# 数据准备"
   ]
  },
  {
   "cell_type": "code",
   "execution_count": 2,
   "metadata": {
    "execution": {
     "iopub.execute_input": "2025-01-22T14:08:48.882606Z",
     "iopub.status.busy": "2025-01-22T14:08:48.882195Z",
     "iopub.status.idle": "2025-01-22T14:08:49.640658Z",
     "shell.execute_reply": "2025-01-22T14:08:49.640036Z",
     "shell.execute_reply.started": "2025-01-22T14:08:48.882584Z"
    },
    "tags": []
   },
   "outputs": [
    {
     "name": "stdout",
     "output_type": "stream",
     "text": [
      "- path is now set to: /content\n"
     ]
    }
   ],
   "source": [
    "!mkdir -p ~/.kaggle\n",
    "!cp /mnt/workspace/kaggle.json ~/.kaggle/\n",
    "!chmod 600 ~/.kaggle/kaggle.json\n",
    "!kaggle config set -n path -v /content"
   ]
  },
  {
   "cell_type": "code",
   "execution_count": 3,
   "metadata": {
    "execution": {
     "iopub.execute_input": "2025-01-22T14:08:49.641549Z",
     "iopub.status.busy": "2025-01-22T14:08:49.641346Z",
     "iopub.status.idle": "2025-01-22T14:08:49.758594Z",
     "shell.execute_reply": "2025-01-22T14:08:49.757976Z",
     "shell.execute_reply.started": "2025-01-22T14:08:49.641527Z"
    },
    "tags": []
   },
   "outputs": [
    {
     "name": "stdout",
     "output_type": "stream",
     "text": [
      "cifar-10.zip\n"
     ]
    }
   ],
   "source": [
    "!ls /content/competitions/cifar-10/"
   ]
  },
  {
   "cell_type": "code",
   "execution_count": 4,
   "metadata": {
    "ExecutionIndicator": {
     "show": true
    },
    "execution": {
     "iopub.execute_input": "2025-01-22T14:08:49.759511Z",
     "iopub.status.busy": "2025-01-22T14:08:49.759307Z",
     "iopub.status.idle": "2025-01-22T14:08:49.762327Z",
     "shell.execute_reply": "2025-01-22T14:08:49.761781Z",
     "shell.execute_reply.started": "2025-01-22T14:08:49.759480Z"
    },
    "tags": []
   },
   "outputs": [],
   "source": [
    "# !unzip /content/competitions/cifar-10/cifar-10.zip"
   ]
  },
  {
   "cell_type": "code",
   "execution_count": 5,
   "metadata": {
    "execution": {
     "iopub.execute_input": "2025-01-22T14:08:49.763111Z",
     "iopub.status.busy": "2025-01-22T14:08:49.762924Z",
     "iopub.status.idle": "2025-01-22T14:08:49.878958Z",
     "shell.execute_reply": "2025-01-22T14:08:49.878357Z",
     "shell.execute_reply.started": "2025-01-22T14:08:49.763092Z"
    },
    "tags": []
   },
   "outputs": [
    {
     "name": "stdout",
     "output_type": "stream",
     "text": [
      "10_monkeys_cnn.ipynb\t   cnn.ipynb\t       runs\n",
      "10_monkeys_resnet50.ipynb  cnn-selu.ipynb      sampleSubmission.csv\n",
      "深度分离卷积.ipynb\t   competitions        test.7z\n",
      "checkpoints\t\t   model_architecture  train.7z\n",
      "cifar10.ipynb\t\t   model_CNN\t       trainLabels.csv\n"
     ]
    }
   ],
   "source": [
    "!ls"
   ]
  },
  {
   "cell_type": "code",
   "execution_count": 6,
   "metadata": {
    "ExecutionIndicator": {
     "show": true
    },
    "execution": {
     "iopub.execute_input": "2025-01-22T14:08:49.879872Z",
     "iopub.status.busy": "2025-01-22T14:08:49.879673Z",
     "iopub.status.idle": "2025-01-22T14:09:10.730165Z",
     "shell.execute_reply": "2025-01-22T14:09:10.729586Z",
     "shell.execute_reply.started": "2025-01-22T14:08:49.879850Z"
    },
    "tags": []
   },
   "outputs": [
    {
     "name": "stdout",
     "output_type": "stream",
     "text": [
      "Looking in indexes: https://mirrors.cloud.aliyuncs.com/pypi/simple\n",
      "Requirement already satisfied: py7zr in /usr/local/lib/python3.10/site-packages (0.22.0)\n",
      "Requirement already satisfied: texttable in /usr/local/lib/python3.10/site-packages (from py7zr) (1.7.0)\n",
      "Requirement already satisfied: pycryptodomex>=3.16.0 in /usr/local/lib/python3.10/site-packages (from py7zr) (3.21.0)\n",
      "Requirement already satisfied: pyzstd>=0.15.9 in /usr/local/lib/python3.10/site-packages (from py7zr) (0.16.2)\n",
      "Requirement already satisfied: pyppmd<1.2.0,>=1.1.0 in /usr/local/lib/python3.10/site-packages (from py7zr) (1.1.1)\n",
      "Requirement already satisfied: pybcj<1.1.0,>=1.0.0 in /usr/local/lib/python3.10/site-packages (from py7zr) (1.0.3)\n",
      "Requirement already satisfied: multivolumefile>=0.2.3 in /usr/local/lib/python3.10/site-packages (from py7zr) (0.2.3)\n",
      "Requirement already satisfied: inflate64<1.1.0,>=1.0.0 in /usr/local/lib/python3.10/site-packages (from py7zr) (1.0.1)\n",
      "Requirement already satisfied: brotli>=1.1.0 in /usr/local/lib/python3.10/site-packages (from py7zr) (1.1.0)\n",
      "Requirement already satisfied: psutil in /usr/local/lib/python3.10/site-packages (from py7zr) (6.1.1)\n",
      "\u001b[33mWARNING: Running pip as the 'root' user can result in broken permissions and conflicting behaviour with the system package manager. It is recommended to use a virtual environment instead: https://pip.pypa.io/warnings/venv\u001b[0m\u001b[33m\n",
      "\u001b[0m\n",
      "\u001b[1m[\u001b[0m\u001b[34;49mnotice\u001b[0m\u001b[1;39;49m]\u001b[0m\u001b[39;49m A new release of pip is available: \u001b[0m\u001b[31;49m23.3.2\u001b[0m\u001b[39;49m -> \u001b[0m\u001b[32;49m24.3.1\u001b[0m\n",
      "\u001b[1m[\u001b[0m\u001b[34;49mnotice\u001b[0m\u001b[1;39;49m]\u001b[0m\u001b[39;49m To update, run: \u001b[0m\u001b[32;49mpip install --upgrade pip\u001b[0m\n",
      "Note: you may need to restart the kernel to use updated packages.\n"
     ]
    }
   ],
   "source": [
    "%pip install py7zr\n",
    "import py7zr\n",
    "a =py7zr.SevenZipFile(r'./train.7z','r')\n",
    "a.extractall(path=r'./competitions/cifar-10/')\n",
    "a.close()"
   ]
  },
  {
   "cell_type": "code",
   "execution_count": 7,
   "metadata": {
    "ExecutionIndicator": {
     "show": true
    },
    "execution": {
     "iopub.execute_input": "2025-01-22T14:09:10.732400Z",
     "iopub.status.busy": "2025-01-22T14:09:10.732025Z",
     "iopub.status.idle": "2025-01-22T14:10:48.073858Z",
     "shell.execute_reply": "2025-01-22T14:10:48.073325Z",
     "shell.execute_reply.started": "2025-01-22T14:09:10.732378Z"
    },
    "tags": []
   },
   "outputs": [],
   "source": [
    "a =py7zr.SevenZipFile(r'./test.7z','r')\n",
    "a.extractall(path=r'./competitions/cifar-10/')\n",
    "a.close()"
   ]
  },
  {
   "cell_type": "code",
   "execution_count": 8,
   "metadata": {
    "ExecutionIndicator": {
     "show": false
    },
    "execution": {
     "iopub.execute_input": "2025-01-22T14:10:48.074670Z",
     "iopub.status.busy": "2025-01-22T14:10:48.074482Z",
     "iopub.status.idle": "2025-01-22T14:10:48.267858Z",
     "shell.execute_reply": "2025-01-22T14:10:48.267224Z",
     "shell.execute_reply.started": "2025-01-22T14:10:48.074651Z"
    },
    "tags": []
   },
   "outputs": [
    {
     "name": "stdout",
     "output_type": "stream",
     "text": [
      "50000\n"
     ]
    }
   ],
   "source": [
    "!ls competitions/cifar-10/train/ |wc -l  #wc -l统计数量"
   ]
  },
  {
   "cell_type": "code",
   "execution_count": 9,
   "metadata": {
    "ExecutionIndicator": {
     "show": true
    },
    "execution": {
     "iopub.execute_input": "2025-01-22T14:10:48.268879Z",
     "iopub.status.busy": "2025-01-22T14:10:48.268611Z",
     "iopub.status.idle": "2025-01-22T14:10:48.458888Z",
     "shell.execute_reply": "2025-01-22T14:10:48.458281Z",
     "shell.execute_reply.started": "2025-01-22T14:10:48.268857Z"
    },
    "tags": []
   },
   "outputs": [
    {
     "name": "stdout",
     "output_type": "stream",
     "text": [
      "50000\n"
     ]
    }
   ],
   "source": [
    "!ls competitions/cifar-10/train/ |wc -l "
   ]
  },
  {
   "cell_type": "code",
   "execution_count": 10,
   "metadata": {
    "ExecuteTime": {
     "end_time": "2025-01-20T07:51:56.103713Z",
     "start_time": "2025-01-20T07:51:54.990355Z"
    },
    "ExecutionIndicator": {
     "show": true
    },
    "execution": {
     "iopub.execute_input": "2025-01-22T14:10:48.459852Z",
     "iopub.status.busy": "2025-01-22T14:10:48.459643Z",
     "iopub.status.idle": "2025-01-22T14:10:50.736569Z",
     "shell.execute_reply": "2025-01-22T14:10:50.736071Z",
     "shell.execute_reply.started": "2025-01-22T14:10:48.459830Z"
    },
    "tags": []
   },
   "outputs": [
    {
     "name": "stdout",
     "output_type": "stream",
     "text": [
      "[(PosixPath('competitions/cifar-10/train/1.png'), 'frog'),\n",
      " (PosixPath('competitions/cifar-10/train/2.png'), 'truck'),\n",
      " (PosixPath('competitions/cifar-10/train/3.png'), 'truck'),\n",
      " (PosixPath('competitions/cifar-10/train/4.png'), 'deer'),\n",
      " (PosixPath('competitions/cifar-10/train/5.png'), 'automobile')]\n",
      "[(PosixPath('competitions/cifar-10/test/1.png'), 'cat'),\n",
      " (PosixPath('competitions/cifar-10/test/2.png'), 'cat'),\n",
      " (PosixPath('competitions/cifar-10/test/3.png'), 'cat'),\n",
      " (PosixPath('competitions/cifar-10/test/4.png'), 'cat'),\n",
      " (PosixPath('competitions/cifar-10/test/5.png'), 'cat')]\n",
      "50000 300000\n"
     ]
    }
   ],
   "source": [
    "from pathlib import Path\n",
    "\n",
    "DATA_DIR = Path(\".\")\n",
    "DATA_DIR1 =Path(\"competitions/cifar-10/\")\n",
    "train_lables_file = DATA_DIR / \"trainLabels.csv\"\n",
    "test_csv_file = DATA_DIR / \"sampleSubmission.csv\" #测试集模板csv文件\n",
    "train_folder = DATA_DIR1 / \"train\"\n",
    "test_folder = DATA_DIR1 / \"test\"\n",
    "\n",
    "#所有的类别\n",
    "class_names = [\n",
    "    'airplane',\n",
    "    'automobile',\n",
    "    'bird',\n",
    "    'cat',\n",
    "    'deer',\n",
    "    'dog',\n",
    "    'frog',\n",
    "    'horse',\n",
    "    'ship',\n",
    "    'truck',\n",
    "]\n",
    "\n",
    "def parse_csv_file(filepath, folder): #filepath:csv文件路径，folder:图片所在文件夹\n",
    "    \"\"\"Parses csv files into (filename(path), label) format\"\"\"\n",
    "    results = []\n",
    "    #读取所有行\n",
    "    with open(filepath, 'r') as f:\n",
    "#         lines = f.readlines()  为什么加[1:]，可以试这个\n",
    "        #第一行不需要，因为第一行是标题\n",
    "        lines = f.readlines()[1:] \n",
    "    for line in lines:#依次去取每一行\n",
    "        image_id, label_str = line.strip('\\n').split(',') #图片id 和标签分离\n",
    "        image_full_path = folder / f\"{image_id}.png\"\n",
    "        results.append((image_full_path, label_str)) #得到对应图片的路径和分类\n",
    "    return results\n",
    "\n",
    "#解析对应的文件夹\n",
    "train_labels_info = parse_csv_file(train_lables_file, train_folder)\n",
    "test_csv_info = parse_csv_file(test_csv_file, test_folder)\n",
    "#打印\n",
    "import pprint\n",
    "pprint.pprint(train_labels_info[0:5])\n",
    "pprint.pprint(test_csv_info[0:5])\n",
    "print(len(train_labels_info), len(test_csv_info))"
   ]
  },
  {
   "cell_type": "code",
   "execution_count": 11,
   "metadata": {
    "ExecuteTime": {
     "end_time": "2025-01-20T07:52:54.792839Z",
     "start_time": "2025-01-20T07:52:54.757327Z"
    },
    "ExecutionIndicator": {
     "show": true
    },
    "execution": {
     "iopub.execute_input": "2025-01-22T14:10:50.737435Z",
     "iopub.status.busy": "2025-01-22T14:10:50.737237Z",
     "iopub.status.idle": "2025-01-22T14:10:50.798552Z",
     "shell.execute_reply": "2025-01-22T14:10:50.798066Z",
     "shell.execute_reply.started": "2025-01-22T14:10:50.737415Z"
    },
    "tags": []
   },
   "outputs": [
    {
     "name": "stdout",
     "output_type": "stream",
     "text": [
      "                            filepath       class\n",
      "0  competitions/cifar-10/train/1.png        frog\n",
      "1  competitions/cifar-10/train/2.png       truck\n",
      "2  competitions/cifar-10/train/3.png       truck\n",
      "3  competitions/cifar-10/train/4.png        deer\n",
      "4  competitions/cifar-10/train/5.png  automobile\n",
      "                                filepath       class\n",
      "0  competitions/cifar-10/train/45001.png       horse\n",
      "1  competitions/cifar-10/train/45002.png  automobile\n",
      "2  competitions/cifar-10/train/45003.png        deer\n",
      "3  competitions/cifar-10/train/45004.png  automobile\n",
      "4  competitions/cifar-10/train/45005.png    airplane\n",
      "                           filepath class\n",
      "0  competitions/cifar-10/test/1.png   cat\n",
      "1  competitions/cifar-10/test/2.png   cat\n",
      "2  competitions/cifar-10/test/3.png   cat\n",
      "3  competitions/cifar-10/test/4.png   cat\n",
      "4  competitions/cifar-10/test/5.png   cat\n"
     ]
    }
   ],
   "source": [
    "# train_df = pd.DataFrame(train_labels_info)\n",
    "train_df = pd.DataFrame(train_labels_info[0:45000]) # 取前45000张图片作为训练集\n",
    "valid_df = pd.DataFrame(train_labels_info[45000:]) # 取后5000张图片作为验证集\n",
    "test_df = pd.DataFrame(test_csv_info)\n",
    "\n",
    "train_df.columns = ['filepath', 'class']\n",
    "valid_df.columns = ['filepath', 'class']\n",
    "test_df.columns = ['filepath', 'class']\n",
    "\n",
    "print(train_df.head())\n",
    "print(valid_df.head())\n",
    "print(test_df.head())"
   ]
  },
  {
   "cell_type": "code",
   "execution_count": 12,
   "metadata": {
    "ExecuteTime": {
     "end_time": "2025-01-20T08:08:23.507372Z",
     "start_time": "2025-01-20T08:08:22.474521Z"
    },
    "ExecutionIndicator": {
     "show": true
    },
    "execution": {
     "iopub.execute_input": "2025-01-22T14:10:50.799405Z",
     "iopub.status.busy": "2025-01-22T14:10:50.799162Z",
     "iopub.status.idle": "2025-01-22T14:10:53.153947Z",
     "shell.execute_reply": "2025-01-22T14:10:53.153415Z",
     "shell.execute_reply.started": "2025-01-22T14:10:50.799384Z"
    },
    "tags": []
   },
   "outputs": [],
   "source": [
    "from PIL import Image\n",
    "from torch.utils.data import Dataset, DataLoader\n",
    "from torchvision import transforms\n",
    "\n",
    "class Cifar10Dataset(Dataset):\n",
    "    df_map = {\n",
    "        \"train\": train_df,\n",
    "        \"eval\": valid_df,\n",
    "        \"test\": test_df\n",
    "    }\n",
    "    label_to_idx = {label: idx for idx, label in enumerate(class_names)} # 类别映射为idx\n",
    "    idx_to_label = {idx: label for idx, label in enumerate(class_names)} # idx映射为类别,为了test测试集使用\n",
    "    def __init__(self, mode, transform=None):\n",
    "        self.df = self.df_map.get(mode, None) # 获取对应模式的df，不同字符串对应不同模式\n",
    "        if self.df is None:\n",
    "            raise ValueError(\"mode should be one of train, val, test, but got {}\".format(mode))\n",
    "        # assert self.df, \"df is None\"\n",
    "        self.transform = transform\n",
    "        \n",
    "    def __getitem__(self, index):\n",
    "        img_path, label = self.df.iloc[index] # 获取图片路径和标签\n",
    "        img = Image.open(img_path).convert('RGB')\n",
    "        # # img 转换为 channel first\n",
    "        # img = img.transpose((2, 0, 1))\n",
    "        # transform\n",
    "        img = self.transform(img) # 数据增强\n",
    "        # label 转换为 idx\n",
    "        label = self.label_to_idx[label]\n",
    "        return img, label\n",
    "    \n",
    "    def __len__(self):\n",
    "        return self.df.shape[0] # 返回df的行数,样本数\n",
    "    \n",
    "IMAGE_SIZE = 32\n",
    "mean, std = [0.4914, 0.4822, 0.4465], [0.247, 0.243, 0.261]\n",
    "\n",
    "transforms_train = transforms.Compose([\n",
    "        # resize\n",
    "        transforms.Resize((IMAGE_SIZE, IMAGE_SIZE)), #缩放\n",
    "        # random rotation 40\n",
    "        transforms.RandomRotation(40), #随机旋转\n",
    "        # horizaontal flip\n",
    "        transforms.RandomHorizontalFlip(),  #随机水平翻转\n",
    "        transforms.ToTensor(), #转换为tensor\n",
    "        # transforms.Normalize(mean, std) #标准化\n",
    "    ]) #数据增强\n",
    "\n",
    "transforms_eval = transforms.Compose([\n",
    "        # resize\n",
    "        transforms.Resize((IMAGE_SIZE, IMAGE_SIZE)),\n",
    "        transforms.ToTensor(),\n",
    "        # transforms.Normalize(mean, std)\n",
    "    ])\n",
    "# ToTensor还将图像的维度从[height, width, channels]转换为[channels, height, width]。\n",
    "train_ds = Cifar10Dataset(\"train\", transforms_train)\n",
    "eval_ds = Cifar10Dataset(\"eval\", transforms_eval)"
   ]
  },
  {
   "cell_type": "code",
   "execution_count": 13,
   "metadata": {
    "ExecutionIndicator": {
     "show": true
    },
    "execution": {
     "iopub.execute_input": "2025-01-22T14:10:53.154929Z",
     "iopub.status.busy": "2025-01-22T14:10:53.154571Z",
     "iopub.status.idle": "2025-01-22T14:10:53.213356Z",
     "shell.execute_reply": "2025-01-22T14:10:53.212890Z",
     "shell.execute_reply.started": "2025-01-22T14:10:53.154906Z"
    },
    "tags": []
   },
   "outputs": [
    {
     "data": {
      "text/plain": [
       "6"
      ]
     },
     "execution_count": 13,
     "metadata": {},
     "output_type": "execute_result"
    }
   ],
   "source": [
    "train_ds[0][1]"
   ]
  },
  {
   "cell_type": "code",
   "execution_count": 14,
   "metadata": {
    "ExecutionIndicator": {
     "show": true
    },
    "execution": {
     "iopub.execute_input": "2025-01-22T14:10:53.214355Z",
     "iopub.status.busy": "2025-01-22T14:10:53.213934Z",
     "iopub.status.idle": "2025-01-22T14:10:53.219956Z",
     "shell.execute_reply": "2025-01-22T14:10:53.219440Z",
     "shell.execute_reply.started": "2025-01-22T14:10:53.214335Z"
    },
    "tags": []
   },
   "outputs": [
    {
     "data": {
      "text/plain": [
       "228.09412"
      ]
     },
     "execution_count": 14,
     "metadata": {},
     "output_type": "execute_result"
    }
   ],
   "source": [
    "sample1=train_ds[0][0]\n",
    "np.sum(sample1[2].numpy())"
   ]
  },
  {
   "cell_type": "code",
   "execution_count": 15,
   "metadata": {
    "ExecuteTime": {
     "end_time": "2024-07-24T12:26:52.532323800Z",
     "start_time": "2024-07-24T12:26:52.525328700Z"
    },
    "collapsed": false,
    "execution": {
     "iopub.execute_input": "2025-01-22T14:10:53.220979Z",
     "iopub.status.busy": "2025-01-22T14:10:53.220573Z",
     "iopub.status.idle": "2025-01-22T14:10:53.225182Z",
     "shell.execute_reply": "2025-01-22T14:10:53.224735Z",
     "shell.execute_reply.started": "2025-01-22T14:10:53.220949Z"
    },
    "jupyter": {
     "outputs_hidden": false
    },
    "tags": []
   },
   "outputs": [
    {
     "name": "stdout",
     "output_type": "stream",
     "text": [
      "{0: 'airplane', 1: 'automobile', 2: 'bird', 3: 'cat', 4: 'deer', 5: 'dog', 6: 'frog', 7: 'horse', 8: 'ship', 9: 'truck'}\n"
     ]
    },
    {
     "data": {
      "text/plain": [
       "{'airplane': 0,\n",
       " 'automobile': 1,\n",
       " 'bird': 2,\n",
       " 'cat': 3,\n",
       " 'deer': 4,\n",
       " 'dog': 5,\n",
       " 'frog': 6,\n",
       " 'horse': 7,\n",
       " 'ship': 8,\n",
       " 'truck': 9}"
      ]
     },
     "execution_count": 15,
     "metadata": {},
     "output_type": "execute_result"
    }
   ],
   "source": [
    "print(train_ds.idx_to_label)  # 类别映射为idx\n",
    "train_ds.label_to_idx # idx映射为类别"
   ]
  },
  {
   "cell_type": "code",
   "execution_count": 16,
   "metadata": {
    "ExecuteTime": {
     "end_time": "2025-01-20T08:08:29.255263Z",
     "start_time": "2025-01-20T08:08:29.252817Z"
    },
    "execution": {
     "iopub.execute_input": "2025-01-22T14:10:53.225969Z",
     "iopub.status.busy": "2025-01-22T14:10:53.225687Z",
     "iopub.status.idle": "2025-01-22T14:10:53.228824Z",
     "shell.execute_reply": "2025-01-22T14:10:53.228339Z",
     "shell.execute_reply.started": "2025-01-22T14:10:53.225950Z"
    },
    "tags": []
   },
   "outputs": [],
   "source": [
    "batch_size = 64\n",
    "train_dl = DataLoader(train_ds, batch_size=batch_size, shuffle=True)   \n",
    "eval_dl = DataLoader(eval_ds, batch_size=batch_size, shuffle=False)"
   ]
  },
  {
   "cell_type": "code",
   "execution_count": 17,
   "metadata": {
    "ExecutionIndicator": {
     "show": true
    },
    "execution": {
     "iopub.execute_input": "2025-01-22T14:10:53.229676Z",
     "iopub.status.busy": "2025-01-22T14:10:53.229410Z",
     "iopub.status.idle": "2025-01-22T14:11:12.950114Z",
     "shell.execute_reply": "2025-01-22T14:11:12.949614Z",
     "shell.execute_reply.started": "2025-01-22T14:10:53.229658Z"
    },
    "tags": []
   },
   "outputs": [
    {
     "name": "stdout",
     "output_type": "stream",
     "text": [
      "(tensor([0.4364, 0.4263, 0.3943]), tensor([0.2467, 0.2421, 0.2361]))\n"
     ]
    }
   ],
   "source": [
    "# 遍历train_ds得到每张图片，计算每个通道的均值和方差\n",
    "def cal_mean_std(ds):\n",
    "    mean = 0.\n",
    "    std = 0.\n",
    "    for img, _ in ds:\n",
    "        mean += img.mean(dim=(1, 2))\n",
    "        std += img.std(dim=(1, 2))\n",
    "    mean /= len(ds)\n",
    "    std /= len(ds)\n",
    "    return mean, std\n",
    "\n",
    "# 经过 normalize 后 均值为0，方差为1\n",
    "print(cal_mean_std(train_ds))"
   ]
  },
  {
   "cell_type": "markdown",
   "metadata": {},
   "source": [
    "## 定义模型"
   ]
  },
  {
   "cell_type": "code",
   "execution_count": 18,
   "metadata": {
    "ExecuteTime": {
     "end_time": "2024-07-23T06:49:56.579457400Z",
     "start_time": "2024-07-23T06:49:56.499468400Z"
    },
    "execution": {
     "iopub.execute_input": "2025-01-22T14:11:12.950889Z",
     "iopub.status.busy": "2025-01-22T14:11:12.950709Z",
     "iopub.status.idle": "2025-01-22T14:11:13.018388Z",
     "shell.execute_reply": "2025-01-22T14:11:13.017641Z",
     "shell.execute_reply.started": "2025-01-22T14:11:12.950870Z"
    },
    "tags": []
   },
   "outputs": [
    {
     "name": "stdout",
     "output_type": "stream",
     "text": [
      "             model.0.weight             paramerters num: 3456\n",
      "              model.0.bias              paramerters num: 128\n",
      "             model.2.weight             paramerters num: 128\n",
      "              model.2.bias              paramerters num: 128\n",
      "             model.3.weight             paramerters num: 147456\n",
      "              model.3.bias              paramerters num: 128\n",
      "             model.5.weight             paramerters num: 128\n",
      "              model.5.bias              paramerters num: 128\n",
      "             model.7.weight             paramerters num: 294912\n",
      "              model.7.bias              paramerters num: 256\n",
      "             model.9.weight             paramerters num: 256\n",
      "              model.9.bias              paramerters num: 256\n",
      "            model.10.weight             paramerters num: 589824\n",
      "             model.10.bias              paramerters num: 256\n",
      "            model.12.weight             paramerters num: 256\n",
      "             model.12.bias              paramerters num: 256\n",
      "            model.14.weight             paramerters num: 1179648\n",
      "             model.14.bias              paramerters num: 512\n",
      "            model.16.weight             paramerters num: 512\n",
      "             model.16.bias              paramerters num: 512\n",
      "            model.17.weight             paramerters num: 2359296\n",
      "             model.17.bias              paramerters num: 512\n",
      "            model.19.weight             paramerters num: 512\n",
      "             model.19.bias              paramerters num: 512\n",
      "            model.22.weight             paramerters num: 4194304\n",
      "             model.22.bias              paramerters num: 512\n",
      "            model.24.weight             paramerters num: 5120\n",
      "             model.24.bias              paramerters num: 10\n"
     ]
    }
   ],
   "source": [
    "class CNN(nn.Module):\n",
    "    def __init__(self, num_classes):\n",
    "        super().__init__()\n",
    "        self.model = nn.Sequential(\n",
    "            nn.Conv2d(in_channels=3, out_channels=128, kernel_size=3, padding=\"same\"),\n",
    "            nn.ReLU(),\n",
    "            nn.BatchNorm2d(128),# 批标准化，在通道数做的归一化\n",
    "            nn.Conv2d(in_channels=128, out_channels=128, kernel_size=3, padding=\"same\"), #输出尺寸（128，32，32）\n",
    "            nn.ReLU(),\n",
    "            nn.BatchNorm2d(128),\n",
    "            nn.MaxPool2d(kernel_size=2), #输出尺寸（128，16，16）\n",
    "            nn.Conv2d(in_channels=128, out_channels=256, kernel_size=3, padding=\"same\"),\n",
    "            nn.ReLU(),\n",
    "            nn.BatchNorm2d(256),\n",
    "            nn.Conv2d(in_channels=256, out_channels=256, kernel_size=3, padding=\"same\"), #输出尺寸（256，16，16）\n",
    "            nn.ReLU(),\n",
    "            nn.BatchNorm2d(256),\n",
    "            nn.MaxPool2d(kernel_size=2),#输出尺寸（256，8，8）\n",
    "            nn.Conv2d(in_channels=256, out_channels=512, kernel_size=3, padding=\"same\"),\n",
    "            nn.ReLU(),\n",
    "            nn.BatchNorm2d(512),\n",
    "            nn.Conv2d(in_channels=512, out_channels=512, kernel_size=3, padding=\"same\"), #输出尺寸（512，8，8）\n",
    "            nn.ReLU(),\n",
    "            nn.BatchNorm2d(512),\n",
    "            nn.MaxPool2d(kernel_size=2), #输出尺寸（512，4，4）\n",
    "            nn.Flatten(), #展平\n",
    "            nn.Linear(8192, 512),\n",
    "            nn.ReLU(),\n",
    "            nn.Linear(512, num_classes),\n",
    "        ) #Sequential自动连接各层，把各层的输出作为下一层的输入\n",
    "        \n",
    "    def forward(self, x):\n",
    "        return self.model(x)\n",
    "        \n",
    "for key, value in CNN(len(class_names)).named_parameters():\n",
    "    print(f\"{key:^40}paramerters num: {np.prod(value.shape)}\")\n",
    "    \n"
   ]
  },
  {
   "cell_type": "code",
   "execution_count": 19,
   "metadata": {
    "ExecuteTime": {
     "end_time": "2024-07-23T06:49:59.043655400Z",
     "start_time": "2024-07-23T06:49:58.976307900Z"
    },
    "collapsed": false,
    "execution": {
     "iopub.execute_input": "2025-01-22T14:11:13.019186Z",
     "iopub.status.busy": "2025-01-22T14:11:13.018986Z",
     "iopub.status.idle": "2025-01-22T14:11:13.080111Z",
     "shell.execute_reply": "2025-01-22T14:11:13.079575Z",
     "shell.execute_reply.started": "2025-01-22T14:11:13.019165Z"
    },
    "jupyter": {
     "outputs_hidden": false
    },
    "tags": []
   },
   "outputs": [
    {
     "name": "stdout",
     "output_type": "stream",
     "text": [
      "Total trainable parameters: 8779914\n"
     ]
    }
   ],
   "source": [
    "total_params = sum(p.numel() for p in CNN(len(class_names)).parameters() if p.requires_grad)\n",
    "print(f\"Total trainable parameters: {total_params}\")"
   ]
  },
  {
   "cell_type": "code",
   "execution_count": 20,
   "metadata": {
    "ExecuteTime": {
     "end_time": "2025-01-20T08:18:30.878296Z",
     "start_time": "2025-01-20T08:18:30.872291Z"
    },
    "execution": {
     "iopub.execute_input": "2025-01-22T14:11:13.080878Z",
     "iopub.status.busy": "2025-01-22T14:11:13.080691Z",
     "iopub.status.idle": "2025-01-22T14:11:13.094022Z",
     "shell.execute_reply": "2025-01-22T14:11:13.093522Z",
     "shell.execute_reply.started": "2025-01-22T14:11:13.080859Z"
    },
    "tags": []
   },
   "outputs": [
    {
     "data": {
      "text/plain": [
       "torch.Size([32, 3, 64, 64])"
      ]
     },
     "execution_count": 20,
     "metadata": {},
     "output_type": "execute_result"
    }
   ],
   "source": [
    "input_4d = torch.randn(32, 3, 64, 64)  # 32 个样本，3 个通道，图像大小为 64x64\n",
    "bn2d = nn.BatchNorm2d(3)              # 对 3 个通道进行归一化\n",
    "output_4d = bn2d(input_4d)\n",
    "output_4d.shape"
   ]
  },
  {
   "cell_type": "code",
   "execution_count": 21,
   "metadata": {
    "ExecuteTime": {
     "end_time": "2025-01-20T08:18:32.896417Z",
     "start_time": "2025-01-20T08:18:32.888443Z"
    },
    "execution": {
     "iopub.execute_input": "2025-01-22T14:11:13.094759Z",
     "iopub.status.busy": "2025-01-22T14:11:13.094581Z",
     "iopub.status.idle": "2025-01-22T14:11:13.113897Z",
     "shell.execute_reply": "2025-01-22T14:11:13.113433Z",
     "shell.execute_reply.started": "2025-01-22T14:11:13.094739Z"
    },
    "tags": []
   },
   "outputs": [
    {
     "data": {
      "text/plain": [
       "tensor([[[[ 7.6379e-01,  1.0689e-01,  2.0672e-01,  ..., -3.5388e-01,\n",
       "            5.4448e-01,  3.5993e-01],\n",
       "          [ 5.6137e-02, -6.4945e-01, -1.1100e+00,  ..., -1.5378e+00,\n",
       "           -2.6625e-03,  8.1205e-01],\n",
       "          [-9.0408e-01, -1.0049e+00, -6.1232e-01,  ..., -2.4754e+00,\n",
       "            1.8498e+00,  8.8403e-01],\n",
       "          ...,\n",
       "          [-8.6373e-01,  1.1379e-01,  2.2001e+00,  ..., -6.8639e-01,\n",
       "            3.1014e-01,  1.2812e+00],\n",
       "          [ 5.7116e-01,  2.2753e+00, -4.3878e-01,  ..., -3.5117e-01,\n",
       "           -2.3470e+00, -3.0801e-02],\n",
       "          [ 9.1119e-01, -1.0284e+00,  7.0709e-01,  ...,  7.1376e-02,\n",
       "           -9.7112e-01,  1.0839e+00]],\n",
       "\n",
       "         [[ 4.1984e-01,  1.5355e-01, -1.3565e+00,  ..., -1.5141e+00,\n",
       "            9.2934e-02, -1.7261e+00],\n",
       "          [-1.2394e+00,  3.0989e-01,  1.5099e+00,  ..., -8.3824e-01,\n",
       "            4.0145e-01,  9.8586e-02],\n",
       "          [-1.0301e+00,  2.5210e+00, -1.0976e+00,  ...,  6.1659e-01,\n",
       "           -1.1957e+00, -7.8025e-01],\n",
       "          ...,\n",
       "          [-3.5135e-01, -9.6296e-01,  2.6995e-01,  ...,  1.7505e+00,\n",
       "            2.4367e-01,  9.3750e-01],\n",
       "          [-3.0138e-01,  2.4938e+00, -6.3951e-01,  ...,  1.6383e+00,\n",
       "           -8.3126e-01, -8.4164e-01],\n",
       "          [-3.3300e-01,  3.7936e-01, -1.9786e-01,  ...,  8.1007e-01,\n",
       "           -9.9569e-01,  4.5282e-01]],\n",
       "\n",
       "         [[ 4.2085e-01, -3.6524e-01, -6.4908e-01,  ...,  1.0359e-01,\n",
       "           -9.7180e-01,  5.4824e-01],\n",
       "          [ 8.5592e-01,  4.0499e-01, -1.2671e-01,  ..., -1.5034e+00,\n",
       "            2.7628e+00, -2.2490e-02],\n",
       "          [ 3.0063e-01,  1.7031e-01,  7.5016e-02,  ..., -4.1089e-01,\n",
       "            1.4222e+00, -5.4019e-01],\n",
       "          ...,\n",
       "          [-3.1062e-01, -1.3255e+00, -5.7793e-01,  ...,  8.8030e-01,\n",
       "            9.9112e-01,  7.1153e-01],\n",
       "          [-4.0852e-01, -1.0101e-01,  1.0693e+00,  ..., -1.2136e-01,\n",
       "           -1.4291e+00, -3.9278e-01],\n",
       "          [ 9.1504e-01,  1.0148e-01, -1.8123e-01,  ..., -1.0720e+00,\n",
       "           -1.1711e+00, -1.9401e+00]]],\n",
       "\n",
       "\n",
       "        [[[ 7.9966e-01, -6.6565e-01,  7.9032e-01,  ...,  2.2488e+00,\n",
       "            2.4780e-01,  1.1696e-01],\n",
       "          [-3.1832e-01, -9.5504e-01, -8.1001e-01,  ...,  1.1771e-01,\n",
       "           -1.4943e-01,  1.5206e+00],\n",
       "          [-2.1650e-01,  3.3623e-01,  1.9780e-01,  ...,  5.6509e-01,\n",
       "            2.1254e-01,  1.0790e+00],\n",
       "          ...,\n",
       "          [ 6.4669e-01, -8.3035e-02,  3.0379e-02,  ...,  1.8774e+00,\n",
       "           -2.9502e-01, -7.3572e-01],\n",
       "          [-3.2229e-01, -8.2124e-01,  9.3365e-01,  ..., -9.1457e-01,\n",
       "            2.7042e-01, -9.3214e-01],\n",
       "          [ 1.1488e+00, -6.8498e-01,  5.0494e-01,  ..., -5.8129e-01,\n",
       "            1.2245e+00,  4.1968e-01]],\n",
       "\n",
       "         [[-9.2775e-01,  6.7072e-01, -1.5122e+00,  ...,  1.1714e+00,\n",
       "           -1.2386e+00,  4.2056e-02],\n",
       "          [ 1.4482e+00, -1.0762e+00, -5.4741e-01,  ..., -1.2544e+00,\n",
       "            1.4531e+00,  9.6898e-02],\n",
       "          [-1.2428e+00, -1.4254e+00,  3.4218e-01,  ...,  4.2044e-01,\n",
       "           -6.5405e-01, -5.2225e-01],\n",
       "          ...,\n",
       "          [-1.9206e-01, -1.0342e-01,  7.2225e-01,  ..., -1.0599e+00,\n",
       "           -5.5407e-01, -6.4841e-03],\n",
       "          [ 1.2232e+00, -5.4120e-01,  9.9250e-01,  ..., -4.4901e-01,\n",
       "            6.6820e-01,  1.2501e+00],\n",
       "          [ 1.3442e+00,  1.2675e+00,  1.2077e+00,  ...,  2.0221e+00,\n",
       "            3.0435e-02,  9.2356e-01]],\n",
       "\n",
       "         [[ 2.0574e+00, -7.9799e-01,  1.8018e+00,  ..., -1.2645e+00,\n",
       "            1.8644e+00, -6.1941e-01],\n",
       "          [-5.8862e-01,  1.0229e+00,  5.3221e-01,  ...,  1.0101e-01,\n",
       "           -2.1003e-01, -4.1971e-01],\n",
       "          [ 1.8575e-01, -7.1617e-01, -1.2584e-01,  ..., -4.7544e-02,\n",
       "           -1.2823e+00,  3.9785e-01],\n",
       "          ...,\n",
       "          [-8.6034e-01, -3.0988e-01,  6.8215e-01,  ..., -1.5883e-02,\n",
       "            7.5792e-01, -7.6157e-01],\n",
       "          [-7.0550e-01,  1.0119e+00, -1.2706e+00,  ..., -1.4410e+00,\n",
       "            6.9199e-02,  6.5571e-01],\n",
       "          [-1.1478e+00,  1.2751e+00, -1.2753e-01,  ..., -1.3571e+00,\n",
       "           -3.3462e-01, -7.7382e-01]]],\n",
       "\n",
       "\n",
       "        [[[-1.4986e+00, -1.6415e+00, -4.8503e-01,  ..., -7.0234e-01,\n",
       "           -3.6902e-01,  1.4056e-01],\n",
       "          [-6.7244e-02, -3.7939e-01,  4.4909e-01,  ...,  7.0617e-01,\n",
       "           -1.1520e+00,  1.1595e+00],\n",
       "          [ 1.4303e+00,  1.0296e+00,  6.8895e-01,  ...,  2.9821e-01,\n",
       "            1.4444e+00, -5.5417e-01],\n",
       "          ...,\n",
       "          [-3.7457e-01, -2.6013e-01, -1.0052e+00,  ...,  1.2806e+00,\n",
       "            3.8926e-01, -4.1613e-01],\n",
       "          [-1.1351e+00, -6.6840e-01,  1.2039e-02,  ...,  6.4057e-01,\n",
       "           -4.9296e-01, -9.2618e-01],\n",
       "          [ 1.6966e-01,  1.0579e+00, -3.3361e-01,  ..., -1.3737e+00,\n",
       "            9.5014e-02, -5.6655e-01]],\n",
       "\n",
       "         [[-1.8354e+00, -1.9174e+00, -9.3604e-01,  ..., -4.4537e-02,\n",
       "            1.3330e-01,  2.9815e-01],\n",
       "          [-9.5161e-01,  2.1553e-01,  7.0876e-01,  ..., -3.1923e-01,\n",
       "            2.3016e+00,  5.5154e-01],\n",
       "          [-1.3230e-01, -9.4572e-01, -3.3626e-01,  ..., -3.9043e-01,\n",
       "           -2.9015e-01, -5.7851e-01],\n",
       "          ...,\n",
       "          [-5.2071e-01,  2.6644e-01, -3.9375e-01,  ..., -8.2304e-01,\n",
       "            5.2266e-01, -2.0320e-01],\n",
       "          [-4.1563e-01, -1.1971e+00, -2.4120e-01,  ..., -3.6488e-01,\n",
       "            3.6142e-02, -7.0027e-01],\n",
       "          [-1.8679e+00, -1.3361e+00, -1.7972e-01,  ..., -9.2488e-01,\n",
       "            1.4686e+00, -8.4736e-01]],\n",
       "\n",
       "         [[-2.3024e-01,  3.3781e-01, -1.9549e+00,  ...,  5.9185e-01,\n",
       "            4.0784e-01,  5.4104e-01],\n",
       "          [-1.4171e+00,  9.7986e-03, -3.7158e-01,  ...,  1.5861e+00,\n",
       "           -6.1031e-02,  1.1380e-02],\n",
       "          [-3.0331e-01, -2.1585e-02,  7.4209e-01,  ..., -1.6807e+00,\n",
       "           -6.3797e-02,  3.8860e-01],\n",
       "          ...,\n",
       "          [ 1.7417e+00, -2.4024e-01, -1.3083e+00,  ..., -1.3694e-01,\n",
       "           -1.4044e+00,  6.8142e-01],\n",
       "          [-4.5741e-01,  4.5940e-01,  2.4864e-01,  ..., -1.0979e+00,\n",
       "            9.7332e-01,  4.9194e-01],\n",
       "          [ 5.7130e-01, -7.1320e-01, -5.8245e-01,  ..., -1.0629e+00,\n",
       "           -9.2668e-01, -8.6949e-02]]],\n",
       "\n",
       "\n",
       "        ...,\n",
       "\n",
       "\n",
       "        [[[ 7.9540e-01, -1.9204e+00, -1.1101e-01,  ..., -1.2666e+00,\n",
       "            1.2366e-01, -1.9540e+00],\n",
       "          [-2.2732e-01, -1.4232e+00, -9.0345e-01,  ..., -8.6328e-01,\n",
       "           -5.7315e-01,  1.9513e+00],\n",
       "          [-1.7145e+00, -1.3142e+00,  4.0801e-01,  ...,  4.9678e-01,\n",
       "           -1.1895e-01, -1.4283e-01],\n",
       "          ...,\n",
       "          [ 2.8955e-01, -1.0238e+00,  4.3050e-01,  ...,  1.3862e+00,\n",
       "           -7.7091e-01, -2.0366e+00],\n",
       "          [-9.0202e-01, -1.2344e+00, -8.0170e-01,  ...,  2.6266e-02,\n",
       "           -3.5487e-01,  3.5194e-01],\n",
       "          [ 2.4830e-01,  4.1984e-01, -8.8046e-01,  ..., -1.4500e+00,\n",
       "            1.2222e+00,  1.1400e+00]],\n",
       "\n",
       "         [[-4.9022e-01,  1.0462e+00, -4.4522e-01,  ..., -1.9766e-01,\n",
       "           -9.8352e-01,  5.6961e-01],\n",
       "          [-1.0670e+00, -2.4843e-01,  1.2920e+00,  ...,  1.4322e+00,\n",
       "           -1.1297e-01,  6.3775e-01],\n",
       "          [-2.0717e+00, -7.2129e-02, -7.4369e-01,  ...,  1.0151e+00,\n",
       "           -1.7821e-01,  8.4860e-01],\n",
       "          ...,\n",
       "          [-1.1196e+00, -1.3279e+00,  5.8813e-01,  ..., -1.2283e-01,\n",
       "           -3.0299e-01, -1.5074e-01],\n",
       "          [-4.4848e-01, -1.2910e-01,  8.6673e-01,  ..., -7.5960e-01,\n",
       "           -6.2513e-01,  5.1356e-01],\n",
       "          [-1.1185e+00,  6.3103e-01, -3.2120e-01,  ...,  1.6020e+00,\n",
       "           -2.1105e+00,  1.0419e+00]],\n",
       "\n",
       "         [[ 5.3715e-01, -5.3310e-01, -7.3551e-01,  ...,  4.7781e-01,\n",
       "           -5.7574e-01, -1.8501e+00],\n",
       "          [-8.3207e-01,  4.1402e-01,  1.4577e+00,  ..., -1.7558e+00,\n",
       "            1.2225e+00, -1.0268e+00],\n",
       "          [-1.1006e+00,  2.5855e+00,  2.5553e-01,  ..., -5.7773e-01,\n",
       "           -1.1025e+00,  7.0111e-02],\n",
       "          ...,\n",
       "          [ 8.5025e-01,  1.4541e-01,  8.4030e-01,  ..., -5.6907e-01,\n",
       "           -1.7271e+00, -1.0102e+00],\n",
       "          [ 1.4973e+00, -8.1522e-02, -7.6616e-02,  ...,  7.0065e-01,\n",
       "           -6.3955e-01, -8.8774e-01],\n",
       "          [ 2.5390e-01, -1.0165e+00, -1.2625e+00,  ...,  9.5827e-01,\n",
       "           -1.8173e+00,  1.6420e+00]]],\n",
       "\n",
       "\n",
       "        [[[ 1.0821e+00, -1.6143e+00, -1.7386e+00,  ..., -1.5710e+00,\n",
       "           -7.1411e-01, -9.2901e-01],\n",
       "          [ 8.4281e-02, -1.3145e-01,  3.4067e-01,  ...,  5.9117e-01,\n",
       "           -2.1321e-02, -7.8947e-01],\n",
       "          [-9.3994e-01, -2.7249e-01, -6.3790e-01,  ..., -1.5132e+00,\n",
       "           -1.4041e+00,  2.6557e+00],\n",
       "          ...,\n",
       "          [ 1.4225e+00,  1.2201e+00,  1.4361e+00,  ...,  1.9768e-01,\n",
       "            1.4634e+00, -1.6036e+00],\n",
       "          [ 9.4230e-01, -1.2445e-01,  3.2206e-01,  ..., -6.5838e-01,\n",
       "           -6.4018e-01,  1.5785e+00],\n",
       "          [ 1.9712e+00,  6.4947e-01,  2.2530e-01,  ..., -2.8372e-02,\n",
       "            1.0960e+00, -8.2772e-01]],\n",
       "\n",
       "         [[ 3.8790e-01,  1.2459e+00, -1.0708e+00,  ...,  1.2174e+00,\n",
       "            5.4053e-02, -2.6075e-01],\n",
       "          [-1.0832e+00,  1.1327e+00, -2.6493e-01,  ..., -3.6745e-01,\n",
       "            6.5376e-01, -3.1476e-01],\n",
       "          [ 1.3314e+00,  5.2690e-01,  1.4229e+00,  ...,  2.0348e+00,\n",
       "           -6.6566e-01,  1.1965e+00],\n",
       "          ...,\n",
       "          [-1.1131e+00, -8.8448e-01, -2.4393e+00,  ..., -1.2178e+00,\n",
       "            1.2935e+00,  3.1466e-01],\n",
       "          [ 2.3066e+00, -2.7187e+00,  6.8985e-01,  ..., -7.4243e-02,\n",
       "            1.3691e+00,  9.4609e-01],\n",
       "          [ 1.2131e+00,  1.0801e+00,  1.1644e+00,  ..., -6.1085e-01,\n",
       "            6.0598e-01,  5.2293e-01]],\n",
       "\n",
       "         [[-7.1770e-01, -3.6830e-01,  7.5921e-01,  ..., -4.4283e-01,\n",
       "           -9.8924e-02,  1.3486e-01],\n",
       "          [-1.1423e+00, -6.1039e-01, -2.2316e-01,  ..., -5.2236e-01,\n",
       "           -1.0419e+00,  3.3852e-01],\n",
       "          [-1.2345e+00,  7.3083e-01,  7.5907e-02,  ..., -8.4030e-03,\n",
       "            5.6985e-01, -6.2937e-01],\n",
       "          ...,\n",
       "          [-9.0143e-01,  1.3745e+00, -2.7054e+00,  ...,  1.8106e+00,\n",
       "            9.0158e-02, -1.9556e-01],\n",
       "          [-1.1789e+00,  1.5352e+00,  1.4039e+00,  ...,  1.2830e+00,\n",
       "           -1.2877e+00, -8.9697e-01],\n",
       "          [ 9.4117e-01, -2.4666e-01, -3.7333e-01,  ..., -1.5417e+00,\n",
       "           -2.1755e+00,  1.3681e+00]]],\n",
       "\n",
       "\n",
       "        [[[ 9.4791e-01,  9.0377e-01,  2.5026e+00,  ...,  2.8827e-02,\n",
       "            2.9598e-01,  2.5385e-01],\n",
       "          [-1.4623e+00, -1.8947e-01,  3.5873e-01,  ..., -1.1617e+00,\n",
       "           -1.7016e-02, -2.6931e-01],\n",
       "          [-1.3956e+00, -1.2075e+00,  2.1356e-01,  ...,  1.2829e+00,\n",
       "            4.3196e-01,  7.7758e-01],\n",
       "          ...,\n",
       "          [ 7.0054e-01, -4.8425e-01, -6.1766e-02,  ..., -5.8557e-01,\n",
       "           -2.7190e-02,  7.7866e-02],\n",
       "          [ 5.0837e-01, -4.8383e-01, -7.3748e-01,  ..., -4.4718e-01,\n",
       "            1.3368e-01, -4.0524e-01],\n",
       "          [ 2.1940e-01, -7.6951e-01, -3.5938e-01,  ...,  1.2744e+00,\n",
       "            1.5821e+00,  3.9141e-01]],\n",
       "\n",
       "         [[-1.3453e+00,  1.2090e-01, -6.9325e-02,  ...,  5.5816e-01,\n",
       "            7.0281e-01,  4.7239e-01],\n",
       "          [ 5.4816e-02, -5.8961e-01, -1.9411e-01,  ...,  5.7271e-01,\n",
       "            1.3013e+00, -1.0398e+00],\n",
       "          [ 3.1527e-01,  4.5339e-01, -1.0041e+00,  ...,  6.4832e-01,\n",
       "            1.4239e-01,  7.7554e-01],\n",
       "          ...,\n",
       "          [ 1.8823e+00, -1.8193e+00, -1.1752e+00,  ..., -4.5433e-01,\n",
       "           -2.9383e-01, -1.0939e+00],\n",
       "          [-3.7407e-03, -1.5250e+00, -8.4887e-01,  ...,  1.5363e+00,\n",
       "            1.2266e+00,  5.8717e-01],\n",
       "          [ 1.8763e-01,  1.2341e+00, -8.6644e-01,  ..., -3.1139e-01,\n",
       "            1.7046e+00,  6.6872e-01]],\n",
       "\n",
       "         [[-6.2384e-01,  4.9673e-01, -1.1426e+00,  ..., -9.4852e-01,\n",
       "            5.6122e-01, -1.4196e+00],\n",
       "          [ 5.2971e-01, -1.2267e-02,  2.2178e+00,  ..., -9.1254e-01,\n",
       "            9.7892e-01,  1.1659e+00],\n",
       "          [ 5.9010e-01,  3.6425e-02,  1.7509e+00,  ...,  3.3245e-01,\n",
       "            4.2868e-01, -1.6877e+00],\n",
       "          ...,\n",
       "          [-2.1108e-01,  1.4276e+00,  5.8917e-02,  ..., -1.3562e+00,\n",
       "           -7.4089e-01,  1.4508e+00],\n",
       "          [-7.0434e-01,  1.2565e+00,  1.8810e+00,  ...,  1.8804e+00,\n",
       "            2.0392e+00, -6.2595e-01],\n",
       "          [ 3.1436e-01,  1.3658e-01,  1.8696e+00,  ...,  5.8952e-01,\n",
       "            8.5772e-01,  1.5509e-01]]]], grad_fn=<NativeBatchNormBackward0>)"
      ]
     },
     "execution_count": 21,
     "metadata": {},
     "output_type": "execute_result"
    }
   ],
   "source": [
    "output_4d"
   ]
  },
  {
   "cell_type": "code",
   "execution_count": 22,
   "metadata": {
    "ExecuteTime": {
     "end_time": "2025-01-20T08:18:50.605471Z",
     "start_time": "2025-01-20T08:18:50.598876Z"
    },
    "execution": {
     "iopub.execute_input": "2025-01-22T14:11:13.116835Z",
     "iopub.status.busy": "2025-01-22T14:11:13.116531Z",
     "iopub.status.idle": "2025-01-22T14:11:13.125722Z",
     "shell.execute_reply": "2025-01-22T14:11:13.125310Z",
     "shell.execute_reply.started": "2025-01-22T14:11:13.116814Z"
    },
    "tags": []
   },
   "outputs": [
    {
     "data": {
      "text/plain": [
       "tensor([[[[ 0.7638,  0.1069,  0.2067,  ..., -0.3539,  0.5445,  0.3599],\n",
       "          [ 0.0561, -0.6495, -1.1100,  ..., -1.5378, -0.0027,  0.8120],\n",
       "          [-0.9041, -1.0049, -0.6123,  ..., -2.4754,  1.8498,  0.8840],\n",
       "          ...,\n",
       "          [-0.8637,  0.1138,  2.2001,  ..., -0.6864,  0.3101,  1.2812],\n",
       "          [ 0.5712,  2.2753, -0.4388,  ..., -0.3512, -2.3470, -0.0308],\n",
       "          [ 0.9112, -1.0284,  0.7071,  ...,  0.0714, -0.9711,  1.0839]]],\n",
       "\n",
       "\n",
       "        [[[ 0.7997, -0.6657,  0.7903,  ...,  2.2488,  0.2478,  0.1170],\n",
       "          [-0.3183, -0.9550, -0.8100,  ...,  0.1177, -0.1494,  1.5206],\n",
       "          [-0.2165,  0.3362,  0.1978,  ...,  0.5651,  0.2125,  1.0790],\n",
       "          ...,\n",
       "          [ 0.6467, -0.0830,  0.0304,  ...,  1.8774, -0.2950, -0.7357],\n",
       "          [-0.3223, -0.8212,  0.9337,  ..., -0.9146,  0.2704, -0.9321],\n",
       "          [ 1.1488, -0.6850,  0.5049,  ..., -0.5813,  1.2245,  0.4197]]],\n",
       "\n",
       "\n",
       "        [[[-1.4986, -1.6415, -0.4850,  ..., -0.7023, -0.3690,  0.1406],\n",
       "          [-0.0672, -0.3794,  0.4491,  ...,  0.7062, -1.1520,  1.1595],\n",
       "          [ 1.4303,  1.0296,  0.6890,  ...,  0.2982,  1.4444, -0.5542],\n",
       "          ...,\n",
       "          [-0.3746, -0.2601, -1.0052,  ...,  1.2806,  0.3893, -0.4161],\n",
       "          [-1.1351, -0.6684,  0.0120,  ...,  0.6406, -0.4930, -0.9262],\n",
       "          [ 0.1697,  1.0579, -0.3336,  ..., -1.3737,  0.0950, -0.5666]]],\n",
       "\n",
       "\n",
       "        ...,\n",
       "\n",
       "\n",
       "        [[[ 0.7954, -1.9204, -0.1110,  ..., -1.2666,  0.1237, -1.9540],\n",
       "          [-0.2273, -1.4232, -0.9035,  ..., -0.8633, -0.5732,  1.9513],\n",
       "          [-1.7145, -1.3142,  0.4080,  ...,  0.4968, -0.1189, -0.1428],\n",
       "          ...,\n",
       "          [ 0.2896, -1.0238,  0.4305,  ...,  1.3862, -0.7709, -2.0366],\n",
       "          [-0.9020, -1.2344, -0.8017,  ...,  0.0263, -0.3549,  0.3519],\n",
       "          [ 0.2483,  0.4198, -0.8805,  ..., -1.4500,  1.2222,  1.1400]]],\n",
       "\n",
       "\n",
       "        [[[ 1.0821, -1.6143, -1.7386,  ..., -1.5710, -0.7141, -0.9290],\n",
       "          [ 0.0843, -0.1315,  0.3407,  ...,  0.5912, -0.0213, -0.7895],\n",
       "          [-0.9399, -0.2725, -0.6379,  ..., -1.5132, -1.4041,  2.6557],\n",
       "          ...,\n",
       "          [ 1.4225,  1.2201,  1.4361,  ...,  0.1977,  1.4634, -1.6036],\n",
       "          [ 0.9423, -0.1244,  0.3221,  ..., -0.6584, -0.6402,  1.5785],\n",
       "          [ 1.9712,  0.6495,  0.2253,  ..., -0.0284,  1.0960, -0.8277]]],\n",
       "\n",
       "\n",
       "        [[[ 0.9479,  0.9038,  2.5026,  ...,  0.0288,  0.2960,  0.2539],\n",
       "          [-1.4623, -0.1895,  0.3587,  ..., -1.1617, -0.0170, -0.2693],\n",
       "          [-1.3956, -1.2075,  0.2136,  ...,  1.2829,  0.4320,  0.7776],\n",
       "          ...,\n",
       "          [ 0.7005, -0.4843, -0.0618,  ..., -0.5856, -0.0272,  0.0779],\n",
       "          [ 0.5084, -0.4838, -0.7375,  ..., -0.4472,  0.1337, -0.4052],\n",
       "          [ 0.2194, -0.7695, -0.3594,  ...,  1.2744,  1.5821,  0.3914]]]],\n",
       "       grad_fn=<NativeBatchNormBackward0>)"
      ]
     },
     "execution_count": 22,
     "metadata": {},
     "output_type": "execute_result"
    }
   ],
   "source": [
    "bn2d = nn.BatchNorm2d(1)              # 对 3 个通道进行归一化\n",
    "output_4d1 = bn2d(input_4d[:, 0:1, :, :])\n",
    "output_4d1"
   ]
  },
  {
   "cell_type": "markdown",
   "metadata": {},
   "source": [
    "# 训练\n"
   ]
  },
  {
   "cell_type": "code",
   "execution_count": 23,
   "metadata": {
    "ExecuteTime": {
     "end_time": "2024-07-23T06:51:47.038660500Z",
     "start_time": "2024-07-23T06:51:46.193237300Z"
    },
    "execution": {
     "iopub.execute_input": "2025-01-22T14:11:13.126354Z",
     "iopub.status.busy": "2025-01-22T14:11:13.126189Z",
     "iopub.status.idle": "2025-01-22T14:11:13.226030Z",
     "shell.execute_reply": "2025-01-22T14:11:13.225540Z",
     "shell.execute_reply.started": "2025-01-22T14:11:13.126336Z"
    },
    "tags": []
   },
   "outputs": [],
   "source": [
    "from sklearn.metrics import accuracy_score\n",
    "\n",
    "@torch.no_grad()\n",
    "def evaluating(model, dataloader, loss_fct):\n",
    "    loss_list = []\n",
    "    pred_list = []\n",
    "    label_list = []\n",
    "    for datas, labels in dataloader:\n",
    "        datas = datas.to(device)\n",
    "        labels = labels.to(device)\n",
    "        # 前向计算\n",
    "        logits = model(datas)\n",
    "        loss = loss_fct(logits, labels)         # 验证集损失\n",
    "        loss_list.append(loss.item())\n",
    "        \n",
    "        preds = logits.argmax(axis=-1)    # 验证集预测\n",
    "        pred_list.extend(preds.cpu().numpy().tolist())\n",
    "        label_list.extend(labels.cpu().numpy().tolist())\n",
    "        \n",
    "    acc = accuracy_score(label_list, pred_list)\n",
    "    return np.mean(loss_list), acc\n"
   ]
  },
  {
   "cell_type": "markdown",
   "metadata": {},
   "source": [
    "# TensorBoard 可视化"
   ]
  },
  {
   "cell_type": "code",
   "execution_count": 24,
   "metadata": {
    "ExecuteTime": {
     "end_time": "2024-07-23T06:51:50.921239100Z",
     "start_time": "2024-07-23T06:51:49.522951600Z"
    },
    "execution": {
     "iopub.execute_input": "2025-01-22T14:11:13.227005Z",
     "iopub.status.busy": "2025-01-22T14:11:13.226672Z",
     "iopub.status.idle": "2025-01-22T14:11:13.414145Z",
     "shell.execute_reply": "2025-01-22T14:11:13.413635Z",
     "shell.execute_reply.started": "2025-01-22T14:11:13.226983Z"
    },
    "tags": []
   },
   "outputs": [],
   "source": [
    "from torch.utils.tensorboard import SummaryWriter\n",
    "\n",
    "\n",
    "class TensorBoardCallback:\n",
    "    def __init__(self, log_dir, flush_secs=10):\n",
    "        \"\"\"\n",
    "        Args:\n",
    "            log_dir (str): dir to write log.\n",
    "            flush_secs (int, optional): write to dsk each flush_secs seconds. Defaults to 10.\n",
    "        \"\"\"\n",
    "        self.writer = SummaryWriter(log_dir=log_dir, flush_secs=flush_secs)\n",
    "\n",
    "    def draw_model(self, model, input_shape):\n",
    "        self.writer.add_graph(model, input_to_model=torch.randn(input_shape))\n",
    "        \n",
    "    def add_loss_scalars(self, step, loss, val_loss):\n",
    "        self.writer.add_scalars(\n",
    "            main_tag=\"training/loss\", \n",
    "            tag_scalar_dict={\"loss\": loss, \"val_loss\": val_loss},\n",
    "            global_step=step,\n",
    "            )\n",
    "        \n",
    "    def add_acc_scalars(self, step, acc, val_acc):\n",
    "        self.writer.add_scalars(\n",
    "            main_tag=\"training/accuracy\",\n",
    "            tag_scalar_dict={\"accuracy\": acc, \"val_accuracy\": val_acc},\n",
    "            global_step=step,\n",
    "        )\n",
    "        \n",
    "    def add_lr_scalars(self, step, learning_rate):\n",
    "        self.writer.add_scalars(\n",
    "            main_tag=\"training/learning_rate\",\n",
    "            tag_scalar_dict={\"learning_rate\": learning_rate},\n",
    "            global_step=step,\n",
    "            \n",
    "        )\n",
    "    \n",
    "    def __call__(self, step, **kwargs):\n",
    "        # add loss\n",
    "        loss = kwargs.pop(\"loss\", None)\n",
    "        val_loss = kwargs.pop(\"val_loss\", None)\n",
    "        if loss is not None and val_loss is not None:\n",
    "            self.add_loss_scalars(step, loss, val_loss)\n",
    "        # add acc\n",
    "        acc = kwargs.pop(\"acc\", None)\n",
    "        val_acc = kwargs.pop(\"val_acc\", None)\n",
    "        if acc is not None and val_acc is not None:\n",
    "            self.add_acc_scalars(step, acc, val_acc)\n",
    "        # add lr\n",
    "        learning_rate = kwargs.pop(\"lr\", None)\n",
    "        if learning_rate is not None:\n",
    "            self.add_lr_scalars(step, learning_rate)\n"
   ]
  },
  {
   "cell_type": "markdown",
   "metadata": {},
   "source": [
    "# Save Best\n"
   ]
  },
  {
   "cell_type": "code",
   "execution_count": 25,
   "metadata": {
    "ExecuteTime": {
     "end_time": "2024-07-23T06:51:52.029341200Z",
     "start_time": "2024-07-23T06:51:52.023343500Z"
    },
    "execution": {
     "iopub.execute_input": "2025-01-22T14:11:13.415077Z",
     "iopub.status.busy": "2025-01-22T14:11:13.414772Z",
     "iopub.status.idle": "2025-01-22T14:11:13.420250Z",
     "shell.execute_reply": "2025-01-22T14:11:13.419758Z",
     "shell.execute_reply.started": "2025-01-22T14:11:13.415053Z"
    },
    "tags": []
   },
   "outputs": [],
   "source": [
    "class SaveCheckpointsCallback:\n",
    "    def __init__(self, save_dir, save_step=5000, save_best_only=True):\n",
    "        \"\"\"\n",
    "        Save checkpoints each save_epoch epoch. \n",
    "        We save checkpoint by epoch in this implementation.\n",
    "        Usually, training scripts with pytorch evaluating model and save checkpoint by step.\n",
    "\n",
    "        Args:\n",
    "            save_dir (str): dir to save checkpoint\n",
    "            save_epoch (int, optional): the frequency to save checkpoint. Defaults to 1.\n",
    "            save_best_only (bool, optional): If True, only save the best model or save each model at every epoch.\n",
    "        \"\"\"\n",
    "        self.save_dir = save_dir\n",
    "        self.save_step = save_step\n",
    "        self.save_best_only = save_best_only\n",
    "        self.best_metrics = -1\n",
    "        \n",
    "        # mkdir\n",
    "        if not os.path.exists(self.save_dir):\n",
    "            os.mkdir(self.save_dir)\n",
    "        \n",
    "    def __call__(self, step, state_dict, metric=None):\n",
    "        if step % self.save_step > 0:\n",
    "            return\n",
    "        \n",
    "        if self.save_best_only:\n",
    "            assert metric is not None\n",
    "            if metric >= self.best_metrics:\n",
    "                # save checkpoints\n",
    "                torch.save(state_dict, os.path.join(self.save_dir, \"best.ckpt\"))\n",
    "                # update best metrics\n",
    "                self.best_metrics = metric\n",
    "        else:\n",
    "            torch.save(state_dict, os.path.join(self.save_dir, f\"{step}.ckpt\"))\n",
    "\n"
   ]
  },
  {
   "cell_type": "markdown",
   "metadata": {},
   "source": [
    "# Early Stop"
   ]
  },
  {
   "cell_type": "code",
   "execution_count": 26,
   "metadata": {
    "ExecuteTime": {
     "end_time": "2024-07-23T06:51:56.837899700Z",
     "start_time": "2024-07-23T06:51:56.828651400Z"
    },
    "execution": {
     "iopub.execute_input": "2025-01-22T14:11:13.420955Z",
     "iopub.status.busy": "2025-01-22T14:11:13.420784Z",
     "iopub.status.idle": "2025-01-22T14:11:13.425091Z",
     "shell.execute_reply": "2025-01-22T14:11:13.424630Z",
     "shell.execute_reply.started": "2025-01-22T14:11:13.420937Z"
    },
    "tags": []
   },
   "outputs": [],
   "source": [
    "class EarlyStopCallback:\n",
    "    def __init__(self, patience=5, min_delta=0.01):\n",
    "        \"\"\"\n",
    "\n",
    "        Args:\n",
    "            patience (int, optional): Number of epochs with no improvement after which training will be stopped.. Defaults to 5.\n",
    "            min_delta (float, optional): Minimum change in the monitored quantity to qualify as an improvement, i.e. an absolute \n",
    "                change of less than min_delta, will count as no improvement. Defaults to 0.01.\n",
    "        \"\"\"\n",
    "        self.patience = patience\n",
    "        self.min_delta = min_delta\n",
    "        self.best_metric = -1\n",
    "        self.counter = 0\n",
    "        \n",
    "    def __call__(self, metric):\n",
    "        if metric >= self.best_metric + self.min_delta:\n",
    "            # update best metric\n",
    "            self.best_metric = metric\n",
    "            # reset counter \n",
    "            self.counter = 0\n",
    "        else: \n",
    "            self.counter += 1\n",
    "            \n",
    "    @property\n",
    "    def early_stop(self):\n",
    "        return self.counter >= self.patience\n"
   ]
  },
  {
   "cell_type": "code",
   "execution_count": 27,
   "metadata": {
    "ExecutionIndicator": {
     "show": true
    },
    "execution": {
     "iopub.execute_input": "2025-01-22T14:11:13.425987Z",
     "iopub.status.busy": "2025-01-22T14:11:13.425817Z",
     "iopub.status.idle": "2025-01-22T14:11:13.617625Z",
     "shell.execute_reply": "2025-01-22T14:11:13.617078Z",
     "shell.execute_reply.started": "2025-01-22T14:11:13.425969Z"
    },
    "tags": []
   },
   "outputs": [],
   "source": [
    "# 训练\n",
    "def training(\n",
    "    model, \n",
    "    train_loader, \n",
    "    val_loader, \n",
    "    epoch, \n",
    "    loss_fct, \n",
    "    optimizer, \n",
    "    tensorboard_callback=None,\n",
    "    save_ckpt_callback=None,\n",
    "    early_stop_callback=None,\n",
    "    eval_step=500,\n",
    "    ):\n",
    "    record_dict = {\n",
    "        \"train\": [],\n",
    "        \"val\": []\n",
    "    }\n",
    "    \n",
    "    global_step = 0\n",
    "    model.train()\n",
    "    with tqdm(total=epoch * len(train_loader)) as pbar:\n",
    "        for epoch_id in range(epoch):\n",
    "            # training\n",
    "            for datas, labels in train_loader:\n",
    "                datas = datas.to(device)\n",
    "                labels = labels.to(device)\n",
    "                # 梯度清空\n",
    "                optimizer.zero_grad()\n",
    "                # 模型前向计算\n",
    "                logits = model(datas)\n",
    "                # 计算损失\n",
    "                loss = loss_fct(logits, labels)\n",
    "                # 梯度回传\n",
    "                loss.backward()\n",
    "                # 调整优化器，包括学习率的变动等\n",
    "                optimizer.step()\n",
    "                preds = logits.argmax(axis=-1) #最大值的索引\n",
    "            \n",
    "                acc = accuracy_score(labels.cpu().numpy(), preds.cpu().numpy())     # 计算准确率\n",
    "                loss = loss.cpu().item() # 计算损失\n",
    "                # record\n",
    "                \n",
    "                record_dict[\"train\"].append({\n",
    "                    \"loss\": loss, \"acc\": acc, \"step\": global_step # 记录每一步的损失和准确率\n",
    "                })\n",
    "                \n",
    "                # evaluating\n",
    "                if global_step % eval_step == 0:\n",
    "                    model.eval()\n",
    "                    val_loss, val_acc = evaluating(model, val_loader, loss_fct)\n",
    "                    record_dict[\"val\"].append({\n",
    "                        \"loss\": val_loss, \"acc\": val_acc, \"step\": global_step\n",
    "                    })\n",
    "                    model.train()\n",
    "                    \n",
    "                    # 1. 使用 tensorboard 可视化\n",
    "                    if tensorboard_callback is not None:\n",
    "                        tensorboard_callback(\n",
    "                            global_step, \n",
    "                            loss=loss, val_loss=val_loss,\n",
    "                            acc=acc, val_acc=val_acc,\n",
    "                            lr=optimizer.param_groups[0][\"lr\"],\n",
    "                            )\n",
    "                \n",
    "                    # 2. 保存模型权重 save model checkpoint\n",
    "                    if save_ckpt_callback is not None:\n",
    "                        save_ckpt_callback(global_step, model.state_dict(), metric=val_acc)\n",
    "\n",
    "                    # 3. 早停 Early Stop\n",
    "                    if early_stop_callback is not None:\n",
    "                        early_stop_callback(val_acc)\n",
    "                        if early_stop_callback.early_stop:\n",
    "                            print(f\"Early stop at epoch {epoch_id} / global_step {global_step}\")\n",
    "                            return record_dict\n",
    "                    \n",
    "                # udate step\n",
    "                global_step += 1\n",
    "                pbar.update(1)\n",
    "                pbar.set_postfix({\"epoch\": epoch_id})\n",
    "        \n",
    "    return record_dict\n",
    "        \n",
    "\n",
    "epoch = 20\n",
    "\n",
    "model = CNN(num_classes=10)\n",
    "\n",
    "# 1. 定义损失函数 采用交叉熵损失\n",
    "loss_fct = nn.CrossEntropyLoss()\n",
    "# 2. 定义优化器 采用 adam\n",
    "# Optimizers specified in the torch.optim package\n",
    "optimizer = torch.optim.Adam(model.parameters(), lr=0.001)\n",
    "\n",
    "# 1. tensorboard 可视化\n",
    "if not os.path.exists(\"runs\"):\n",
    "    os.mkdir(\"runs\")\n",
    "# tensorboard_callback = TensorBoardCallback(\"runs/cifar-10\")\n",
    "# tensorboard_callback.draw_model(model, [1, 3, IMAGE_SIZE, IMAGE_SIZE])\n",
    "# 2. save best\n",
    "if not os.path.exists(\"checkpoints\"):\n",
    "    os.makedirs(\"checkpoints\")\n",
    "save_ckpt_callback = SaveCheckpointsCallback(\"checkpoints/cifar-10\", save_step=len(train_dl), save_best_only=True)\n",
    "# 3. early stop\n",
    "early_stop_callback = EarlyStopCallback(patience=5)\n",
    "\n",
    "model = model.to(device)\n"
   ]
  },
  {
   "cell_type": "code",
   "execution_count": 28,
   "metadata": {
    "ExecutionIndicator": {
     "show": true
    },
    "collapsed": false,
    "execution": {
     "iopub.execute_input": "2025-01-22T14:11:13.618431Z",
     "iopub.status.busy": "2025-01-22T14:11:13.618242Z",
     "iopub.status.idle": "2025-01-22T14:21:23.281287Z",
     "shell.execute_reply": "2025-01-22T14:21:23.280797Z",
     "shell.execute_reply.started": "2025-01-22T14:11:13.618411Z"
    },
    "jupyter": {
     "outputs_hidden": false
    },
    "tags": []
   },
   "outputs": [
    {
     "name": "stderr",
     "output_type": "stream",
     "text": [
      "100%|██████████| 14080/14080 [10:09<00:00, 23.09it/s, epoch=19]\n"
     ]
    }
   ],
   "source": [
    "record = training(\n",
    "    model,\n",
    "    train_dl,\n",
    "    eval_dl,\n",
    "    epoch,\n",
    "    loss_fct,\n",
    "    optimizer,\n",
    "    save_ckpt_callback=save_ckpt_callback,\n",
    "    early_stop_callback=early_stop_callback,\n",
    "    eval_step=len(train_dl)\n",
    "    )"
   ]
  },
  {
   "cell_type": "code",
   "execution_count": 29,
   "metadata": {
    "ExecutionIndicator": {
     "show": true
    },
    "execution": {
     "iopub.execute_input": "2025-01-22T14:21:23.282012Z",
     "iopub.status.busy": "2025-01-22T14:21:23.281830Z",
     "iopub.status.idle": "2025-01-22T14:21:23.526435Z",
     "shell.execute_reply": "2025-01-22T14:21:23.525914Z",
     "shell.execute_reply.started": "2025-01-22T14:21:23.281992Z"
    },
    "tags": []
   },
   "outputs": [
    {
     "data": {
      "image/png": "[encoded data removed]",
      "text/plain": [
       "<Figure size 1000x500 with 2 Axes>"
      ]
     },
     "metadata": {},
     "output_type": "display_data"
    }
   ],
   "source": [
    "# 画线要注意的是损失是不一定在零到1之间的\n",
    "def plot_learning_curves(record_dict, sample_step=500):\n",
    "    # build DataFrame\n",
    "    train_df = pd.DataFrame(record_dict[\"train\"]).set_index(\"step\").iloc[::sample_step]\n",
    "    val_df = pd.DataFrame(record_dict[\"val\"]).set_index(\"step\")\n",
    "\n",
    "    # plot\n",
    "    fig_num = len(train_df.columns)\n",
    "    fig, axs = plt.subplots(1, fig_num, figsize=(5 * fig_num, 5))\n",
    "    for idx, item in enumerate(train_df.columns):    \n",
    "        axs[idx].plot(train_df.index, train_df[item], label=f\"train_{item}\")\n",
    "        axs[idx].plot(val_df.index, val_df[item], label=f\"val_{item}\")\n",
    "        axs[idx].grid()\n",
    "        axs[idx].legend()\n",
    "        # axs[idx].set_xticks(range(0, train_df.index[-1], 5000))\n",
    "        # axs[idx].set_xticklabels(map(lambda x: f\"{int(x/1000)}k\", range(0, train_df.index[-1], 5000)))\n",
    "        axs[idx].set_xlabel(\"step\")\n",
    "    \n",
    "    plt.show()\n",
    "\n",
    "plot_learning_curves(record, sample_step=10)  #横坐标是 steps"
   ]
  },
  {
   "cell_type": "markdown",
   "metadata": {},
   "source": [
    "# 评估"
   ]
  },
  {
   "cell_type": "code",
   "execution_count": 30,
   "metadata": {
    "ExecutionIndicator": {
     "show": true
    },
    "execution": {
     "iopub.execute_input": "2025-01-22T14:21:23.527288Z",
     "iopub.status.busy": "2025-01-22T14:21:23.527016Z",
     "iopub.status.idle": "2025-01-22T14:21:25.309704Z",
     "shell.execute_reply": "2025-01-22T14:21:25.309204Z",
     "shell.execute_reply.started": "2025-01-22T14:21:23.527267Z"
    },
    "tags": []
   },
   "outputs": [
    {
     "name": "stderr",
     "output_type": "stream",
     "text": [
      "/tmp/ipykernel_462/4227932207.py:3: FutureWarning: You are using `torch.load` with `weights_only=False` (the current default value), which uses the default pickle module implicitly. It is possible to construct malicious pickle data which will execute arbitrary code during unpickling (See https://github.com/pytorch/pytorch/blob/main/SECURITY.md#untrusted-models for more details). In a future release, the default value for `weights_only` will be flipped to `True`. This limits the functions that could be executed during unpickling. Arbitrary objects will no longer be allowed to be loaded via this mode unless they are explicitly allowlisted by the user via `torch.serialization.add_safe_globals`. We recommend you start setting `weights_only=True` for any use case where you don't have full control of the loaded file. Please open an issue on GitHub for any issues related to this experimental feature.\n",
      "  model.load_state_dict(torch.load(\"checkpoints/cifar-10/best.ckpt\", map_location=\"cpu\"))\n"
     ]
    },
    {
     "name": "stdout",
     "output_type": "stream",
     "text": [
      "loss:     0.4162\n",
      "accuracy: 0.8740\n"
     ]
    }
   ],
   "source": [
    "# dataload for evaluating\n",
    "# load checkpoints\n",
    "model.load_state_dict(torch.load(\"checkpoints/cifar-10/best.ckpt\", map_location=\"cpu\"))\n",
    "\n",
    "model.eval()\n",
    "loss, acc = evaluating(model, eval_dl, loss_fct)\n",
    "print(f\"loss:     {loss:.4f}\\naccuracy: {acc:.4f}\")"
   ]
  },
  {
   "cell_type": "markdown",
   "metadata": {},
   "source": [
    "# 推理"
   ]
  },
  {
   "cell_type": "code",
   "execution_count": 31,
   "metadata": {
    "ExecutionIndicator": {
     "show": false
    },
    "execution": {
     "iopub.execute_input": "2025-01-22T14:21:25.310520Z",
     "iopub.status.busy": "2025-01-22T14:21:25.310279Z",
     "iopub.status.idle": "2025-01-22T14:23:13.814972Z",
     "shell.execute_reply": "2025-01-22T14:23:13.814462Z",
     "shell.execute_reply.started": "2025-01-22T14:21:25.310500Z"
    },
    "tags": []
   },
   "outputs": [
    {
     "name": "stderr",
     "output_type": "stream",
     "text": [
      "100%|██████████| 4688/4688 [01:48<00:00, 43.21it/s]\n"
     ]
    }
   ],
   "source": [
    "# test_df\n",
    "test_ds = Cifar10Dataset(\"test\", transform=transforms_eval)\n",
    "test_dl = DataLoader(test_ds, batch_size=batch_size, shuffle=False, drop_last=False)\n",
    "\n",
    "preds_collect = [] # 预测结果收集器\n",
    "model.eval()\n",
    "for data, fake_label in tqdm(test_dl):\n",
    "    data = data.to(device=device)\n",
    "    logits = model(data) #得到预测结果\n",
    "    preds = [test_ds.idx_to_label[idx] for idx in logits.argmax(axis=-1).cpu().tolist()] # 得到预测类别，idx_to_label是id到字符串类别的映射\n",
    "    preds_collect.extend(preds)\n",
    "    \n"
   ]
  },
  {
   "cell_type": "code",
   "execution_count": 34,
   "metadata": {
    "execution": {
     "iopub.execute_input": "2025-01-22T14:24:47.318837Z",
     "iopub.status.busy": "2025-01-22T14:24:47.318475Z",
     "iopub.status.idle": "2025-01-22T14:24:47.380940Z",
     "shell.execute_reply": "2025-01-22T14:24:47.380423Z",
     "shell.execute_reply.started": "2025-01-22T14:24:47.318812Z"
    },
    "tags": []
   },
   "outputs": [
    {
     "data": {
      "text/html": [
       "<div>\n",
       "<style scoped>\n",
       "    .dataframe tbody tr th:only-of-type {\n",
       "        vertical-align: middle;\n",
       "    }\n",
       "\n",
       "    .dataframe tbody tr th {\n",
       "        vertical-align: top;\n",
       "    }\n",
       "\n",
       "    .dataframe thead th {\n",
       "        text-align: right;\n",
       "    }\n",
       "</style>\n",
       "<table border=\"1\" class=\"dataframe\">\n",
       "  <thead>\n",
       "    <tr style=\"text-align: right;\">\n",
       "      <th></th>\n",
       "      <th>id</th>\n",
       "    </tr>\n",
       "  </thead>\n",
       "  <tbody>\n",
       "    <tr>\n",
       "      <th>0</th>\n",
       "      <td>1</td>\n",
       "    </tr>\n",
       "    <tr>\n",
       "      <th>1</th>\n",
       "      <td>2</td>\n",
       "    </tr>\n",
       "    <tr>\n",
       "      <th>2</th>\n",
       "      <td>3</td>\n",
       "    </tr>\n",
       "    <tr>\n",
       "      <th>3</th>\n",
       "      <td>4</td>\n",
       "    </tr>\n",
       "    <tr>\n",
       "      <th>4</th>\n",
       "      <td>5</td>\n",
       "    </tr>\n",
       "    <tr>\n",
       "      <th>...</th>\n",
       "      <td>...</td>\n",
       "    </tr>\n",
       "    <tr>\n",
       "      <th>299995</th>\n",
       "      <td>299996</td>\n",
       "    </tr>\n",
       "    <tr>\n",
       "      <th>299996</th>\n",
       "      <td>299997</td>\n",
       "    </tr>\n",
       "    <tr>\n",
       "      <th>299997</th>\n",
       "      <td>299998</td>\n",
       "    </tr>\n",
       "    <tr>\n",
       "      <th>299998</th>\n",
       "      <td>299999</td>\n",
       "    </tr>\n",
       "    <tr>\n",
       "      <th>299999</th>\n",
       "      <td>300000</td>\n",
       "    </tr>\n",
       "  </tbody>\n",
       "</table>\n",
       "<p>300000 rows × 1 columns</p>\n",
       "</div>"
      ],
      "text/plain": [
       "            id\n",
       "0            1\n",
       "1            2\n",
       "2            3\n",
       "3            4\n",
       "4            5\n",
       "...        ...\n",
       "299995  299996\n",
       "299996  299997\n",
       "299997  299998\n",
       "299998  299999\n",
       "299999  300000\n",
       "\n",
       "[300000 rows x 1 columns]"
      ]
     },
     "execution_count": 34,
     "metadata": {},
     "output_type": "execute_result"
    }
   ],
   "source": [
    "test_df1 = pd.DataFrame(list(range(1,3*10**5+1)), columns=[\"id\"])\n",
    "test_df1"
   ]
  },
  {
   "cell_type": "code",
   "execution_count": 35,
   "metadata": {
    "execution": {
     "iopub.execute_input": "2025-01-22T14:24:49.430258Z",
     "iopub.status.busy": "2025-01-22T14:24:49.429892Z",
     "iopub.status.idle": "2025-01-22T14:24:49.546599Z",
     "shell.execute_reply": "2025-01-22T14:24:49.546006Z",
     "shell.execute_reply.started": "2025-01-22T14:24:49.430233Z"
    },
    "tags": []
   },
   "outputs": [],
   "source": [
    "# 导出 submission.csv\n",
    "test_df1.to_csv(\"submission.csv\", index=False)"
   ]
  },
  {
   "cell_type": "code",
   "execution_count": 36,
   "metadata": {
    "ExecutionIndicator": {
     "show": true
    },
    "execution": {
     "iopub.execute_input": "2025-01-22T14:24:51.685625Z",
     "iopub.status.busy": "2025-01-22T14:24:51.685266Z",
     "iopub.status.idle": "2025-01-22T14:24:51.816487Z",
     "shell.execute_reply": "2025-01-22T14:24:51.815854Z",
     "shell.execute_reply.started": "2025-01-22T14:24:51.685600Z"
    },
    "tags": []
   },
   "outputs": [
    {
     "name": "stdout",
     "output_type": "stream",
     "text": [
      "cifar-10  cnn-relu  cnn-selu  dsc-selu\tmonkeys-cnn-selu  monkeys-resnet50\n"
     ]
    }
   ],
   "source": [
    "!ls checkpoints/"
   ]
  }
 ],
 "metadata": {
  "kernelspec": {
   "display_name": "Python 3 (ipykernel)",
   "language": "python",
   "name": "python3"
  },
  "language_info": {
   "codemirror_mode": {
    "name": "ipython",
    "version": 3
   },
   "file_extension": ".py",
   "mimetype": "text/x-python",
   "name": "python",
   "nbconvert_exporter": "python",
   "pygments_lexer": "ipython3",
   "version": "3.10.14"
  }
 },
 "nbformat": 4,
 "nbformat_minor": 4
}
