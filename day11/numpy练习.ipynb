{
 "cells": [
  {
   "metadata": {},
   "cell_type": "markdown",
   "source": "# Numpy的数组和原生python的性能对比",
   "id": "2e4041f6f8641927"
  },
  {
   "metadata": {
    "ExecuteTime": {
     "end_time": "2025-01-06T15:17:46.560673Z",
     "start_time": "2025-01-06T15:17:38.259063Z"
    }
   },
   "cell_type": "code",
   "source": [
    "import random\n",
    "import time\n",
    "import numpy as np\n",
    "\n",
    "a=[]\n",
    "#随机1亿个数据\n",
    "for i in range(100000000):\n",
    "    a.append(random.random())\n",
    "print('随机完毕')"
   ],
   "id": "72f6fb41c3e11594",
   "outputs": [
    {
     "name": "stdout",
     "output_type": "stream",
     "text": [
      "随机完毕\n"
     ]
    }
   ],
   "execution_count": 2
  },
  {
   "metadata": {
    "ExecuteTime": {
     "end_time": "2025-01-06T15:18:10.373576Z",
     "start_time": "2025-01-06T15:18:07.339620Z"
    }
   },
   "cell_type": "code",
   "source": [
    "# 转换为ndarray\n",
    "b = np.array(a)\n",
    "print('转换完毕')"
   ],
   "id": "e35b0392f6f0dc43",
   "outputs": [
    {
     "name": "stdout",
     "output_type": "stream",
     "text": [
      "转换完毕\n"
     ]
    }
   ],
   "execution_count": 3
  },
  {
   "metadata": {
    "ExecuteTime": {
     "end_time": "2025-01-06T15:23:27.519793Z",
     "start_time": "2025-01-06T15:23:26.633488Z"
    }
   },
   "cell_type": "code",
   "source": [
    "# ndarray与Python原生list运算效率对比\n",
    "# 记录 sum(a) 开始执行时的时间\n",
    "t1 = time.time()\n",
    "# 用python的内置函数sum()计算列表a中所有元素的总和\n",
    "sum1 = sum(a)\n",
    "# 记录 sum(a) 执行结束时的时间\n",
    "t2 = time.time()\n",
    "# 记录 np.sum(b) 开始执行时的时间\n",
    "t4 = time.time()\n",
    "# 使用numpy的np.sum()函数计算数组b中所有元素的总和\n",
    "sum3 = np.sum(b)\n",
    "# 记录 np.sum(b) 执行结束时的时间\n",
    "t5 = time.time()\n",
    "print(t2 - t1, t5 - t4)"
   ],
   "id": "a84eb0bee70ecf6b",
   "outputs": [
    {
     "name": "stdout",
     "output_type": "stream",
     "text": [
      "0.7771909236907959 0.10548806190490723\n"
     ]
    }
   ],
   "execution_count": 4
  },
  {
   "metadata": {},
   "cell_type": "markdown",
   "source": "# 常用操作",
   "id": "4b2f9a6b6f2eaee9"
  },
  {
   "metadata": {
    "ExecuteTime": {
     "end_time": "2025-01-06T15:26:29.969067Z",
     "start_time": "2025-01-06T15:26:29.965053Z"
    }
   },
   "cell_type": "code",
   "source": [
    "# 一维数组\n",
    "list1 = [1, 2, 3, 4]\n",
    "print(list1)\n",
    "print(type(list1))\n",
    "oneArray = np.array(list1)\n",
    "print(type(oneArray))\n",
    "print(oneArray)"
   ],
   "id": "55c38c665e3cbabf",
   "outputs": [
    {
     "name": "stdout",
     "output_type": "stream",
     "text": [
      "[1, 2, 3, 4]\n",
      "<class 'list'>\n",
      "<class 'numpy.ndarray'>\n",
      "[1 2 3 4]\n"
     ]
    }
   ],
   "execution_count": 5
  },
  {
   "metadata": {
    "ExecuteTime": {
     "end_time": "2025-01-06T15:27:29.889280Z",
     "start_time": "2025-01-06T15:27:29.883857Z"
    }
   },
   "cell_type": "code",
   "source": [
    "# 二维数组\n",
    "list2 = [[1, 2], [3, 4], [5, 6]]\n",
    "\n",
    "twoArray = np.array(list2)\n",
    "print(type(twoArray))\n",
    "print(twoArray)\n",
    "print(list2)\n",
    "twoArray.tolist()"
   ],
   "id": "46b2c6d12beba3b8",
   "outputs": [
    {
     "name": "stdout",
     "output_type": "stream",
     "text": [
      "<class 'numpy.ndarray'>\n",
      "[[1 2]\n",
      " [3 4]\n",
      " [5 6]]\n",
      "[[1, 2], [3, 4], [5, 6]]\n"
     ]
    },
    {
     "data": {
      "text/plain": [
       "[[1, 2], [3, 4], [5, 6]]"
      ]
     },
     "execution_count": 7,
     "metadata": {},
     "output_type": "execute_result"
    }
   ],
   "execution_count": 7
  },
  {
   "metadata": {
    "ExecuteTime": {
     "end_time": "2025-01-06T15:28:21.149086Z",
     "start_time": "2025-01-06T15:28:21.145539Z"
    }
   },
   "cell_type": "code",
   "source": [
    "# 常用属性\n",
    "#看ndarray的各种属性\n",
    "list2 = [[1, 2], [3, 4], [5, 6]]\n",
    "\n",
    "twoArray = np.array(list2)\n",
    "# 获取数组的维度( 注意： 与函数的参数很像) \n",
    "print(twoArray.ndim)\n",
    "\n",
    "# 形状（行，列） (0 axis,1 axis)\n",
    "print(twoArray.shape)\n",
    "\n",
    "# 有多少个元素\n",
    "print(twoArray.size)\n",
    "# 数据类型\n",
    "print(twoArray.dtype)"
   ],
   "id": "9ab039df43ca27ab",
   "outputs": [
    {
     "name": "stdout",
     "output_type": "stream",
     "text": [
      "2\n",
      "(3, 2)\n",
      "6\n",
      "int64\n"
     ]
    }
   ],
   "execution_count": 8
  },
  {
   "metadata": {},
   "cell_type": "markdown",
   "source": "# 调整数组形状",
   "id": "91d5f7601ac33ba2"
  },
  {
   "metadata": {
    "ExecuteTime": {
     "end_time": "2025-01-06T15:31:13.346149Z",
     "start_time": "2025-01-06T15:31:13.343109Z"
    }
   },
   "cell_type": "code",
   "source": [
    "arr =np.array([[1,2,3],[4,5,6]])\n",
    "print(arr)\n",
    "arr1=arr\n",
    "print(id(arr1))"
   ],
   "id": "49ab81ee274d5114",
   "outputs": [
    {
     "name": "stdout",
     "output_type": "stream",
     "text": [
      "[[1 2 3]\n",
      " [4 5 6]]\n",
      "2513220012144\n"
     ]
    }
   ],
   "execution_count": 12
  },
  {
   "metadata": {
    "ExecuteTime": {
     "end_time": "2025-01-06T15:32:14.905639Z",
     "start_time": "2025-01-06T15:32:14.903037Z"
    }
   },
   "cell_type": "code",
   "source": [
    "# 改变形状\n",
    "arr.shape=(3,2)\n",
    "print(id(arr))\n",
    "print(id(arr1))\n",
    "print(arr)"
   ],
   "id": "8e8186b29ed99a06",
   "outputs": [
    {
     "name": "stdout",
     "output_type": "stream",
     "text": [
      "2513220012144\n",
      "2513220012144\n",
      "[[1 2]\n",
      " [3 4]\n",
      " [5 6]]\n"
     ]
    }
   ],
   "execution_count": 13
  },
  {
   "metadata": {
    "ExecuteTime": {
     "end_time": "2025-01-06T15:34:21.111664Z",
     "start_time": "2025-01-06T15:34:21.108467Z"
    }
   },
   "cell_type": "code",
   "source": [
    "# 返回一个新的数组，reshape后id和之前的不一样\n",
    "arr2 = arr.reshape(2,3)\n",
    "print(arr)\n",
    "print(id(arr))\n",
    "print(id(arr2))\n",
    "arr2"
   ],
   "id": "6d704b98cbe8e05",
   "outputs": [
    {
     "name": "stdout",
     "output_type": "stream",
     "text": [
      "[[1 2]\n",
      " [3 4]\n",
      " [5 6]]\n",
      "2513220012144\n",
      "2513220010992\n"
     ]
    },
    {
     "data": {
      "text/plain": [
       "array([[1, 2, 3],\n",
       "       [4, 5, 6]])"
      ]
     },
     "execution_count": 14,
     "metadata": {},
     "output_type": "execute_result"
    }
   ],
   "execution_count": 14
  },
  {
   "metadata": {
    "ExecuteTime": {
     "end_time": "2025-01-06T15:38:36.283548Z",
     "start_time": "2025-01-06T15:38:36.280352Z"
    }
   },
   "cell_type": "code",
   "source": [
    "# 将多维变成一维数组\n",
    "# 一维数组长度为6  C表示行优先展开\n",
    "arr3 =arr.reshape((6,),order = 'C')\n",
    "# 展开成一维数组\n",
    "arr4 = arr.flatten()\n",
    "print(arr3)\n",
    "print('-' * 50)\n",
    "print(arr4)"
   ],
   "id": "f0e8aa20ec7bf3d3",
   "outputs": [
    {
     "name": "stdout",
     "output_type": "stream",
     "text": [
      "[1 2 3 4 5 6]\n",
      "--------------------------------------------------\n",
      "[1 2 3 4 5 6]\n"
     ]
    }
   ],
   "execution_count": 15
  },
  {
   "metadata": {
    "ExecuteTime": {
     "end_time": "2025-01-06T15:41:31.498546Z",
     "start_time": "2025-01-06T15:41:31.494982Z"
    }
   },
   "cell_type": "code",
   "source": [
    "# 转成三维\n",
    "#最前面的是零轴，轴越小，越靠外，最小的轴是最外层\n",
    "# 0轴，1轴，2轴\n",
    "t = np.arange(24)\n",
    "# 第一维包含2个块  第二维每块中有3行  第三维每行中有4个元素\n",
    "t2 = t.reshape((2, 3, 4))\n",
    "print(t2)\n",
    "print(t2.shape)\n",
    "print(t2.ndim)"
   ],
   "id": "1cf818e50225653a",
   "outputs": [
    {
     "name": "stdout",
     "output_type": "stream",
     "text": [
      "[[[ 0  1  2  3]\n",
      "  [ 4  5  6  7]\n",
      "  [ 8  9 10 11]]\n",
      "\n",
      " [[12 13 14 15]\n",
      "  [16 17 18 19]\n",
      "  [20 21 22 23]]]\n",
      "(2, 3, 4)\n",
      "3\n"
     ]
    }
   ],
   "execution_count": 17
  },
  {
   "metadata": {
    "ExecuteTime": {
     "end_time": "2025-01-06T15:43:03.250487Z",
     "start_time": "2025-01-06T15:43:03.247571Z"
    }
   },
   "cell_type": "code",
   "source": [
    "# 变为四维   第一维包含2个块  第二维每块中有3块  第三维每块中有2行  第四维每行中有2个元素\n",
    "t3 = t.reshape((2, 3, 2, 2))\n",
    "print(t3)\n",
    "print(t3.shape)\n",
    "print(t3.ndim)"
   ],
   "id": "a2d4d4aced02d46b",
   "outputs": [
    {
     "name": "stdout",
     "output_type": "stream",
     "text": [
      "[[[[ 0  1]\n",
      "   [ 2  3]]\n",
      "\n",
      "  [[ 4  5]\n",
      "   [ 6  7]]\n",
      "\n",
      "  [[ 8  9]\n",
      "   [10 11]]]\n",
      "\n",
      "\n",
      " [[[12 13]\n",
      "   [14 15]]\n",
      "\n",
      "  [[16 17]\n",
      "   [18 19]]\n",
      "\n",
      "  [[20 21]\n",
      "   [22 23]]]]\n",
      "(2, 3, 2, 2)\n",
      "4\n"
     ]
    }
   ],
   "execution_count": 19
  },
  {
   "metadata": {
    "ExecuteTime": {
     "end_time": "2025-01-06T15:44:27.412800Z",
     "start_time": "2025-01-06T15:44:26.611173Z"
    }
   },
   "cell_type": "code",
   "source": [
    "#将数组转换为列表 tolist\n",
    "a = np.array([9, 12, 88, 14, 25])\n",
    "print(type(a))\n",
    "list_a = a.tolist()\n",
    "print(list_a)\n",
    "print(type(list_a))"
   ],
   "id": "f00667981a4d5a2e",
   "outputs": [
    {
     "name": "stdout",
     "output_type": "stream",
     "text": [
      "<class 'numpy.ndarray'>\n",
      "[9, 12, 88, 14, 25]\n",
      "<class 'list'>\n"
     ]
    }
   ],
   "execution_count": 20
  },
  {
   "metadata": {},
   "cell_type": "markdown",
   "source": "# numpy的数据类型",
   "id": "f1799979af551fe3"
  },
  {
   "metadata": {
    "ExecuteTime": {
     "end_time": "2025-01-06T15:45:07.011091Z",
     "start_time": "2025-01-06T15:45:07.008073Z"
    }
   },
   "cell_type": "code",
   "source": [
    "import random\n",
    "\n",
    "f = np.array([1, 2, 3, 4, 127], dtype=np.int8)  # 返回数组中每个元素的字节单位长度,dtype设置数据类型\n",
    "print(f.itemsize)  # 1 np.int16(一个字节)\n",
    "# 获取数据类型\n",
    "print(f.dtype)"
   ],
   "id": "37cc4bbd819b4c72",
   "outputs": [
    {
     "name": "stdout",
     "output_type": "stream",
     "text": [
      "1\n",
      "int8\n"
     ]
    }
   ],
   "execution_count": 21
  },
  {
   "metadata": {
    "ExecuteTime": {
     "end_time": "2025-01-06T15:47:40.960946Z",
     "start_time": "2025-01-06T15:47:40.957875Z"
    }
   },
   "cell_type": "code",
   "source": [
    "# 调整数据类型\n",
    "f1 = f.astype(np.int64)\n",
    "print(f1.dtype)\n",
    "print(f1.itemsize)  #显示字节数"
   ],
   "id": "d2eebea095176bf0",
   "outputs": [
    {
     "name": "stdout",
     "output_type": "stream",
     "text": [
      "int64\n",
      "8\n"
     ]
    }
   ],
   "execution_count": 22
  },
  {
   "metadata": {
    "ExecuteTime": {
     "end_time": "2025-01-06T15:47:57.447123Z",
     "start_time": "2025-01-06T15:47:57.444371Z"
    }
   },
   "cell_type": "code",
   "source": "random.random()  # 随机生成0-1之间的小数",
   "id": "c41327ec4174fab2",
   "outputs": [
    {
     "data": {
      "text/plain": [
       "0.8652402519571599"
      ]
     },
     "execution_count": 23,
     "metadata": {},
     "output_type": "execute_result"
    }
   ],
   "execution_count": 23
  },
  {
   "metadata": {
    "ExecuteTime": {
     "end_time": "2025-01-06T15:48:34.873089Z",
     "start_time": "2025-01-06T15:48:34.869241Z"
    }
   },
   "cell_type": "code",
   "source": [
    "# 数组和数的计算\n",
    "# 由于numpy的广播机机制在运算过程中，加减乘除的值被广播到所有的元素上面\n",
    "#无论多少维的ndarray都可以直接和一个常数进行运算\n",
    "# 不能对列表进行直接加整数操作\n",
    "t1 = np.arange(24).reshape((6, 4))\n",
    "print(t1)\n",
    "print(\"-\" * 20)\n",
    "print(t1 + 2)\n",
    "print(\"-\" * 20)\n",
    "print(t1 * 2)\n",
    "print(\"-\" * 20)\n",
    "print(t1 / 2)"
   ],
   "id": "bd6d1b7a9156f49a",
   "outputs": [
    {
     "name": "stdout",
     "output_type": "stream",
     "text": [
      "[[ 0  1  2  3]\n",
      " [ 4  5  6  7]\n",
      " [ 8  9 10 11]\n",
      " [12 13 14 15]\n",
      " [16 17 18 19]\n",
      " [20 21 22 23]]\n",
      "--------------------\n",
      "[[ 2  3  4  5]\n",
      " [ 6  7  8  9]\n",
      " [10 11 12 13]\n",
      " [14 15 16 17]\n",
      " [18 19 20 21]\n",
      " [22 23 24 25]]\n",
      "--------------------\n",
      "[[ 0  2  4  6]\n",
      " [ 8 10 12 14]\n",
      " [16 18 20 22]\n",
      " [24 26 28 30]\n",
      " [32 34 36 38]\n",
      " [40 42 44 46]]\n",
      "--------------------\n",
      "[[ 0.   0.5  1.   1.5]\n",
      " [ 2.   2.5  3.   3.5]\n",
      " [ 4.   4.5  5.   5.5]\n",
      " [ 6.   6.5  7.   7.5]\n",
      " [ 8.   8.5  9.   9.5]\n",
      " [10.  10.5 11.  11.5]]\n"
     ]
    }
   ],
   "execution_count": 24
  },
  {
   "metadata": {
    "ExecuteTime": {
     "end_time": "2025-01-06T15:50:31.103855Z",
     "start_time": "2025-01-06T15:50:31.100388Z"
    }
   },
   "cell_type": "code",
   "source": [
    "#形状相同,才可以进行加减乘除\n",
    "t1 = np.arange(24).reshape((6, 4))\n",
    "t2 = np.arange(100, 124).reshape((6, 4))\n",
    "print(t1)\n",
    "print('-' * 50)\n",
    "print(t2)\n",
    "print('-' * 50)\n",
    "print(t1 + t2)\n",
    "print('-' * 50)\n",
    "print(t1 * t2)  #是否是矩阵乘法？不是\n"
   ],
   "id": "3e59a25b2df5067b",
   "outputs": [
    {
     "name": "stdout",
     "output_type": "stream",
     "text": [
      "[[ 0  1  2  3]\n",
      " [ 4  5  6  7]\n",
      " [ 8  9 10 11]\n",
      " [12 13 14 15]\n",
      " [16 17 18 19]\n",
      " [20 21 22 23]]\n",
      "--------------------------------------------------\n",
      "[[100 101 102 103]\n",
      " [104 105 106 107]\n",
      " [108 109 110 111]\n",
      " [112 113 114 115]\n",
      " [116 117 118 119]\n",
      " [120 121 122 123]]\n",
      "--------------------------------------------------\n",
      "[[100 102 104 106]\n",
      " [108 110 112 114]\n",
      " [116 118 120 122]\n",
      " [124 126 128 130]\n",
      " [132 134 136 138]\n",
      " [140 142 144 146]]\n",
      "--------------------------------------------------\n",
      "[[   0  101  204  309]\n",
      " [ 416  525  636  749]\n",
      " [ 864  981 1100 1221]\n",
      " [1344 1469 1596 1725]\n",
      " [1856 1989 2124 2261]\n",
      " [2400 2541 2684 2829]]\n"
     ]
    }
   ],
   "execution_count": 26
  },
  {
   "metadata": {},
   "cell_type": "code",
   "outputs": [],
   "execution_count": null,
   "source": "#shape不同，不能进行运算",
   "id": "ba53458406827eca"
  },
  {
   "metadata": {
    "ExecuteTime": {
     "end_time": "2025-01-06T15:51:00.688100Z",
     "start_time": "2025-01-06T15:51:00.684146Z"
    }
   },
   "cell_type": "code",
   "source": [
    "#一维数组和二维数组进行运算时，一维的元素个数和列数相等\n",
    "t1 = np.arange(24).reshape((4, 6))\n",
    "t2 = np.arange(6).reshape((1, 6))\n",
    "print(t2.shape)\n",
    "print(t1)\n",
    "print(t2)\n",
    "t1 - t2"
   ],
   "id": "5b477572c26dad76",
   "outputs": [
    {
     "name": "stdout",
     "output_type": "stream",
     "text": [
      "(1, 6)\n",
      "[[ 0  1  2  3  4  5]\n",
      " [ 6  7  8  9 10 11]\n",
      " [12 13 14 15 16 17]\n",
      " [18 19 20 21 22 23]]\n",
      "[[0 1 2 3 4 5]]\n"
     ]
    },
    {
     "data": {
      "text/plain": [
       "array([[ 0,  0,  0,  0,  0,  0],\n",
       "       [ 6,  6,  6,  6,  6,  6],\n",
       "       [12, 12, 12, 12, 12, 12],\n",
       "       [18, 18, 18, 18, 18, 18]])"
      ]
     },
     "execution_count": 27,
     "metadata": {},
     "output_type": "execute_result"
    }
   ],
   "execution_count": 27
  },
  {
   "metadata": {
    "ExecuteTime": {
     "end_time": "2025-01-06T15:51:22.996635Z",
     "start_time": "2025-01-06T15:51:22.993408Z"
    }
   },
   "cell_type": "code",
   "source": "(t1 - t2).shape",
   "id": "2a2c1f3fca68d7c8",
   "outputs": [
    {
     "data": {
      "text/plain": [
       "(4, 6)"
      ]
     },
     "execution_count": 28,
     "metadata": {},
     "output_type": "execute_result"
    }
   ],
   "execution_count": 28
  },
  {
   "metadata": {
    "ExecuteTime": {
     "end_time": "2025-01-06T15:51:44.247707Z",
     "start_time": "2025-01-06T15:51:44.243963Z"
    }
   },
   "cell_type": "code",
   "source": [
    "t1 = np.arange(24).reshape((4, 6))\n",
    "t2 = np.arange(4).reshape((4, 1))\n",
    "print(t2)\n",
    "print(t1)\n",
    "t1 - t2"
   ],
   "id": "596c3d15fcfb3054",
   "outputs": [
    {
     "name": "stdout",
     "output_type": "stream",
     "text": [
      "[[0]\n",
      " [1]\n",
      " [2]\n",
      " [3]]\n",
      "[[ 0  1  2  3  4  5]\n",
      " [ 6  7  8  9 10 11]\n",
      " [12 13 14 15 16 17]\n",
      " [18 19 20 21 22 23]]\n"
     ]
    },
    {
     "data": {
      "text/plain": [
       "array([[ 0,  1,  2,  3,  4,  5],\n",
       "       [ 5,  6,  7,  8,  9, 10],\n",
       "       [10, 11, 12, 13, 14, 15],\n",
       "       [15, 16, 17, 18, 19, 20]])"
      ]
     },
     "execution_count": 29,
     "metadata": {},
     "output_type": "execute_result"
    }
   ],
   "execution_count": 29
  },
  {
   "metadata": {},
   "cell_type": "markdown",
   "source": "# 练习轴",
   "id": "70c674a3b0779f89"
  },
  {
   "metadata": {
    "ExecuteTime": {
     "end_time": "2025-01-06T15:52:17.068627Z",
     "start_time": "2025-01-06T15:52:17.064609Z"
    }
   },
   "cell_type": "code",
   "source": [
    "import numpy as np\n",
    "\n",
    "a = np.array([[1, 2, 3], [4, 5, 6]])\n",
    "print(a)\n",
    "print(\"-\" * 20)\n",
    "print(np.sum(a, axis=0))  # [5 7 9]，按哪个轴求和，哪个轴没了\n",
    "print(\"-\" * 20)\n",
    "print(np.sum(a, axis=1))  # [ 6 15]\n",
    "print(\"-\" * 20)\n",
    "print(np.sum(a))"
   ],
   "id": "108aa047f7edfaf5",
   "outputs": [
    {
     "name": "stdout",
     "output_type": "stream",
     "text": [
      "[[1 2 3]\n",
      " [4 5 6]]\n",
      "--------------------\n",
      "[5 7 9]\n",
      "--------------------\n",
      "[ 6 15]\n",
      "--------------------\n",
      "21\n"
     ]
    }
   ],
   "execution_count": 30
  },
  {
   "metadata": {
    "ExecuteTime": {
     "end_time": "2025-01-06T15:52:30.414892Z",
     "start_time": "2025-01-06T15:52:30.389337Z"
    }
   },
   "cell_type": "code",
   "source": [
    "a = np.arange(24).reshape((2, 3, 4))\n",
    "b = np.sum(a, axis=0)\n",
    "print(\"-\" * 20)\n",
    "print(b.shape)\n",
    "c = np.sum(a, axis=1)\n",
    "print(\"-\" * 20)\n",
    "print(c.shape)\n",
    "d = np.sum(a, axis=2)\n",
    "print(\"-\" * 20)\n",
    "print(d.shape)"
   ],
   "id": "69dbc06e53930dbd",
   "outputs": [
    {
     "name": "stdout",
     "output_type": "stream",
     "text": [
      "--------------------\n",
      "(3, 4)\n",
      "--------------------\n",
      "(2, 4)\n",
      "--------------------\n",
      "(2, 3)\n"
     ]
    }
   ],
   "execution_count": 31
  },
  {
   "metadata": {},
   "cell_type": "markdown",
   "source": "# 索引和切片",
   "id": "388ee78c49f1c062"
  },
  {
   "metadata": {
    "ExecuteTime": {
     "end_time": "2025-01-06T15:53:23.599316Z",
     "start_time": "2025-01-06T15:53:23.595722Z"
    }
   },
   "cell_type": "code",
   "source": [
    "a = np.arange(10)\n",
    "# 冒号分隔切片参数 start:stop:step 来进行切片操作print(a[2:7:2])# 从索引 2 开始到索引 7 停止，间隔为 2\n",
    "# 如果只放置一个参数，如 [2]，将返回与该索引相对应的单个元素\n",
    "print(a[0], a)\n",
    "# 如果为 [2:]，表示从该索引开始以后的所有项都将被提取\n",
    "print(a[2:])\n",
    "#切片是左闭右开\n",
    "print(a[2:8:2])"
   ],
   "id": "184cd8eac761b882",
   "outputs": [
    {
     "name": "stdout",
     "output_type": "stream",
     "text": [
      "0 [0 1 2 3 4 5 6 7 8 9]\n",
      "[2 3 4 5 6 7 8 9]\n",
      "[2 4 6]\n"
     ]
    }
   ],
   "execution_count": 32
  },
  {
   "metadata": {
    "ExecuteTime": {
     "end_time": "2025-01-06T15:53:48.496130Z",
     "start_time": "2025-01-06T15:53:48.492486Z"
    }
   },
   "cell_type": "code",
   "source": [
    "t1 = np.arange(24).reshape(4, 6)\n",
    "print(t1)\n",
    "print('*' * 20)\n",
    "print(t1[1])  # 取一行(一行代表是一条数据，索引也是从0开始的) print(t1[1,:]) # 取一行\n",
    "print('*' * 20)\n",
    "print(t1[1:])  # 取连续的多行\n",
    "print('*' * 20)\n",
    "print(t1[1:3, :])  # 取连续的多行\n",
    "print('*' * 20)\n",
    "print(t1[[0, 2, 3]])  # 取不连续的多行"
   ],
   "id": "7fc9abf496c72bc7",
   "outputs": [
    {
     "name": "stdout",
     "output_type": "stream",
     "text": [
      "[[ 0  1  2  3  4  5]\n",
      " [ 6  7  8  9 10 11]\n",
      " [12 13 14 15 16 17]\n",
      " [18 19 20 21 22 23]]\n",
      "********************\n",
      "[ 6  7  8  9 10 11]\n",
      "********************\n",
      "[[ 6  7  8  9 10 11]\n",
      " [12 13 14 15 16 17]\n",
      " [18 19 20 21 22 23]]\n",
      "********************\n",
      "[[ 6  7  8  9 10 11]\n",
      " [12 13 14 15 16 17]]\n",
      "********************\n",
      "[[ 0  1  2  3  4  5]\n",
      " [12 13 14 15 16 17]\n",
      " [18 19 20 21 22 23]]\n"
     ]
    }
   ],
   "execution_count": 33
  },
  {
   "metadata": {
    "ExecuteTime": {
     "end_time": "2025-01-06T15:54:29.690485Z",
     "start_time": "2025-01-06T15:54:29.685850Z"
    }
   },
   "cell_type": "code",
   "source": [
    "print(t1[:, 1])  # 取一列\n",
    "print('*' * 20)\n",
    "print(t1[:, 1:])  # 连续的多列\n",
    "print('*' * 20)\n",
    "print(t1[:, [0, 2, 3]])  # 取不连续的多列\n",
    "print('*' * 20)\n",
    "print(t1[2, 3])  # # 取某一个值,三行四列  py是t1[2][3]\n",
    "print('*' * 20)\n",
    "print(t1[[0, 1, 1], [0, 1, 3]])  # 取多个不连续的值，[[行，行。。。],[列，列。。。]]\n",
    "\n",
    "t1[1:3, 1:4]  #取1-3行，1-4列"
   ],
   "id": "bd86833bf869af24",
   "outputs": [
    {
     "name": "stdout",
     "output_type": "stream",
     "text": [
      "[ 1  7 13 19]\n",
      "********************\n",
      "[[ 1  2  3  4  5]\n",
      " [ 7  8  9 10 11]\n",
      " [13 14 15 16 17]\n",
      " [19 20 21 22 23]]\n",
      "********************\n",
      "[[ 0  2  3]\n",
      " [ 6  8  9]\n",
      " [12 14 15]\n",
      " [18 20 21]]\n",
      "********************\n",
      "15\n",
      "********************\n",
      "[0 7 9]\n"
     ]
    },
    {
     "data": {
      "text/plain": [
       "array([[ 7,  8,  9],\n",
       "       [13, 14, 15]])"
      ]
     },
     "execution_count": 34,
     "metadata": {},
     "output_type": "execute_result"
    }
   ],
   "execution_count": 34
  },
  {
   "metadata": {},
   "cell_type": "markdown",
   "source": "# 修改值",
   "id": "9d122bbf29204e8e"
  },
  {
   "metadata": {
    "ExecuteTime": {
     "end_time": "2025-01-06T15:55:59.049260Z",
     "start_time": "2025-01-06T15:55:59.044323Z"
    }
   },
   "cell_type": "code",
   "source": [
    "t = np.arange(24).reshape(4, 6)\n",
    "print(t)\n",
    "print(id(t))\n",
    "print('-' * 50)\n",
    "# 修改某一行的值\n",
    "t[1,:]=0\n",
    "\n",
    "# 修改某一列的值\n",
    "t[:,1]=0\n",
    "\n",
    "# 修改连续多行\n",
    "t[1:3,:]=0\n",
    "\n",
    "# 修改连续多列\n",
    "t[:,1:4]=0\n",
    "\n",
    "# 修改多行多列，取第二行到第四行，第三列到第五列\n",
    "t[1:3,2:5]=0\n",
    "\n",
    "# 修改多个不相邻的点\n",
    "t[[0,1],[1,3]]=0\n",
    "\n",
    "# 可以根据条件修改，比如讲小于10的值改掉\n",
    "t[t<10]=0\n",
    "\n",
    "# 使用逻辑判断\n",
    "t[(t>2)&(t<6)]=0\t# 逻辑与，and\n",
    "t[(t<2)|(t>6)]=0\t# 逻辑或，or\n",
    "t[~(t>6)]=0\t# 逻辑非\n",
    "print(t)\n",
    "t = t.clip(10, 18)\n",
    "print(id(t))\n",
    "t"
   ],
   "id": "416480cd6deb4d8f",
   "outputs": [
    {
     "name": "stdout",
     "output_type": "stream",
     "text": [
      "[[ 0  1  2  3  4  5]\n",
      " [ 6  7  8  9 10 11]\n",
      " [12 13 14 15 16 17]\n",
      " [18 19 20 21 22 23]]\n",
      "2508520970384\n",
      "--------------------------------------------------\n",
      "[[0 0 0 0 0 0]\n",
      " [0 0 0 0 0 0]\n",
      " [0 0 0 0 0 0]\n",
      " [0 0 0 0 0 0]]\n",
      "2508520972688\n"
     ]
    },
    {
     "data": {
      "text/plain": [
       "array([[10, 10, 10, 10, 10, 10],\n",
       "       [10, 10, 10, 10, 10, 10],\n",
       "       [10, 10, 10, 10, 10, 10],\n",
       "       [10, 10, 10, 10, 10, 10]])"
      ]
     },
     "execution_count": 35,
     "metadata": {},
     "output_type": "execute_result"
    }
   ],
   "execution_count": 35
  },
  {
   "metadata": {
    "ExecuteTime": {
     "end_time": "2025-01-06T15:56:09.455506Z",
     "start_time": "2025-01-06T15:56:09.452263Z"
    }
   },
   "cell_type": "code",
   "source": [
    "t = np.arange(24).reshape(4, 6)\n",
    "t < 10"
   ],
   "id": "8d35d770f26ee6b8",
   "outputs": [
    {
     "data": {
      "text/plain": [
       "array([[ True,  True,  True,  True,  True,  True],\n",
       "       [ True,  True,  True,  True, False, False],\n",
       "       [False, False, False, False, False, False],\n",
       "       [False, False, False, False, False, False]])"
      ]
     },
     "execution_count": 36,
     "metadata": {},
     "output_type": "execute_result"
    }
   ],
   "execution_count": 36
  },
  {
   "metadata": {
    "ExecuteTime": {
     "end_time": "2025-01-06T15:56:16.331750Z",
     "start_time": "2025-01-06T15:56:16.329164Z"
    }
   },
   "cell_type": "code",
   "source": [
    "#python的三目运算\n",
    "a = 10\n",
    "b = 15\n",
    "c = a if a > b else b\n",
    "c"
   ],
   "id": "7b8d344b13336f54",
   "outputs": [
    {
     "data": {
      "text/plain": [
       "15"
      ]
     },
     "execution_count": 37,
     "metadata": {},
     "output_type": "execute_result"
    }
   ],
   "execution_count": 37
  }
 ],
 "metadata": {
  "kernelspec": {
   "display_name": "Python 3",
   "language": "python",
   "name": "python3"
  },
  "language_info": {
   "codemirror_mode": {
    "name": "ipython",
    "version": 2
   },
   "file_extension": ".py",
   "mimetype": "text/x-python",
   "name": "python",
   "nbconvert_exporter": "python",
   "pygments_lexer": "ipython2",
   "version": "2.7.6"
  }
 },
 "nbformat": 4,
 "nbformat_minor": 5
}
