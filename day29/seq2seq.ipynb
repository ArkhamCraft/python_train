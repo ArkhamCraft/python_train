{
 "cells": [
  {
   "cell_type": "code",
   "execution_count": 1,
   "id": "initial_id",
   "metadata": {
    "ExecuteTime": {
     "end_time": "2025-02-13T03:48:50.120569Z",
     "start_time": "2025-02-13T03:48:33.752709Z"
    },
    "collapsed": true,
    "execution": {
     "iopub.execute_input": "2025-02-13T09:57:59.109283Z",
     "iopub.status.busy": "2025-02-13T09:57:59.109122Z",
     "iopub.status.idle": "2025-02-13T09:58:01.235842Z",
     "shell.execute_reply": "2025-02-13T09:58:01.235342Z",
     "shell.execute_reply.started": "2025-02-13T09:57:59.109263Z"
    },
    "jupyter": {
     "outputs_hidden": true
    }
   },
   "outputs": [
    {
     "name": "stderr",
     "output_type": "stream",
     "text": [
      "/usr/local/lib/python3.10/site-packages/tqdm/auto.py:21: TqdmWarning: IProgress not found. Please update jupyter and ipywidgets. See https://ipywidgets.readthedocs.io/en/stable/user_install.html\n",
      "  from .autonotebook import tqdm as notebook_tqdm\n"
     ]
    },
    {
     "name": "stdout",
     "output_type": "stream",
     "text": [
      "sys.version_info(major=3, minor=10, micro=14, releaselevel='final', serial=0)\n",
      "matplotlib 3.10.0\n",
      "numpy 1.26.4\n",
      "pandas 2.2.3\n",
      "sklearn 1.6.0\n",
      "torch 2.5.1+cu124\n",
      "cuda:0\n"
     ]
    }
   ],
   "source": [
    "import matplotlib as mpl\n",
    "import matplotlib.pyplot as plt\n",
    "%matplotlib inline\n",
    "import numpy as np\n",
    "import sklearn\n",
    "import pandas as pd\n",
    "import os\n",
    "import sys\n",
    "import time\n",
    "from tqdm.auto import tqdm\n",
    "import torch\n",
    "import torch.nn as nn\n",
    "import torch.nn.functional as F\n",
    "\n",
    "print(sys.version_info)\n",
    "for module in mpl, np, pd, sklearn, torch:\n",
    "    print(module.__name__, module.__version__)\n",
    "\n",
    "device = torch.device(\"cuda:0\") if torch.cuda.is_available() else torch.device(\"cpu\")\n",
    "print(device)\n",
    "\n",
    "seed = 42\n",
    "torch.manual_seed(seed)\n",
    "torch.cuda.manual_seed_all(seed)\n",
    "np.random.seed(seed)\n"
   ]
  },
  {
   "cell_type": "markdown",
   "id": "d722c190911f741b",
   "metadata": {},
   "source": [
    "# 数据加载"
   ]
  },
  {
   "cell_type": "code",
   "execution_count": 2,
   "id": "68f1acc5275a0781",
   "metadata": {
    "ExecuteTime": {
     "end_time": "2025-02-13T03:48:50.543146Z",
     "start_time": "2025-02-13T03:48:50.121569Z"
    },
    "execution": {
     "iopub.execute_input": "2025-02-13T09:58:01.237441Z",
     "iopub.status.busy": "2025-02-13T09:58:01.237000Z",
     "iopub.status.idle": "2025-02-13T09:58:01.269492Z",
     "shell.execute_reply": "2025-02-13T09:58:01.269020Z",
     "shell.execute_reply.started": "2025-02-13T09:58:01.237417Z"
    }
   },
   "outputs": [
    {
     "name": "stdout",
     "output_type": "stream",
     "text": [
      "May I borrow this book?\n",
      "¿Puedo tomar prestado este libro?\n"
     ]
    }
   ],
   "source": [
    "import unicodedata\n",
    "import re\n",
    "from sklearn.model_selection import train_test_split\n",
    "\n",
    "#因为西班牙语有一些是特殊字符，所以我们需要unicode转ascii，\n",
    "# 这样值变小了，因为unicode太大\n",
    "def unicode_to_ascii(s):\n",
    "    #NFD是转换方法，把每一个字节拆开，Mn是重音，所以去除\n",
    "    return ''.join(c for c in unicodedata.normalize('NFD', s) if unicodedata.category(c) != 'Mn')\n",
    "\n",
    "#下面我们找个样本测试一下\n",
    "# 加u代表对字符串进行unicode编码\n",
    "en_sentence = u\"May I borrow this book?\"\n",
    "sp_sentence = u\"¿Puedo tomar prestado este libro?\"\n",
    "\n",
    "print(unicode_to_ascii(en_sentence))\n",
    "print(unicode_to_ascii(sp_sentence))\n",
    "\n",
    "\n"
   ]
  },
  {
   "cell_type": "code",
   "execution_count": 3,
   "id": "b673c9454f155950",
   "metadata": {
    "ExecuteTime": {
     "end_time": "2025-02-13T03:48:50.547029Z",
     "start_time": "2025-02-13T03:48:50.543146Z"
    },
    "execution": {
     "iopub.execute_input": "2025-02-13T09:58:01.270268Z",
     "iopub.status.busy": "2025-02-13T09:58:01.270017Z",
     "iopub.status.idle": "2025-02-13T09:58:01.274966Z",
     "shell.execute_reply": "2025-02-13T09:58:01.274506Z",
     "shell.execute_reply.started": "2025-02-13T09:58:01.270249Z"
    }
   },
   "outputs": [
    {
     "name": "stdout",
     "output_type": "stream",
     "text": [
      "may i borrow this book ?\n",
      "¿ puedo tomar prestado este libro ?\n",
      "b'\\xc2\\xbf puedo tomar prestado este libro ?'\n"
     ]
    }
   ],
   "source": [
    "def preprocess_sentence(w):\n",
    "    #变为小写，去掉多余的空格，变成小写，id少一些\n",
    "    w = unicode_to_ascii(w.lower().strip())\n",
    "\n",
    "    # 在单词与跟在其后的标点符号之间插入一个空格\n",
    "    # eg: \"he is a boy.\" => \"he is a boy . \"\n",
    "    # Reference:- https://stackoverflow.com/questions/3645931/python-padding-punctuation-with-white-spaces-keeping-punctuation\n",
    "    w = re.sub(r\"([?.!,¿])\", r\" \\1 \", w)\n",
    "    #因为可能有多余空格，替换为一个空格，所以处理一下\n",
    "    w = re.sub(r'[\" \"]+', \" \", w)\n",
    "\n",
    "    # 除了 (a-z, A-Z, \".\", \"?\", \"!\", \",\")，将所有字符替换为空格，你可以保留一些标点符号\n",
    "    w = re.sub(r\"[^a-zA-Z?.!,¿]+\", \" \", w)\n",
    "\n",
    "    w = w.rstrip().strip()\n",
    "\n",
    "    return w\n",
    "\n",
    "print(preprocess_sentence(en_sentence))\n",
    "print(preprocess_sentence(sp_sentence))\n",
    "print(preprocess_sentence(sp_sentence).encode('utf-8'))  #¿是占用两个字节的"
   ]
  },
  {
   "cell_type": "markdown",
   "id": "5a05a1fc74ee3abe",
   "metadata": {},
   "source": [
    "# Dataset"
   ]
  },
  {
   "cell_type": "code",
   "execution_count": 4,
   "id": "f71dd3ff6c2d563c",
   "metadata": {
    "ExecuteTime": {
     "end_time": "2025-02-13T03:48:51.911033Z",
     "start_time": "2025-02-13T03:48:50.548029Z"
    },
    "execution": {
     "iopub.execute_input": "2025-02-13T09:58:01.275657Z",
     "iopub.status.busy": "2025-02-13T09:58:01.275488Z",
     "iopub.status.idle": "2025-02-13T09:58:01.632567Z",
     "shell.execute_reply": "2025-02-13T09:58:01.632020Z",
     "shell.execute_reply.started": "2025-02-13T09:58:01.275639Z"
    }
   },
   "outputs": [],
   "source": [
    "from pathlib import Path\n",
    "from torch.utils.data import Dataset, DataLoader\n",
    "\n",
    "class LangPairDataset(Dataset):\n",
    "    fpath = Path(r\"./spa.txt\") #数据文件路径\n",
    "    cache_path = Path(r\"./.cache/lang_pair.npy\") #缓存文件路径\n",
    "    split_index = np.random.choice(a=[\"train\", \"test\"], replace=True, p=[0.9, 0.1], size=118964) #按照9:1划分训练集和测试集\n",
    "    def __init__(self, mode=\"train\", cache=False):\n",
    "        if cache or not self.cache_path.exists():#如果没有缓存，或者缓存不存在，就处理一下数据\n",
    "            self.cache_path.parent.mkdir(parents=True, exist_ok=True) #创建缓存文件夹，如果存在就忽略\n",
    "            with open(self.fpath, \"r\", encoding=\"utf8\") as file:\n",
    "                lines = file.readlines()\n",
    "                lang_pair = [[preprocess_sentence(w) for w in l.split('\\t')]  for l in lines] #处理数据，变成list((trg, src))的形式\n",
    "                trg, src = zip(*lang_pair) #分离出目标语言和源语言\n",
    "                trg=np.array(trg) #转换为numpy数组\n",
    "                src=np.array(src) #转换为numpy数组\n",
    "                np.save(self.cache_path, {\"trg\": trg, \"src\": src})  #保存为npy文件,方便下次直接读取,不用再处理\n",
    "        else:\n",
    "            lang_pair = np.load(self.cache_path, allow_pickle=True).item() #读取npy文件，allow_pickle=True允许读取字典\n",
    "            trg = lang_pair[\"trg\"]\n",
    "            src = lang_pair[\"src\"]\n",
    "\n",
    "        self.trg = trg[self.split_index == mode] #按照index拿到训练集的 标签语言 --英语\n",
    "        self.src = src[self.split_index == mode] #按照index拿到训练集的源语言 --西班牙\n",
    "\n",
    "    def __getitem__(self, index):\n",
    "        return self.src[index], self.trg[index]\n",
    "\n",
    "    def __len__(self):\n",
    "        return len(self.src)\n",
    "\n",
    "\n",
    "train_ds = LangPairDataset(\"train\")\n",
    "test_ds = LangPairDataset(\"test\")"
   ]
  },
  {
   "cell_type": "code",
   "execution_count": 5,
   "id": "3e045a5d7435d029",
   "metadata": {
    "ExecuteTime": {
     "end_time": "2025-02-13T03:48:51.914543Z",
     "start_time": "2025-02-13T03:48:51.912037Z"
    },
    "execution": {
     "iopub.execute_input": "2025-02-13T09:58:01.633461Z",
     "iopub.status.busy": "2025-02-13T09:58:01.633193Z",
     "iopub.status.idle": "2025-02-13T09:58:01.636500Z",
     "shell.execute_reply": "2025-02-13T09:58:01.636017Z",
     "shell.execute_reply.started": "2025-02-13T09:58:01.633441Z"
    }
   },
   "outputs": [
    {
     "name": "stdout",
     "output_type": "stream",
     "text": [
      "source: si quieres sonar como un hablante nativo , debes estar dispuesto a practicar diciendo la misma frase una y otra vez de la misma manera en que un musico de banjo practica el mismo fraseo una y otra vez hasta que lo puedan tocar correctamente y en el tiempo esperado .\n",
      "target: if you want to sound like a native speaker , you must be willing to practice saying the same sentence over and over in the same way that banjo players practice the same phrase over and over until they can play it correctly and at the desired tempo .\n"
     ]
    }
   ],
   "source": [
    "print(\"source: {}\\ntarget: {}\".format(*train_ds[-1]))"
   ]
  },
  {
   "cell_type": "markdown",
   "id": "2365fab89bd1ea4b",
   "metadata": {},
   "source": [
    "# Tokenizer"
   ]
  },
  {
   "cell_type": "code",
   "execution_count": 6,
   "id": "497f51b5da49e8d6",
   "metadata": {
    "ExecuteTime": {
     "end_time": "2025-02-13T03:48:52.360555Z",
     "start_time": "2025-02-13T03:48:51.914543Z"
    },
    "execution": {
     "iopub.execute_input": "2025-02-13T09:58:01.637404Z",
     "iopub.status.busy": "2025-02-13T09:58:01.637045Z",
     "iopub.status.idle": "2025-02-13T09:58:02.229341Z",
     "shell.execute_reply": "2025-02-13T09:58:02.228623Z",
     "shell.execute_reply.started": "2025-02-13T09:58:01.637385Z"
    }
   },
   "outputs": [
    {
     "name": "stdout",
     "output_type": "stream",
     "text": [
      "word count: 23774\n",
      "word count: 12465\n"
     ]
    }
   ],
   "source": [
    "from collections import Counter\n",
    "\n",
    "def get_word_idx(ds, mode=\"src\", threshold=2):\n",
    "    #载入词表，看下词表长度，词表就像英语字典\n",
    "    word2idx = {\n",
    "        \"[PAD]\": 0,     # 填充 token\n",
    "        \"[BOS]\": 1,     # begin of sentence\n",
    "        \"[UNK]\": 2,     # 未知 token\n",
    "        \"[EOS]\": 3,     # end of sentence\n",
    "    }\n",
    "    idx2word = {value: key for key, value in word2idx.items()}\n",
    "    index = len(idx2word)\n",
    "    threshold = 1  # 出现次数低于此的token舍弃\n",
    "    #如果数据集有很多个G，那是用for循环的，不能' '.join\n",
    "    word_list = \" \".join([pair[0 if mode==\"src\" else 1] for pair in ds]).split()\n",
    "    counter = Counter(word_list) #统计词频,counter类似字典，key是单词，value是出现次数\n",
    "    print(\"word count:\", len(counter))\n",
    "\n",
    "    for token, count in counter.items():\n",
    "        if count >= threshold:#出现次数大于阈值的token加入词表\n",
    "            word2idx[token] = index #加入词表\n",
    "            idx2word[index] = token #加入反向词表\n",
    "            index += 1\n",
    "\n",
    "    return word2idx, idx2word\n",
    "\n",
    "src_word2idx, src_idx2word = get_word_idx(train_ds, \"src\") #源语言词表\n",
    "trg_word2idx, trg_idx2word = get_word_idx(train_ds, \"trg\") #目标语言词表"
   ]
  },
  {
   "cell_type": "code",
   "execution_count": 7,
   "id": "fd21dbc57defbab9",
   "metadata": {
    "ExecuteTime": {
     "end_time": "2025-02-13T03:48:52.801720Z",
     "start_time": "2025-02-13T03:48:52.360555Z"
    },
    "execution": {
     "iopub.execute_input": "2025-02-13T09:58:02.231527Z",
     "iopub.status.busy": "2025-02-13T09:58:02.231343Z",
     "iopub.status.idle": "2025-02-13T09:58:02.246111Z",
     "shell.execute_reply": "2025-02-13T09:58:02.245650Z",
     "shell.execute_reply.started": "2025-02-13T09:58:02.231507Z"
    }
   },
   "outputs": [
    {
     "name": "stdout",
     "output_type": "stream",
     "text": [
      "raw text----------\n",
      "['hello', 'world']\n",
      "['tokenize', 'text', 'datas', 'with', 'batch']\n",
      "['this', 'is', 'a', 'test']\n",
      "mask----------\n",
      "tensor([0, 0, 0, 0, 1, 1, 1])\n",
      "tensor([0, 0, 0, 0, 0, 0, 0])\n",
      "tensor([0, 0, 0, 0, 0, 0, 1])\n",
      "indices----------\n",
      "tensor([   1,   17, 3224,    3,    0,    0,    0])\n",
      "tensor([   1,    2, 3870,    2,  538,    2,    3])\n",
      "tensor([   1,  121,  233,  107, 1262,    3,    0])\n",
      "decode text----------\n",
      "[BOS] hello world [EOS] [PAD] [PAD] [PAD]\n",
      "[BOS] [UNK] text [UNK] with [UNK] [EOS]\n",
      "[BOS] this is a test [EOS] [PAD]\n"
     ]
    }
   ],
   "source": [
    "class Tokenizer:\n",
    "    def __init__(self, word2idx, idx2word, max_length=500, pad_idx=0, bos_idx=1, eos_idx=3, unk_idx=2):\n",
    "        \"\"\"\n",
    "        初始化分词器\n",
    "        Args:\n",
    "            word2idx (dict): 词到索引的映射字典\n",
    "            idx2word (dict): 索引到词的映射字典\n",
    "            max_length (int): 序列最大长度限制（默认500）\n",
    "            pad_idx (int): 填充符的索引（默认0）\n",
    "            bos_idx (int): 起始符的索引（默认1）\n",
    "            eos_idx (int): 结束符的索引（默认3）\n",
    "            unk_idx (int): 未知词的索引（默认2）\n",
    "        \"\"\"\n",
    "        self.word2idx = word2idx\n",
    "        self.idx2word = idx2word\n",
    "        self.max_length = max_length  # 序列最大长度限制\n",
    "        self.pad_idx = pad_idx       # 填充符\n",
    "        self.bos_idx = bos_idx       # 起始符（Begin of Sequence）\n",
    "        self.eos_idx = eos_idx       # 结束符（End of Sequence）\n",
    "        self.unk_idx = unk_idx       # 未知词（Unknown Token）\n",
    "\n",
    "    def encode(self, text_list, padding_first=False, add_bos=True, add_eos=True, return_mask=False):\n",
    "        \"\"\"\n",
    "        将文本列表编码为索引序列\n",
    "        Args:\n",
    "            text_list: 二维列表，每个元素是一个文本的词列表（如 [[\"hello\"], [\"hello\", \"world\"]])\n",
    "            padding_first: 是否在前面填充（默认False，在后面填充）\n",
    "            add_bos: 是否添加起始符（默认True）\n",
    "            add_eos: 是否添加结束符（默认True）\n",
    "            return_mask: 是否返回掩码矩阵（默认False）\n",
    "        Returns:\n",
    "            input_ids: 编码后的索引矩阵（Tensor）\n",
    "            masks: 掩码矩阵（可选返回，1表示填充位置）\n",
    "        \"\"\"\n",
    "        # 计算有效最大长度（考虑BOS/EOS）\n",
    "        max_length = min(\n",
    "            self.max_length,\n",
    "            add_eos + add_bos + max([len(text) for text in text_list])  # 实际内容的最大长度\n",
    "        )\n",
    "        \n",
    "        indices_list = []\n",
    "        for text in text_list:\n",
    "            # 1. 截断文本并转换为索引\n",
    "            indices = [\n",
    "                self.word2idx.get(word, self.unk_idx)  # 未登录词用UNK代替\n",
    "                for word in text[:max_length - add_bos - add_eos]  # 截断超长部分\n",
    "            ]\n",
    "            \n",
    "            # 2. 添加特殊符号\n",
    "            if add_bos:\n",
    "                indices = [self.bos_idx] + indices  # 开头加BOS\n",
    "            if add_eos:\n",
    "                indices = indices + [self.eos_idx]  # 末尾加EOS\n",
    "                \n",
    "            # 3. 填充处理\n",
    "            padding_length = max_length - len(indices)\n",
    "            if padding_first:  # 前面填充\n",
    "                indices = [self.pad_idx] * padding_length + indices\n",
    "            else:  # 后面填充（默认）\n",
    "                indices = indices + [self.pad_idx] * padding_length\n",
    "            \n",
    "            indices_list.append(indices)\n",
    "        \n",
    "        # 转换为Tensor\n",
    "        input_ids = torch.tensor(indices_list)\n",
    "        # 生成掩码（1表示填充位置）\n",
    "        masks = (input_ids == self.pad_idx).to(dtype=torch.int64)\n",
    "        \n",
    "        return input_ids if not return_mask else (input_ids, masks)\n",
    "\n",
    "    def decode(self, indices_list, remove_bos=True, remove_eos=True, remove_pad=True, split=False):\n",
    "        \"\"\"\n",
    "        将索引序列解码回文本\n",
    "        Args:\n",
    "            indices_list: 索引序列（可以是Tensor或列表）\n",
    "            remove_bos: 是否移除起始符（默认True）\n",
    "            remove_eos: 是否遇到结束符停止解码（默认True）\n",
    "            remove_pad: 是否遇到填充符停止解码（默认True）\n",
    "            split: 是否返回分词列表（默认False返回字符串）\n",
    "        Returns:\n",
    "            解码后的文本列表\n",
    "        \"\"\"\n",
    "        text_list = []\n",
    "        for indices in indices_list:\n",
    "            text = []\n",
    "            for index in indices:\n",
    "                # 处理特殊符号\n",
    "                word = self.idx2word.get(index, \"[UNK]\")  # 未知索引处理\n",
    "                if remove_bos and word == \"[BOS]\":\n",
    "                    continue  # 跳过BOS\n",
    "                if remove_eos and word == \"[EOS]\":\n",
    "                    break     # 遇到EOS停止\n",
    "                if remove_pad and word == \"[PAD]\":\n",
    "                    break     # 遇到PAD停止\n",
    "                text.append(word)\n",
    "            # 结果拼接方式\n",
    "            text_list.append(\" \".join(text) if not split else text)\n",
    "        return text_list\n",
    "\n",
    "# ================== 使用示例 ==================\n",
    "# 使用两个独立的分词器（源语言和目标语言）的好处：\n",
    "# 1. 减少嵌入层参数量（不同语言的词表分开处理）\n",
    "# 2. 适应不同语言的特性（词表大小、分词方式等）\n",
    "\n",
    "# 初始化分词器（需要预定义的词表）\n",
    "src_tokenizer = Tokenizer(word2idx=src_word2idx, idx2word=src_idx2word)\n",
    "trg_tokenizer = Tokenizer(word2idx=trg_word2idx, idx2word=trg_idx2word)\n",
    "\n",
    "# 测试编码过程\n",
    "raw_text = [\n",
    "    \"hello world\".split(),\n",
    "    \"tokenize text datas with batch\".split(),\n",
    "    \"this is a test\".split()\n",
    "]\n",
    "indices, mask = trg_tokenizer.encode(\n",
    "    raw_text,\n",
    "    padding_first=False,  # 填充在后\n",
    "    add_bos=True,        # 添加BOS\n",
    "    add_eos=True,        # 添加EOS\n",
    "    return_mask=True      # 返回掩码\n",
    ")\n",
    "\n",
    "# 解码验证\n",
    "decode_text = trg_tokenizer.decode(\n",
    "    indices.tolist(),\n",
    "    remove_bos=False,  # 保留BOS用于显示\n",
    "    remove_eos=False,  # 保留EOS用于显示\n",
    "    remove_pad=False   # 保留PAD用于显示\n",
    ")\n",
    "\n",
    "# 打印对比结果\n",
    "print(\"raw text\" + '-'*10)\n",
    "for raw in raw_text:\n",
    "    print(raw)\n",
    "\n",
    "print(\"mask\" + '-'*10)\n",
    "for m in mask:\n",
    "    print(m)  # 1表示填充位置，0表示有效内容\n",
    "\n",
    "print(\"indices\" + '-'*10)\n",
    "for index in indices:\n",
    "    print(index)  # 编码后的数字序列\n",
    "\n",
    "print(\"decode text\" + '-'*10)\n",
    "for decode in decode_text:\n",
    "    print(decode)  # 解码还原后的文本"
   ]
  },
  {
   "cell_type": "markdown",
   "id": "68b5891a795a4b4c",
   "metadata": {},
   "source": [
    "# DataLoader"
   ]
  },
  {
   "cell_type": "code",
   "execution_count": 8,
   "id": "6a8e16c8962eef1e",
   "metadata": {
    "ExecuteTime": {
     "end_time": "2025-02-13T03:48:52.806045Z",
     "start_time": "2025-02-13T03:48:52.801720Z"
    },
    "execution": {
     "iopub.execute_input": "2025-02-13T09:58:02.246847Z",
     "iopub.status.busy": "2025-02-13T09:58:02.246633Z",
     "iopub.status.idle": "2025-02-13T09:58:02.252081Z",
     "shell.execute_reply": "2025-02-13T09:58:02.251637Z",
     "shell.execute_reply.started": "2025-02-13T09:58:02.246828Z"
    }
   },
   "outputs": [],
   "source": [
    "def collate_fct(batch):\n",
    "    # 将batch中的每个样本的源句子和目标句子分别拆分成单词列表\n",
    "    src_words = [pair[0].split() for pair in batch]  # 提取源句子并拆分成单词\n",
    "    trg_words = [pair[1].split() for pair in batch]  # 提取目标句子并拆分成单词\n",
    "\n",
    "    # 对源句子进行编码，生成编码器的输入\n",
    "    # padding_first=True: 在句子前面填充[PAD]\n",
    "    # add_bos=True: 在句子开头添加[BOS]（Begin of Sentence）标记\n",
    "    # add_eos=True: 在句子结尾添加[EOS]（End of Sentence）标记\n",
    "    # return_mask=True: 返回掩码，用于标识哪些位置是实际单词，哪些是填充\n",
    "    encoder_inputs, encoder_inputs_mask = src_tokenizer.encode(\n",
    "        src_words, padding_first=True, add_bos=True, add_eos=True, return_mask=True\n",
    "        )\n",
    "\n",
    "    # 对目标句子进行编码，生成解码器的输入\n",
    "    # padding_first=False: 在句子后面填充[PAD]\n",
    "    # add_bos=True: 在句子开头添加[BOS]标记\n",
    "    # add_eos=False: 不在句子结尾添加[EOS]标记\n",
    "    # return_mask=False: 不返回掩码\n",
    "    decoder_inputs = trg_tokenizer.encode(\n",
    "        trg_words, padding_first=False, add_bos=True, add_eos=False, return_mask=False,\n",
    "        )\n",
    "\n",
    "    # 对目标句子进行编码，生成解码器的标签\n",
    "    # padding_first=False: 在句子后面填充[PAD]\n",
    "    # add_bos=False: 不在句子开头添加[BOS]标记\n",
    "    # add_eos=True: 在句子结尾添加[EOS]标记\n",
    "    # return_mask=True: 返回掩码，用于标识哪些位置是实际单词，哪些是填充\n",
    "    decoder_labels, decoder_labels_mask = trg_tokenizer.encode(\n",
    "        trg_words, padding_first=False, add_bos=False, add_eos=True, return_mask=True\n",
    "        )\n",
    "\n",
    "    # 将处理后的数据打包成一个字典并返回\n",
    "    return {\n",
    "        \"encoder_inputs\": encoder_inputs.to(device=device),  # 编码器输入，移动到指定设备（如GPU）\n",
    "        \"encoder_inputs_mask\": encoder_inputs_mask.to(device=device),  # 编码器输入掩码，移动到指定设备\n",
    "        \"decoder_inputs\": decoder_inputs.to(device=device),  # 解码器输入，移动到指定设备\n",
    "        \"decoder_labels\": decoder_labels.to(device=device),  # 解码器标签，移动到指定设备\n",
    "        \"decoder_labels_mask\": decoder_labels_mask.to(device=device),  # 解码器标签掩码，移动到指定设备\n",
    "    }  # 当返回的数据较多时，用dict返回比较合理"
   ]
  },
  {
   "cell_type": "code",
   "execution_count": 9,
   "id": "43bb66f7548c89cb",
   "metadata": {
    "ExecuteTime": {
     "end_time": "2025-02-13T03:48:53.281556Z",
     "start_time": "2025-02-13T03:48:52.806045Z"
    },
    "execution": {
     "iopub.execute_input": "2025-02-13T09:58:02.252936Z",
     "iopub.status.busy": "2025-02-13T09:58:02.252585Z",
     "iopub.status.idle": "2025-02-13T09:58:02.336336Z",
     "shell.execute_reply": "2025-02-13T09:58:02.335830Z",
     "shell.execute_reply.started": "2025-02-13T09:58:02.252918Z"
    }
   },
   "outputs": [
    {
     "name": "stdout",
     "output_type": "stream",
     "text": [
      "encoder_inputs\n",
      "tensor([[   0,    0,    0,    0,    1,  350, 4002, 2826, 2827,    5,    3],\n",
      "        [   1,   12, 2266,  706,   80,  294,   88,   83,  297,   14,    3]],\n",
      "       device='cuda:0')\n",
      "encoder_inputs_mask\n",
      "tensor([[1, 1, 1, 1, 0, 0, 0, 0, 0, 0, 0],\n",
      "        [0, 0, 0, 0, 0, 0, 0, 0, 0, 0, 0]], device='cuda:0')\n",
      "decoder_inputs\n",
      "tensor([[   1,  197,  756, 1413,    5,    0,    0,    0,    0,    0],\n",
      "        [   1,  332,   90, 1090,  443,  158,   31,  680, 3688,   10]],\n",
      "       device='cuda:0')\n",
      "decoder_labels\n",
      "tensor([[ 197,  756, 1413,    5,    3,    0,    0,    0,    0,    0],\n",
      "        [ 332,   90, 1090,  443,  158,   31,  680, 3688,   10,    3]],\n",
      "       device='cuda:0')\n",
      "decoder_labels_mask\n",
      "tensor([[0, 0, 0, 0, 0, 1, 1, 1, 1, 1],\n",
      "        [0, 0, 0, 0, 0, 0, 0, 0, 0, 0]], device='cuda:0')\n"
     ]
    }
   ],
   "source": [
    "sample_dl = DataLoader(train_ds, batch_size=2, shuffle=True, collate_fn=collate_fct)\n",
    "\n",
    "for batch in sample_dl:\n",
    "    for key, value in batch.items():\n",
    "        print(key)\n",
    "        print(value)\n",
    "    break"
   ]
  },
  {
   "cell_type": "markdown",
   "id": "ee9d5b04f19f9391",
   "metadata": {},
   "source": [
    "# 定义模型"
   ]
  },
  {
   "cell_type": "code",
   "execution_count": 10,
   "id": "4a43afd67d78aadc",
   "metadata": {
    "ExecuteTime": {
     "end_time": "2025-02-13T03:48:53.285829Z",
     "start_time": "2025-02-13T03:48:53.282556Z"
    },
    "execution": {
     "iopub.execute_input": "2025-02-13T09:58:02.337075Z",
     "iopub.status.busy": "2025-02-13T09:58:02.336890Z",
     "iopub.status.idle": "2025-02-13T09:58:02.342049Z",
     "shell.execute_reply": "2025-02-13T09:58:02.341560Z",
     "shell.execute_reply.started": "2025-02-13T09:58:02.337056Z"
    }
   },
   "outputs": [],
   "source": [
    "import torch.nn as nn\n",
    "\n",
    "class Encoder(nn.Module):\n",
    "    def __init__(\n",
    "        self,\n",
    "        vocab_size,        # 词汇表大小，表示输入词汇的总数\n",
    "        embedding_dim=256, # 词嵌入维度，将每个单词映射为一个固定大小的向量\n",
    "        hidden_dim=1024,   # 隐藏层维度，表示GRU隐藏状态的大小\n",
    "        num_layers=1,      # GRU的层数，表示堆叠的GRU层数\n",
    "    ):\n",
    "        super().__init__()\n",
    "        # 词嵌入层，将输入的单词索引映射为固定大小的词向量\n",
    "        self.embedding = nn.Embedding(vocab_size, embedding_dim)\n",
    "        # GRU层，用于处理序列数据\n",
    "        # embedding_dim: 输入的特征维度（词嵌入的维度）\n",
    "        # hidden_dim: 隐藏状态的维度\n",
    "        # num_layers: GRU的层数\n",
    "        # batch_first=True: 输入数据的形状为 [batch_size, sequence_length, embedding_dim]\n",
    "        self.gru = nn.GRU(embedding_dim, hidden_dim, num_layers=num_layers, batch_first=True)\n",
    "\n",
    "    def forward(self, encoder_inputs):\n",
    "        \"\"\"\n",
    "        前向传播函数，处理输入数据并返回编码器的输出。\n",
    "\n",
    "        参数:\n",
    "            encoder_inputs: 编码器的输入，形状为 [batch_size, sequence_length]，\n",
    "                            其中每个元素是单词的索引。\n",
    "\n",
    "        返回:\n",
    "            seq_output: 编码器的序列输出，形状为 [batch_size, sequence_length, hidden_dim]，\n",
    "                        表示每个时间步的隐藏状态。\n",
    "            hidden: 编码器的最终隐藏状态，形状为 [num_layers, batch_size, hidden_dim]，\n",
    "                    表示最后一个时间步的隐藏状态。\n",
    "        \"\"\"\n",
    "        # encoder_inputs.shape = [batch_size, sequence_length]\n",
    "        # 将输入的单词索引映射为词向量\n",
    "        embeds = self.embedding(encoder_inputs)\n",
    "        # embeds.shape = [batch_size, sequence_length, embedding_dim]\n",
    "\n",
    "        # 将词向量输入GRU，得到序列输出和最终隐藏状态\n",
    "        seq_output, hidden = self.gru(embeds)\n",
    "        # seq_output.shape = [batch_size, sequence_length, hidden_dim]\n",
    "        # hidden.shape = [num_layers, batch_size, hidden_dim]\n",
    "\n",
    "        return seq_output, hidden"
   ]
  },
  {
   "cell_type": "code",
   "execution_count": 11,
   "id": "43d289b0900f2311",
   "metadata": {
    "ExecuteTime": {
     "end_time": "2025-02-13T03:48:53.849212Z",
     "start_time": "2025-02-13T03:48:53.285829Z"
    },
    "execution": {
     "iopub.execute_input": "2025-02-13T09:58:02.342671Z",
     "iopub.status.busy": "2025-02-13T09:58:02.342508Z",
     "iopub.status.idle": "2025-02-13T09:58:02.570917Z",
     "shell.execute_reply": "2025-02-13T09:58:02.570384Z",
     "shell.execute_reply.started": "2025-02-13T09:58:02.342654Z"
    }
   },
   "outputs": [
    {
     "name": "stdout",
     "output_type": "stream",
     "text": [
      "torch.Size([2, 50, 1024])\n",
      "torch.Size([4, 2, 1024])\n",
      "tensor([[-0.0636,  0.0092,  0.0103,  ..., -0.0153, -0.0004, -0.0341],\n",
      "        [-0.0175,  0.0283,  0.0105,  ...,  0.0142,  0.0282, -0.0413]],\n",
      "       grad_fn=<SliceBackward0>)\n",
      "tensor([[-0.0636,  0.0092,  0.0103,  ..., -0.0153, -0.0004, -0.0341],\n",
      "        [-0.0175,  0.0283,  0.0105,  ...,  0.0142,  0.0282, -0.0413]],\n",
      "       grad_fn=<SliceBackward0>)\n"
     ]
    }
   ],
   "source": [
    "#把上面的Encoder写一个例子，看看输出的shape\n",
    "encoder = Encoder(vocab_size=100, embedding_dim=256, hidden_dim=1024, num_layers=4)\n",
    "encoder_inputs = torch.randint(0, 100, (2, 50))\n",
    "encoder_outputs, hidden = encoder(encoder_inputs)\n",
    "print(encoder_outputs.shape)\n",
    "print(hidden.shape)\n",
    "print(encoder_outputs[:,-1,:])\n",
    "print(hidden[-1,:,:]) #取最后一层的hidden"
   ]
  },
  {
   "cell_type": "code",
   "execution_count": 12,
   "id": "fe3d54d3f7a0dd6",
   "metadata": {
    "ExecuteTime": {
     "end_time": "2025-02-13T04:17:44.606681Z",
     "start_time": "2025-02-13T04:17:44.602645Z"
    },
    "execution": {
     "iopub.execute_input": "2025-02-13T09:58:02.571860Z",
     "iopub.status.busy": "2025-02-13T09:58:02.571665Z",
     "iopub.status.idle": "2025-02-13T09:58:02.578356Z",
     "shell.execute_reply": "2025-02-13T09:58:02.577859Z",
     "shell.execute_reply.started": "2025-02-13T09:58:02.571840Z"
    }
   },
   "outputs": [],
   "source": [
    "import torch.nn as nn\n",
    "import torch.nn.functional as F\n",
    "\n",
    "class BahdanauAttention(nn.Module):\n",
    "    def __init__(self, hidden_dim=1024):\n",
    "        \"\"\"\n",
    "        Bahdanau Attention 机制的实现。\n",
    "\n",
    "        参数:\n",
    "            hidden_dim: 隐藏状态的维度，默认值为 1024。\n",
    "        \"\"\"\n",
    "        super().__init__()\n",
    "        # 线性变换层，用于对 keys（编码器输出）进行变换\n",
    "        self.Wk = nn.Linear(hidden_dim, hidden_dim)\n",
    "        # 线性变换层，用于对 query（解码器隐藏状态）进行变换\n",
    "        self.Wq = nn.Linear(hidden_dim, hidden_dim)\n",
    "        # 线性变换层，用于将变换后的结果映射为一个标量（注意力分数）\n",
    "        self.V = nn.Linear(hidden_dim, 1)\n",
    "\n",
    "    def forward(self, query, keys, values, attn_mask=None):\n",
    "        \"\"\"\n",
    "        正向传播函数，计算注意力分数和上下文向量。\n",
    "\n",
    "        参数:\n",
    "            query: 解码器的隐藏状态，形状为 [batch_size, hidden_dim]。\n",
    "            keys: 编码器的输出，形状为 [batch_size, sequence_length, hidden_dim]。\n",
    "            values: 编码器的输出，形状为 [batch_size, sequence_length, hidden_dim]。\n",
    "            attn_mask: 注意力掩码，形状为 [batch_size, sequence_length]，\n",
    "                        用于屏蔽填充部分（padding）。\n",
    "\n",
    "        返回:\n",
    "            context_vector: 上下文向量，形状为 [batch_size, hidden_dim]。\n",
    "            scores: 注意力分数，形状为 [batch_size, sequence_length, 1]。\n",
    "        \"\"\"\n",
    "        # query.shape = [batch_size, hidden_dim] --> 通过 unsqueeze(-2) 增加维度 [batch_size, 1, hidden_dim]\n",
    "        # keys.shape = [batch_size, sequence_length, hidden_dim]\n",
    "        # values.shape = [batch_size, sequence_length, hidden_dim]\n",
    "\n",
    "        # 计算注意力分数\n",
    "        # 1. 对 keys 和 query 进行线性变换\n",
    "        # 2. 将变换后的结果相加并通过 tanh 激活函数\n",
    "        # 3. 通过 V 映射为一个标量（注意力分数）\n",
    "        scores = self.V(F.tanh(self.Wk(keys) + self.Wq(query.unsqueeze(-2))))\n",
    "        # scores.shape = [batch_size, sequence_length, 1]\n",
    "\n",
    "        # 如果提供了注意力掩码，则将其应用到分数上\n",
    "        if attn_mask is not None:\n",
    "            # attn_mask 是一个 0/1 矩阵，1 表示需要屏蔽的位置（padding）\n",
    "            # 将 attn_mask 的最后一个维度扩展为 [batch_size, sequence_length, 1]\n",
    "            attn_mask = (attn_mask.unsqueeze(-1)) * -1e16\n",
    "            # 将掩码加到分数上，屏蔽的位置分数会变为一个极小的值（-inf）\n",
    "            scores += attn_mask\n",
    "\n",
    "        # 对注意力分数进行 softmax 归一化\n",
    "        scores = F.softmax(scores, dim=-2)\n",
    "        # scores.shape = [batch_size, sequence_length, 1]\n",
    "\n",
    "        # 计算上下文向量\n",
    "        # 1. 将注意力分数与 values 相乘\n",
    "        # 2. 在序列长度维度（sequence_length）上求和，得到上下文向量\n",
    "        context_vector = torch.mul(scores, values).sum(dim=-2)\n",
    "        # context_vector.shape = [batch_size, hidden_dim]\n",
    "\n",
    "        # 返回上下文向量和注意力分数\n",
    "        return context_vector, scores"
   ]
  },
  {
   "cell_type": "code",
   "execution_count": 13,
   "id": "f1fc9414b699b3c9",
   "metadata": {
    "ExecuteTime": {
     "end_time": "2025-02-13T04:33:10.467294Z",
     "start_time": "2025-02-13T04:33:10.415152Z"
    },
    "execution": {
     "iopub.execute_input": "2025-02-13T09:58:02.579302Z",
     "iopub.status.busy": "2025-02-13T09:58:02.578897Z",
     "iopub.status.idle": "2025-02-13T09:58:02.582511Z",
     "shell.execute_reply": "2025-02-13T09:58:02.582057Z",
     "shell.execute_reply.started": "2025-02-13T09:58:02.579282Z"
    }
   },
   "outputs": [
    {
     "name": "stdout",
     "output_type": "stream",
     "text": [
      "torch.Size([2, 2])\n"
     ]
    }
   ],
   "source": [
    "#tensor矩阵相乘\n",
    "a = torch.randn(2, 3)\n",
    "b = torch.randn(3, 2)\n",
    "c = torch.mm(a, b) #增加维度\n",
    "print(c.shape)"
   ]
  },
  {
   "cell_type": "code",
   "execution_count": 14,
   "id": "3e50106713d61cfd",
   "metadata": {
    "ExecuteTime": {
     "end_time": "2025-02-13T04:44:11.838372Z",
     "start_time": "2025-02-13T04:44:11.647734Z"
    },
    "execution": {
     "iopub.execute_input": "2025-02-13T09:58:02.583320Z",
     "iopub.status.busy": "2025-02-13T09:58:02.583051Z",
     "iopub.status.idle": "2025-02-13T09:58:02.605041Z",
     "shell.execute_reply": "2025-02-13T09:58:02.604515Z",
     "shell.execute_reply.started": "2025-02-13T09:58:02.583300Z"
    }
   },
   "outputs": [
    {
     "name": "stdout",
     "output_type": "stream",
     "text": [
      "torch.Size([2, 1024])\n",
      "torch.Size([2, 50, 1])\n"
     ]
    }
   ],
   "source": [
    "#把上面的BahdanauAttention写一个例子，看看输出的shape\n",
    "attention = BahdanauAttention(hidden_dim=1024)\n",
    "query = torch.randn(2, 1024) #Decoder的隐藏状态\n",
    "keys = torch.randn(2, 50, 1024) #EO\n",
    "values = torch.randn(2, 50, 1024) #EO\n",
    "attn_mask = torch.randint(0, 2, (2, 50))\n",
    "context_vector, scores = attention(query, keys, values, attn_mask)\n",
    "print(context_vector.shape)\n",
    "print(scores.shape)"
   ]
  },
  {
   "cell_type": "code",
   "execution_count": 15,
   "id": "aaf49286b016a714",
   "metadata": {
    "ExecuteTime": {
     "end_time": "2025-02-13T08:13:13.089290Z",
     "start_time": "2025-02-13T08:13:13.083866Z"
    },
    "execution": {
     "iopub.execute_input": "2025-02-13T09:58:02.605910Z",
     "iopub.status.busy": "2025-02-13T09:58:02.605723Z",
     "iopub.status.idle": "2025-02-13T09:58:02.613791Z",
     "shell.execute_reply": "2025-02-13T09:58:02.613152Z",
     "shell.execute_reply.started": "2025-02-13T09:58:02.605890Z"
    }
   },
   "outputs": [],
   "source": [
    "import torch.nn as nn\n",
    "\n",
    "class Decoder(nn.Module):\n",
    "    def __init__(\n",
    "        self,\n",
    "        vocab_size,        # 词汇表大小，表示输出词汇的总数\n",
    "        embedding_dim=256, # 词嵌入维度，将每个单词映射为一个固定大小的向量\n",
    "        hidden_dim=1024,   # 隐藏层维度，表示GRU隐藏状态的大小\n",
    "        num_layers=1,      # GRU的层数，表示堆叠的GRU层数\n",
    "    ):\n",
    "        super(Decoder, self).__init__()\n",
    "        # 词嵌入层，将输入的单词索引映射为固定大小的词向量\n",
    "        self.embedding = nn.Embedding(vocab_size, embedding_dim)\n",
    "        # GRU层，用于处理序列数据\n",
    "        # 输入维度为 embedding_dim + hidden_dim（词嵌入 + 上下文向量）\n",
    "        # 隐藏状态维度为 hidden_dim\n",
    "        # num_layers: GRU的层数\n",
    "        # batch_first=True: 输入数据的形状为 [batch_size, sequence_length, embedding_dim + hidden_dim]\n",
    "        self.gru = nn.GRU(embedding_dim + hidden_dim, hidden_dim, num_layers=num_layers, batch_first=True)\n",
    "        # 全连接层，将GRU的输出映射为词汇表大小的向量\n",
    "        self.fc = nn.Linear(hidden_dim, vocab_size)\n",
    "        # Dropout层，用于防止过拟合\n",
    "        self.dropout = nn.Dropout(0.6)\n",
    "        # 注意力机制模块，用于计算上下文向量\n",
    "        self.attention = BahdanauAttention(hidden_dim)\n",
    "\n",
    "    def forward(self, decoder_input, hidden, encoder_outputs, attn_mask=None):\n",
    "        \"\"\"\n",
    "        正向传播函数，处理输入数据并返回解码器的输出。\n",
    "\n",
    "        参数:\n",
    "            decoder_input: 解码器的输入，形状为 [batch_size, 1]，\n",
    "                          表示当前时间步的单词索引。\n",
    "            hidden: 解码器的隐藏状态，形状为 [batch_size, hidden_dim]，\n",
    "                    初始时使用编码器的最终隐藏状态。\n",
    "            encoder_outputs: 编码器的输出，形状为 [batch_size, sequence_length, hidden_dim]。\n",
    "            attn_mask: 注意力掩码，形状为 [batch_size, sequence_length]，\n",
    "                        用于屏蔽填充部分（padding）。\n",
    "\n",
    "        返回:\n",
    "            logits: 解码器的输出，形状为 [batch_size, 1, vocab_size]，\n",
    "                    表示当前时间步的词汇表概率分布。\n",
    "            hidden: 解码器的隐藏状态，形状为 [batch_size, hidden_dim]，\n",
    "                    用于下一个时间步的计算。\n",
    "            attention_score: 注意力分数，形状为 [batch_size, sequence_length, 1]，\n",
    "                             表示每个时间步的注意力权重。\n",
    "        \"\"\"\n",
    "        # 检查输入形状\n",
    "        assert len(decoder_input.shape) == 2 and decoder_input.shape[-1] == 1, f\"decoder_input.shape = {decoder_input.shape}\"\n",
    "        assert len(hidden.shape) == 2, f\"hidden.shape = {hidden.shape}\"\n",
    "        assert len(encoder_outputs.shape) == 3, f\"encoder_outputs.shape = {encoder_outputs.shape}\"\n",
    "\n",
    "        # 计算上下文向量和注意力分数\n",
    "        context_vector, attention_score = self.attention(\n",
    "            query=hidden, keys=encoder_outputs, values=encoder_outputs, attn_mask=attn_mask\n",
    "        )\n",
    "        # context_vector.shape = [batch_size, hidden_dim]\n",
    "\n",
    "        # 将解码器输入映射为词向量\n",
    "        embeds = self.embedding(decoder_input)\n",
    "        # embeds.shape = [batch_size, 1, embedding_dim]\n",
    "\n",
    "        # 将上下文向量和词向量拼接\n",
    "        embeds = torch.cat([context_vector.unsqueeze(-2), embeds], dim=-1)\n",
    "        # embeds.shape = [batch_size, 1, embedding_dim + hidden_dim]\n",
    "\n",
    "        # 将拼接后的向量输入GRU\n",
    "        seq_output, hidden = self.gru(embeds)\n",
    "        # seq_output.shape = [batch_size, 1, hidden_dim]\n",
    "\n",
    "        # 将GRU的输出映射为词汇表大小的向量\n",
    "        logits = self.fc(self.dropout(seq_output))\n",
    "        # logits.shape = [batch_size, 1, vocab_size]\n",
    "\n",
    "        # 返回解码器的输出、隐藏状态和注意力分数\n",
    "        return logits, hidden, attention_score"
   ]
  },
  {
   "cell_type": "code",
   "execution_count": 16,
   "id": "d993efab4d01e9eb",
   "metadata": {
    "execution": {
     "iopub.execute_input": "2025-02-13T09:58:02.614740Z",
     "iopub.status.busy": "2025-02-13T09:58:02.614568Z",
     "iopub.status.idle": "2025-02-13T09:58:02.624836Z",
     "shell.execute_reply": "2025-02-13T09:58:02.624224Z",
     "shell.execute_reply.started": "2025-02-13T09:58:02.614721Z"
    }
   },
   "outputs": [],
   "source": [
    "class Sequence2Sequence(nn.Module):\n",
    "    def __init__(\n",
    "        self,\n",
    "        src_vocab_size,  # 输入词典大小\n",
    "        trg_vocab_size,  # 输出词典大小\n",
    "        encoder_embedding_dim=256,  # 编码器的词嵌入维度\n",
    "        encoder_hidden_dim=1024,  # 编码器的隐藏状态维度\n",
    "        encoder_num_layers=1,  # 编码器的GRU层数\n",
    "        decoder_embedding_dim=256,  # 解码器的词嵌入维度\n",
    "        decoder_hidden_dim=1024,  # 解码器的隐藏状态维度\n",
    "        decoder_num_layers=1,  # 解码器的GRU层数\n",
    "        bos_idx=1,  # 开始标记的索引\n",
    "        eos_idx=3,  # 结束标记的索引\n",
    "        max_length=512,  # 生成序列的最大长度\n",
    "    ):\n",
    "        super(Sequence2Sequence, self).__init__()\n",
    "        # 初始化开始标记、结束标记和最大长度\n",
    "        self.bos_idx = bos_idx\n",
    "        self.eos_idx = eos_idx\n",
    "        self.max_length = max_length\n",
    "\n",
    "        # 初始化编码器\n",
    "        self.encoder = Encoder(\n",
    "            src_vocab_size,\n",
    "            embedding_dim=encoder_embedding_dim,\n",
    "            hidden_dim=encoder_hidden_dim,\n",
    "            num_layers=encoder_num_layers,\n",
    "        )\n",
    "\n",
    "        # 初始化解码器\n",
    "        self.decoder = Decoder(\n",
    "            trg_vocab_size,\n",
    "            embedding_dim=decoder_embedding_dim,\n",
    "            hidden_dim=decoder_hidden_dim,\n",
    "            num_layers=decoder_num_layers,\n",
    "        )\n",
    "\n",
    "    def forward(self, *, encoder_inputs, decoder_inputs, attn_mask=None):\n",
    "        \"\"\"\n",
    "        正向传播函数，用于训练模型。\n",
    "\n",
    "        参数:\n",
    "            encoder_inputs: 编码器的输入，形状为 [batch_size, sequence_length]。\n",
    "            decoder_inputs: 解码器的输入，形状为 [batch_size, sequence_length]。\n",
    "            attn_mask: 注意力掩码，形状为 [batch_size, sequence_length]，\n",
    "                        用于屏蔽填充部分（padding）。\n",
    "\n",
    "        返回:\n",
    "            logits: 解码器的输出，形状为 [batch_size, sequence_length, vocab_size]，\n",
    "                    表示每个时间步的词汇表概率分布。\n",
    "            scores: 注意力分数，形状为 [batch_size, sequence_length, sequence_length]，\n",
    "                    表示每个时间步的注意力权重。\n",
    "        \"\"\"\n",
    "        # 编码阶段\n",
    "        encoder_outputs, hidden = self.encoder(encoder_inputs)\n",
    "        # encoder_outputs.shape = [batch_size, sequence_length, hidden_dim]\n",
    "        # hidden.shape = [num_layers, batch_size, hidden_dim]\n",
    "\n",
    "        # 解码阶段（使用Teacher Forcing）\n",
    "        bs, seq_len = decoder_inputs.shape\n",
    "        logits_list = []  # 存储每个时间步的预测 logits\n",
    "        scores_list = []  # 存储每个时间步的注意力分数\n",
    "\n",
    "        for i in range(seq_len):  # 串行训练\n",
    "            # 每次迭代生成一个时间步的预测\n",
    "            logits, hidden, score = self.decoder(\n",
    "                decoder_inputs[:, i:i + 1],  # 当前时间步的解码器输入\n",
    "                hidden[-1],  # 取最后一层的 hidden 状态\n",
    "                encoder_outputs,  # 编码器的输出\n",
    "                attn_mask=attn_mask  # 注意力掩码\n",
    "            )\n",
    "            logits_list.append(logits)  # 记录预测的 logits，用于计算损失\n",
    "            scores_list.append(score)  # 记录注意力分数，用于画图\n",
    "\n",
    "        # 将 logits 和 scores 拼接并返回\n",
    "        return torch.cat(logits_list, dim=-2), torch.cat(scores_list, dim=-1)\n",
    "\n",
    "    @torch.no_grad()  # 不计算梯度\n",
    "    def infer(self, encoder_input, attn_mask=None):\n",
    "        \"\"\"\n",
    "        推理函数，用于生成目标序列。\n",
    "\n",
    "        参数:\n",
    "            encoder_input: 编码器的输入，形状为 [1, sequence_length]。\n",
    "            attn_mask: 注意力掩码，形状为 [1, sequence_length]，\n",
    "                        用于屏蔽填充部分（padding）。\n",
    "\n",
    "        返回:\n",
    "            pred_list: 生成的序列，是一个列表，包含每个时间步的预测单词索引。\n",
    "            scores: 注意力分数，形状为 [1, sequence_length, sequence_length]，\n",
    "                    表示每个时间步的注意力权重。\n",
    "        \"\"\"\n",
    "        # 编码阶段\n",
    "        encoder_outputs, hidden = self.encoder(encoder_input)\n",
    "        # encoder_outputs.shape = [1, sequence_length, hidden_dim]\n",
    "        # hidden.shape = [num_layers, 1, hidden_dim]\n",
    "\n",
    "        # 解码阶段\n",
    "        decoder_input = torch.Tensor([self.bos_idx]).reshape(1, 1).to(dtype=torch.int64)  # 开始标记\n",
    "        decoder_pred = None\n",
    "        pred_list = []  # 存储生成的序列\n",
    "        score_list = []  # 存储注意力分数\n",
    "\n",
    "        # 从开始标记 bos_idx 开始，迭代地生成序列\n",
    "        for _ in range(self.max_length):\n",
    "            logits, hidden, score = self.decoder(\n",
    "                decoder_input,  # 当前时间步的解码器输入\n",
    "                hidden[-1],  # 取最后一层的 hidden 状态\n",
    "                encoder_outputs,  # 编码器的输出\n",
    "                attn_mask=attn_mask  # 注意力掩码\n",
    "            )\n",
    "            # 使用贪心搜索选择最可能的单词\n",
    "            decoder_pred = logits.argmax(dim=-1)\n",
    "            decoder_input = decoder_pred  # 将预测的单词作为下一个时间步的输入\n",
    "            pred_list.append(decoder_pred.reshape(-1).item())  # 将预测的单词索引添加到 pred_list\n",
    "            score_list.append(score)  # 记录注意力分数\n",
    "\n",
    "            # 如果生成结束标记 eos_idx，则停止生成\n",
    "            if decoder_pred == self.eos_idx:\n",
    "                break\n",
    "\n",
    "        # 返回生成的序列和注意力分数\n",
    "        return pred_list, torch.cat(score_list, dim=-1)"
   ]
  },
  {
   "cell_type": "markdown",
   "id": "6e1706b11d544d59",
   "metadata": {},
   "source": [
    "# 训练"
   ]
  },
  {
   "cell_type": "markdown",
   "id": "3c40d01f66693e0",
   "metadata": {},
   "source": [
    "## 损失函数"
   ]
  },
  {
   "cell_type": "code",
   "execution_count": 17,
   "id": "79dabfc4365b279d",
   "metadata": {
    "execution": {
     "iopub.execute_input": "2025-02-13T09:58:02.625692Z",
     "iopub.status.busy": "2025-02-13T09:58:02.625530Z",
     "iopub.status.idle": "2025-02-13T09:58:02.630498Z",
     "shell.execute_reply": "2025-02-13T09:58:02.629850Z",
     "shell.execute_reply.started": "2025-02-13T09:58:02.625675Z"
    }
   },
   "outputs": [],
   "source": [
    "def cross_entropy_with_padding(logits, labels, padding_mask=None):\n",
    "    \"\"\"\n",
    "    计算带有填充屏蔽（padding mask）的交叉熵损失。\n",
    "\n",
    "    参数:\n",
    "        logits (Tensor): 模型输出，形状为 [batch_size, sequence_length, num_classes]\n",
    "        labels (Tensor): 标签，形状为 [batch_size, sequence_length]\n",
    "        padding_mask (Tensor, optional): 填充掩码，形状为 [batch_size, sequence_length]，其中\n",
    "                                         对于真实数据的token为 1，填充的token为 0。\n",
    "\n",
    "    返回:\n",
    "        loss (Tensor): 标量损失值，表示所有非填充token的平均交叉熵损失。\n",
    "    \"\"\"\n",
    "    # 获取输入张量的维度信息\n",
    "    bs, seq_len, nc = logits.shape  # bs: batch size, seq_len: 序列长度, nc: 类别数量\n",
    "\n",
    "    # 计算交叉熵损失\n",
    "    # 将 logits 从形状 [bs, seq_len, nc] 重塑为 [bs * seq_len, nc]，\n",
    "    # 同理将 labels 重塑为一维 [bs * seq_len]，\n",
    "    # 使用 F.cross_entropy 计算每个 token 的交叉熵损失，reduce=False 表示不对损失求平均，\n",
    "    # 而是返回每个 token 对应的损失。\n",
    "    loss = F.cross_entropy(logits.reshape(bs * seq_len, nc), labels.reshape(-1), reduce=False)\n",
    "\n",
    "    if padding_mask is None:\n",
    "        # 如果没有提供 padding_mask，则直接对所有 token 的损失求平均\n",
    "        loss = loss.mean()\n",
    "    else:\n",
    "        # 如果提供了 padding_mask，则仅对非填充部分计算平均损失\n",
    "\n",
    "        # 首先将 padding_mask 重塑为一维张量，形状为 [bs * seq_len]\n",
    "        # 原始的 padding_mask 中：真实数据 token 为 1，填充 token 为 0。\n",
    "        # 通过计算 1 - padding_mask，将真实数据 token 变为 0，填充 token 变为 1，\n",
    "        # 这表示填充部分对应的位置需要被屏蔽掉（损失置为 0）。\n",
    "        padding_mask = 1 - padding_mask.reshape(-1)\n",
    "\n",
    "        # 将每个 token 的损失与填充 mask 相乘，这样填充部分的损失就会被置为 0\n",
    "        # 然后计算所有 token 的总损失，再除以非填充 token 的数量（即 padding_mask.sum()）\n",
    "        # 以得到仅针对非填充部分的平均损失。\n",
    "        loss = torch.mul(loss, padding_mask).sum() / padding_mask.sum()\n",
    "\n",
    "    return loss\n"
   ]
  },
  {
   "cell_type": "markdown",
   "id": "1061736cf6235892",
   "metadata": {},
   "source": [
    "## Callback"
   ]
  },
  {
   "cell_type": "code",
   "execution_count": 18,
   "id": "5cad0dad47b08a0d",
   "metadata": {
    "execution": {
     "iopub.execute_input": "2025-02-13T09:58:02.631179Z",
     "iopub.status.busy": "2025-02-13T09:58:02.631005Z",
     "iopub.status.idle": "2025-02-13T09:58:04.310776Z",
     "shell.execute_reply": "2025-02-13T09:58:04.310232Z",
     "shell.execute_reply.started": "2025-02-13T09:58:02.631161Z"
    }
   },
   "outputs": [
    {
     "name": "stderr",
     "output_type": "stream",
     "text": [
      "2025-02-13 17:58:02.906716: I tensorflow/core/util/port.cc:153] oneDNN custom operations are on. You may see slightly different numerical results due to floating-point round-off errors from different computation orders. To turn them off, set the environment variable `TF_ENABLE_ONEDNN_OPTS=0`.\n",
      "2025-02-13 17:58:02.918525: E external/local_xla/xla/stream_executor/cuda/cuda_fft.cc:477] Unable to register cuFFT factory: Attempting to register factory for plugin cuFFT when one has already been registered\n",
      "WARNING: All log messages before absl::InitializeLog() is called are written to STDERR\n",
      "E0000 00:00:1739440682.933022     599 cuda_dnn.cc:8310] Unable to register cuDNN factory: Attempting to register factory for plugin cuDNN when one has already been registered\n",
      "E0000 00:00:1739440682.937509     599 cuda_blas.cc:1418] Unable to register cuBLAS factory: Attempting to register factory for plugin cuBLAS when one has already been registered\n",
      "2025-02-13 17:58:02.952073: I tensorflow/core/platform/cpu_feature_guard.cc:210] This TensorFlow binary is optimized to use available CPU instructions in performance-critical operations.\n",
      "To enable the following instructions: AVX2 AVX512F AVX512_VNNI FMA, in other operations, rebuild TensorFlow with the appropriate compiler flags.\n"
     ]
    }
   ],
   "source": [
    "from torch.utils.tensorboard import SummaryWriter\n",
    "\n",
    "\n",
    "class TensorBoardCallback:\n",
    "    def __init__(self, log_dir, flush_secs=10):\n",
    "        \"\"\"\n",
    "        Args:\n",
    "            log_dir (str): dir to write log.\n",
    "            flush_secs (int, optional): write to dsk each flush_secs seconds. Defaults to 10.\n",
    "        \"\"\"\n",
    "        self.writer = SummaryWriter(log_dir=log_dir, flush_secs=flush_secs)\n",
    "\n",
    "    def draw_model(self, model, input_shape):\n",
    "        self.writer.add_graph(model, input_to_model=torch.randn(input_shape))\n",
    "\n",
    "    def add_loss_scalars(self, step, loss, val_loss):\n",
    "        self.writer.add_scalars(\n",
    "            main_tag=\"training/loss\",\n",
    "            tag_scalar_dict={\"loss\": loss, \"val_loss\": val_loss},\n",
    "            global_step=step,\n",
    "            )\n",
    "\n",
    "    def add_acc_scalars(self, step, acc, val_acc):\n",
    "        self.writer.add_scalars(\n",
    "            main_tag=\"training/accuracy\",\n",
    "            tag_scalar_dict={\"accuracy\": acc, \"val_accuracy\": val_acc},\n",
    "            global_step=step,\n",
    "        )\n",
    "\n",
    "    def add_lr_scalars(self, step, learning_rate):\n",
    "        self.writer.add_scalars(\n",
    "            main_tag=\"training/learning_rate\",\n",
    "            tag_scalar_dict={\"learning_rate\": learning_rate},\n",
    "            global_step=step,\n",
    "\n",
    "        )\n",
    "\n",
    "    def __call__(self, step, **kwargs):\n",
    "        # add loss\n",
    "        loss = kwargs.pop(\"loss\", None)\n",
    "        val_loss = kwargs.pop(\"val_loss\", None)\n",
    "        if loss is not None and val_loss is not None:\n",
    "            self.add_loss_scalars(step, loss, val_loss)\n",
    "        # add acc\n",
    "        acc = kwargs.pop(\"acc\", None)\n",
    "        val_acc = kwargs.pop(\"val_acc\", None)\n",
    "        if acc is not None and val_acc is not None:\n",
    "            self.add_acc_scalars(step, acc, val_acc)\n",
    "        # add lr\n",
    "        learning_rate = kwargs.pop(\"lr\", None)\n",
    "        if learning_rate is not None:\n",
    "            self.add_lr_scalars(step, learning_rate)\n"
   ]
  },
  {
   "cell_type": "code",
   "execution_count": 19,
   "id": "94b7631f05daafda",
   "metadata": {
    "execution": {
     "iopub.execute_input": "2025-02-13T09:58:04.312180Z",
     "iopub.status.busy": "2025-02-13T09:58:04.311476Z",
     "iopub.status.idle": "2025-02-13T09:58:04.317748Z",
     "shell.execute_reply": "2025-02-13T09:58:04.317164Z",
     "shell.execute_reply.started": "2025-02-13T09:58:04.312134Z"
    }
   },
   "outputs": [],
   "source": [
    "class SaveCheckpointsCallback:\n",
    "    def __init__(self, save_dir, save_step=5000, save_best_only=True):\n",
    "        \"\"\"\n",
    "        Save checkpoints each save_epoch epoch.\n",
    "        We save checkpoint by epoch in this implementation.\n",
    "        Usually, training scripts with pytorch evaluating model and save checkpoint by step.\n",
    "\n",
    "        Args:\n",
    "            save_dir (str): dir to save checkpoint\n",
    "            save_epoch (int, optional): the frequency to save checkpoint. Defaults to 1.\n",
    "            save_best_only (bool, optional): If True, only save the best model or save each model at every epoch.\n",
    "        \"\"\"\n",
    "        self.save_dir = save_dir\n",
    "        self.save_step = save_step\n",
    "        self.save_best_only = save_best_only\n",
    "        self.best_metrics = - np.inf\n",
    "\n",
    "        # mkdir\n",
    "        if not os.path.exists(self.save_dir):\n",
    "            os.mkdir(self.save_dir)\n",
    "\n",
    "    def __call__(self, step, state_dict, metric=None):\n",
    "        if step % self.save_step > 0:\n",
    "            return\n",
    "\n",
    "        if self.save_best_only:\n",
    "            assert metric is not None\n",
    "            if metric >= self.best_metrics:\n",
    "                # save checkpoints\n",
    "                torch.save(state_dict, os.path.join(self.save_dir, \"best.ckpt\"))\n",
    "                # update best metrics\n",
    "                self.best_metrics = metric\n",
    "        else:\n",
    "            torch.save(state_dict, os.path.join(self.save_dir, f\"{step}.ckpt\"))\n",
    "\n"
   ]
  },
  {
   "cell_type": "code",
   "execution_count": 20,
   "id": "1f978312abb59ec",
   "metadata": {
    "execution": {
     "iopub.execute_input": "2025-02-13T09:58:04.318980Z",
     "iopub.status.busy": "2025-02-13T09:58:04.318542Z",
     "iopub.status.idle": "2025-02-13T09:58:04.323621Z",
     "shell.execute_reply": "2025-02-13T09:58:04.323052Z",
     "shell.execute_reply.started": "2025-02-13T09:58:04.318950Z"
    }
   },
   "outputs": [],
   "source": [
    "class EarlyStopCallback:\n",
    "    def __init__(self, patience=5, min_delta=0.01):\n",
    "        \"\"\"\n",
    "\n",
    "        Args:\n",
    "            patience (int, optional): Number of epochs with no improvement after which training will be stopped.. Defaults to 5.\n",
    "            min_delta (float, optional): Minimum change in the monitored quantity to qualify as an improvement, i.e. an absolute\n",
    "                change of less than min_delta, will count as no improvement. Defaults to 0.01.\n",
    "        \"\"\"\n",
    "        self.patience = patience\n",
    "        self.min_delta = min_delta\n",
    "        self.best_metric = - np.inf\n",
    "        self.counter = 0\n",
    "\n",
    "    def __call__(self, metric):\n",
    "        if metric >= self.best_metric + self.min_delta:\n",
    "            # update best metric\n",
    "            self.best_metric = metric\n",
    "            # reset counter\n",
    "            self.counter = 0\n",
    "        else:\n",
    "            self.counter += 1\n",
    "\n",
    "    @property\n",
    "    def early_stop(self):\n",
    "        return self.counter >= self.patience\n"
   ]
  },
  {
   "cell_type": "markdown",
   "id": "73eaab0d1ecbd80",
   "metadata": {},
   "source": [
    "# training & valuating"
   ]
  },
  {
   "cell_type": "code",
   "execution_count": 21,
   "id": "5169dd2279d9fbef",
   "metadata": {
    "execution": {
     "iopub.execute_input": "2025-02-13T09:58:04.324760Z",
     "iopub.status.busy": "2025-02-13T09:58:04.324385Z",
     "iopub.status.idle": "2025-02-13T09:58:04.329205Z",
     "shell.execute_reply": "2025-02-13T09:58:04.328653Z",
     "shell.execute_reply.started": "2025-02-13T09:58:04.324731Z"
    }
   },
   "outputs": [],
   "source": [
    "@torch.no_grad()\n",
    "def evaluating(model, dataloader, loss_fct):\n",
    "    loss_list = []\n",
    "    for batch in dataloader:\n",
    "        encoder_inputs = batch[\"encoder_inputs\"]\n",
    "        encoder_inputs_mask = batch[\"encoder_inputs_mask\"]\n",
    "        decoder_inputs = batch[\"decoder_inputs\"]\n",
    "        decoder_labels = batch[\"decoder_labels\"]\n",
    "        decoder_labels_mask = batch[\"decoder_labels_mask\"]\n",
    "\n",
    "        # 前向计算\n",
    "        logits, _ = model(\n",
    "            encoder_inputs=encoder_inputs,\n",
    "            decoder_inputs=decoder_inputs,\n",
    "            attn_mask=encoder_inputs_mask\n",
    "            ) #model就是seq2seq模型\n",
    "        loss = loss_fct(logits, decoder_labels, padding_mask=decoder_labels_mask)         # 验证集损失\n",
    "        loss_list.append(loss.cpu().item())\n",
    "\n",
    "    return np.mean(loss_list)\n"
   ]
  },
  {
   "cell_type": "code",
   "execution_count": 22,
   "id": "5aabbd11a429e06f",
   "metadata": {
    "execution": {
     "iopub.execute_input": "2025-02-13T09:58:04.332050Z",
     "iopub.status.busy": "2025-02-13T09:58:04.331859Z",
     "iopub.status.idle": "2025-02-13T09:58:05.568545Z",
     "shell.execute_reply": "2025-02-13T09:58:05.567991Z",
     "shell.execute_reply.started": "2025-02-13T09:58:04.332020Z"
    }
   },
   "outputs": [],
   "source": [
    "# 训练函数：用于对模型进行训练，并在训练过程中进行验证、记录指标、保存检查点以及执行早停策略\n",
    "def training(\n",
    "    model,                    # 模型\n",
    "    train_loader,             # 训练数据加载器\n",
    "    val_loader,               # 验证数据加载器\n",
    "    epoch,                    # 总训练轮数（可调整超参）\n",
    "    loss_fct,                 # 损失函数（如交叉熵损失，支持填充屏蔽）\n",
    "    optimizer,                # 优化器（如Adam）\n",
    "    tensorboard_callback=None,# TensorBoard回调（用于训练指标可视化）\n",
    "    save_ckpt_callback=None,  # 模型检查点保存回调\n",
    "    early_stop_callback=None, # 早停回调\n",
    "    eval_step=500,            # 每隔多少步进行一次验证评估（可调整超参）\n",
    "    ):\n",
    "\n",
    "    # 用于记录训练和验证过程中的损失和对应的步数\n",
    "    record_dict = {\n",
    "        \"train\": [],\n",
    "        \"val\": []\n",
    "    }\n",
    "\n",
    "    global_step = 1  # 全局步数计数器\n",
    "    model.train()    # 将模型设置为训练模式（启用 dropout、batchnorm等）\n",
    "    \n",
    "    # 使用 tqdm 显示训练进度，total为总步数（轮数 * 每轮batch数）\n",
    "    with tqdm(total=epoch * len(train_loader)) as pbar:\n",
    "        # 遍历每个训练轮次\n",
    "        for epoch_id in range(epoch):\n",
    "            # 遍历训练数据集中的每个批次\n",
    "            for batch in train_loader:\n",
    "                # 从 batch 中提取数据：\n",
    "                encoder_inputs = batch[\"encoder_inputs\"]\n",
    "                encoder_inputs_mask = batch[\"encoder_inputs_mask\"]\n",
    "                decoder_inputs = batch[\"decoder_inputs\"]\n",
    "                decoder_labels = batch[\"decoder_labels\"]\n",
    "                decoder_labels_mask = batch[\"decoder_labels_mask\"]\n",
    "\n",
    "                # 清空优化器中的梯度\n",
    "                optimizer.zero_grad()\n",
    "\n",
    "                # 前向传播，得到模型输出 logits\n",
    "                logits, _ = model(\n",
    "                    encoder_inputs=encoder_inputs,\n",
    "                    decoder_inputs=decoder_inputs,\n",
    "                    attn_mask=encoder_inputs_mask\n",
    "                )\n",
    "                # 计算损失，loss_fct支持对填充部分进行屏蔽\n",
    "                loss = loss_fct(logits, decoder_labels, padding_mask=decoder_labels_mask)\n",
    "\n",
    "                # 反向传播，计算梯度\n",
    "                loss.backward()\n",
    "\n",
    "                # 优化器更新模型参数（包括根据学习率等超参更新参数）\n",
    "                optimizer.step()\n",
    "\n",
    "                # 将 loss 从 GPU 转移到 CPU 并转换为 Python 数值\n",
    "                loss_val = loss.cpu().item()\n",
    "                # 记录当前训练步的损失和步数\n",
    "                record_dict[\"train\"].append({\n",
    "                    \"loss\": loss_val, \"step\": global_step\n",
    "                })\n",
    "\n",
    "                # 每隔 eval_step 步进行一次验证评估\n",
    "                if global_step % eval_step == 0:\n",
    "                    model.eval()  # 切换到验证模式，关闭 dropout 等\n",
    "                    # 调用验证函数计算在验证集上的损失\n",
    "                    val_loss = evaluating(model, val_loader, loss_fct)\n",
    "                    record_dict[\"val\"].append({\n",
    "                        \"loss\": val_loss, \"step\": global_step\n",
    "                    })\n",
    "                    model.train()  # 恢复训练模式\n",
    "\n",
    "                    # 1. 使用 TensorBoard 记录训练和验证指标\n",
    "                    if tensorboard_callback is not None:\n",
    "                        tensorboard_callback(\n",
    "                            global_step,\n",
    "                            loss=loss_val, \n",
    "                            val_loss=val_loss,\n",
    "                            lr=optimizer.param_groups[0][\"lr\"],\n",
    "                        )\n",
    "\n",
    "                    # 2. 保存模型检查点（例如，保存验证集上最优的模型）\n",
    "                    if save_ckpt_callback is not None:\n",
    "                        # metric=-val_loss 表示验证损失越低越好\n",
    "                        save_ckpt_callback(global_step, model.state_dict(), metric=-val_loss)\n",
    "\n",
    "                    # 3. 早停策略：如果连续若干次验证指标无提升，则提前停止训练\n",
    "                    if early_stop_callback is not None:\n",
    "                        early_stop_callback(-val_loss)\n",
    "                        if early_stop_callback.early_stop:\n",
    "                            print(f\"Early stop at epoch {epoch_id} / global_step {global_step}\")\n",
    "                            return record_dict\n",
    "\n",
    "                # 更新全局步数，并更新进度条\n",
    "                global_step += 1\n",
    "                pbar.update(1)\n",
    "            # 在每个 epoch 结束时更新进度条信息显示\n",
    "            pbar.set_postfix({\"epoch\": epoch_id, \"loss\": loss_val, \"val_loss\": val_loss})\n",
    "\n",
    "    return record_dict\n",
    "\n",
    "\n",
    "# -------------------- 可调整的超参数及相关设置 --------------------\n",
    "\n",
    "# 1. 训练轮数和批次大小：\n",
    "epoch = 20               # 总训练轮数，可根据训练时间和数据量进行调整\n",
    "batch_size = 64          # 每个批次的样本数，根据GPU显存和任务复杂度调整\n",
    "\n",
    "# 2. 模型定义：\n",
    "#    Sequence2Sequence 模型需要指定源语言和目标语言的词汇表大小\n",
    "model = Sequence2Sequence(src_vocab_size=len(src_word2idx), trg_vocab_size=len(trg_word2idx))\n",
    "\n",
    "# 3. 数据加载器：\n",
    "#    DataLoader中的 batch_size 和是否 shuffle 均可以调整\n",
    "train_dl = DataLoader(train_ds, batch_size=batch_size, shuffle=True, collate_fn=collate_fct)\n",
    "test_dl = DataLoader(test_ds, batch_size=batch_size, shuffle=False, collate_fn=collate_fct)\n",
    "\n",
    "# 4. 损失函数：\n",
    "#    此处采用自定义的支持填充屏蔽的交叉熵损失函数\n",
    "loss_fct = cross_entropy_with_padding\n",
    "\n",
    "# 5. 优化器：\n",
    "#    采用 Adam 优化器，其学习率 lr 为关键超参数（可调整）\n",
    "optimizer = torch.optim.Adam(model.parameters(), lr=0.001)\n",
    "\n",
    "# 6. 回调设置：\n",
    "#    (1) TensorBoard 回调，用于训练过程中指标的可视化\n",
    "if not os.path.exists(\"runs\"):\n",
    "    os.mkdir(\"runs\")\n",
    "exp_name = \"translate-seq2seq\"  # 实验名称，可根据需要修改\n",
    "tensorboard_callback = TensorBoardCallback(f\"runs/{exp_name}\")\n",
    "#    (2) 模型检查点保存回调：\n",
    "if not os.path.exists(\"checkpoints\"):\n",
    "    os.makedirs(\"checkpoints\")\n",
    "save_ckpt_callback = SaveCheckpointsCallback(\n",
    "    f\"checkpoints/{exp_name}\",\n",
    "    save_step=200,        # 每200步保存一次模型（可调整）\n",
    "    save_best_only=True   # 是否只保存验证指标最优的模型\n",
    ")\n",
    "#    (3) 早停回调：\n",
    "early_stop_callback = EarlyStopCallback(\n",
    "    patience=5            # 容忍连续5次验证指标无提升后提前停止训练（可调整）\n",
    ")\n",
    "\n",
    "# 7. 其他可调整超参数：\n",
    "#    eval_step: 每隔多少步进行一次验证评估\n",
    "#              例如，本代码中默认设定为500步，可根据训练数据大小和验证频率需求进行修改\n",
    "\n",
    "# 将模型移至指定设备（例如：GPU）\n",
    "model = model.to(device)\n"
   ]
  },
  {
   "cell_type": "code",
   "execution_count": 23,
   "id": "623d5cc056de1cf5",
   "metadata": {
    "execution": {
     "iopub.execute_input": "2025-02-13T09:58:05.569546Z",
     "iopub.status.busy": "2025-02-13T09:58:05.569185Z",
     "iopub.status.idle": "2025-02-13T10:06:38.888088Z",
     "shell.execute_reply": "2025-02-13T10:06:38.887543Z",
     "shell.execute_reply.started": "2025-02-13T09:58:05.569524Z"
    }
   },
   "outputs": [
    {
     "name": "stderr",
     "output_type": "stream",
     "text": [
      "  0%|          | 0/33520 [00:00<?, ?it/s]/usr/local/lib/python3.10/site-packages/torch/nn/_reduction.py:51: UserWarning: size_average and reduce args will be deprecated, please use reduction='none' instead.\n",
      "  warnings.warn(warning.format(ret))\n",
      " 21%|██▏       | 7199/33520 [08:33<31:16, 14.02it/s, epoch=3, loss=1.01, val_loss=1.28]  "
     ]
    },
    {
     "name": "stdout",
     "output_type": "stream",
     "text": [
      "Early stop at epoch 4 / global_step 7200\n"
     ]
    },
    {
     "name": "stderr",
     "output_type": "stream",
     "text": [
      "\n"
     ]
    }
   ],
   "source": [
    "record = training(\n",
    "    model,\n",
    "    train_dl,\n",
    "    test_dl,\n",
    "    epoch,\n",
    "    loss_fct,\n",
    "    optimizer,\n",
    "    tensorboard_callback=None,\n",
    "    save_ckpt_callback=save_ckpt_callback,\n",
    "    early_stop_callback=early_stop_callback,\n",
    "    eval_step=200\n",
    "    )"
   ]
  },
  {
   "cell_type": "code",
   "execution_count": 24,
   "id": "e9ae1c6ee0d16796",
   "metadata": {
    "execution": {
     "iopub.execute_input": "2025-02-13T10:06:38.889272Z",
     "iopub.status.busy": "2025-02-13T10:06:38.888846Z",
     "iopub.status.idle": "2025-02-13T10:06:38.999293Z",
     "shell.execute_reply": "2025-02-13T10:06:38.998758Z",
     "shell.execute_reply.started": "2025-02-13T10:06:38.889250Z"
    }
   },
   "outputs": [
    {
     "data": {
      "image/png": "[encoded data removed]",
      "text/plain": [
       "<Figure size 640x480 with 1 Axes>"
      ]
     },
     "metadata": {},
     "output_type": "display_data"
    }
   ],
   "source": [
    "plt.plot([i[\"step\"] for i in record[\"train\"]], [i[\"loss\"] for i in record[\"train\"]], label=\"train\")\n",
    "plt.plot([i[\"step\"] for i in record[\"val\"]], [i[\"loss\"] for i in record[\"val\"]], label=\"val\")\n",
    "plt.grid()\n",
    "plt.show()"
   ]
  },
  {
   "cell_type": "markdown",
   "id": "8a9cfc3588f33056",
   "metadata": {},
   "source": [
    "# 推理"
   ]
  },
  {
   "cell_type": "code",
   "execution_count": 25,
   "id": "5b84fd2bf7eb0cb3",
   "metadata": {
    "execution": {
     "iopub.execute_input": "2025-02-13T10:06:39.000130Z",
     "iopub.status.busy": "2025-02-13T10:06:38.999874Z",
     "iopub.status.idle": "2025-02-13T10:06:39.141446Z",
     "shell.execute_reply": "2025-02-13T10:06:39.140893Z",
     "shell.execute_reply.started": "2025-02-13T10:06:39.000107Z"
    }
   },
   "outputs": [
    {
     "name": "stdout",
     "output_type": "stream",
     "text": [
      "best.ckpt\n"
     ]
    }
   ],
   "source": [
    "!ls checkpoints/translate-seq2seq"
   ]
  },
  {
   "cell_type": "code",
   "execution_count": 26,
   "id": "f806777112ec7140",
   "metadata": {
    "execution": {
     "iopub.execute_input": "2025-02-13T10:06:39.142928Z",
     "iopub.status.busy": "2025-02-13T10:06:39.142411Z",
     "iopub.status.idle": "2025-02-13T10:06:39.462239Z",
     "shell.execute_reply": "2025-02-13T10:06:39.461582Z",
     "shell.execute_reply.started": "2025-02-13T10:06:39.142894Z"
    }
   },
   "outputs": [
    {
     "name": "stderr",
     "output_type": "stream",
     "text": [
      "/tmp/ipykernel_599/3052889264.py:6: FutureWarning: You are using `torch.load` with `weights_only=False` (the current default value), which uses the default pickle module implicitly. It is possible to construct malicious pickle data which will execute arbitrary code during unpickling (See https://github.com/pytorch/pytorch/blob/main/SECURITY.md#untrusted-models for more details). In a future release, the default value for `weights_only` will be flipped to `True`. This limits the functions that could be executed during unpickling. Arbitrary objects will no longer be allowed to be loaded via this mode unless they are explicitly allowlisted by the user via `torch.serialization.add_safe_globals`. We recommend you start setting `weights_only=True` for any use case where you don't have full control of the loaded file. Please open an issue on GitHub for any issues related to this experimental feature.\n",
      "  torch.load(\"./checkpoints/translate-seq2seq/best.ckpt\", map_location=\"cpu\")\n"
     ]
    }
   ],
   "source": [
    "# 初始化模型结构（需保持和训练时相同的参数）\n",
    "model = Sequence2Sequence(len(src_word2idx), len(trg_word2idx))\n",
    "\n",
    "# 加载预训练权重（map_location='cpu'表示强制加载到CPU，即使训练时使用GPU）\n",
    "model.load_state_dict(\n",
    "    torch.load(\"./checkpoints/translate-seq2seq/best.ckpt\", map_location=\"cpu\")\n",
    ")\n",
    "\n",
    "\n",
    "class Translator:\n",
    "    def __init__(self, model, src_tokenizer, trg_tokenizer):\n",
    "        \"\"\"\n",
    "        初始化翻译器\n",
    "        :param model: 加载好权重的seq2seq模型\n",
    "        :param src_tokenizer: 源语言（输入）的tokenizer\n",
    "        :param trg_tokenizer: 目标语言（输出）的tokenizer\n",
    "        \"\"\"\n",
    "        self.model = model\n",
    "        self.model.eval()  # 切换为推理模式（关闭dropout等训练专用层）\n",
    "        self.src_tokenizer = src_tokenizer\n",
    "        self.trg_tokenizer = trg_tokenizer\n",
    "\n",
    "    def draw_attention_map(self, scores, src_words_list, trg_words_list):\n",
    "        \"\"\"绘制注意力热力图（可视化对齐关系）\n",
    "        :param scores: 注意力分数矩阵 [源序列长度, 目标序列长度]\n",
    "        \"\"\"\n",
    "        plt.matshow(scores.T, cmap='viridis')  # 转置矩阵使源序列在x轴\n",
    "        ax = plt.gca()\n",
    "        \n",
    "        # 添加数值标注（保留两位小数）\n",
    "        for i in range(scores.shape[0]):\n",
    "            for j in range(scores.shape[1]):\n",
    "                ax.text(j, i, f'{scores[i, j]:.2f}', \n",
    "                        ha='center', va='center', color='k')\n",
    "        \n",
    "        # 设置坐标标签\n",
    "        plt.xticks(range(scores.shape[0]), src_words_list, rotation=45)\n",
    "        plt.yticks(range(scores.shape[1]), trg_words_list)\n",
    "        plt.show()\n",
    "\n",
    "    def __call__(self, sentence):\n",
    "        \"\"\"完整翻译流程\n",
    "        :param sentence: 原始输入句子（字符串）\n",
    "        :return: 翻译结果（字符串）\n",
    "        \"\"\"\n",
    "        # 1. 输入预处理（大小写转换、标点处理等）\n",
    "        sentence = preprocess_sentence(sentence)\n",
    "        \n",
    "        # 2. 编码为模型输入（添加特殊符号，转换为tensor）\n",
    "        encoder_input, attn_mask = self.src_tokenizer.encode(\n",
    "            [sentence.split()],\n",
    "            padding_first=True,    # 是否在序列前填充\n",
    "            add_bos=True,          # 添加起始符\n",
    "            add_eos=True,          # 添加结束符\n",
    "            return_mask=True       # 返回注意力掩码（用于处理padding）\n",
    "        )\n",
    "        encoder_input = torch.tensor(encoder_input, dtype=torch.int64)\n",
    "        \n",
    "        # 3. 模型推理（获取预测结果和注意力分数）\n",
    "        preds, scores = model.infer(\n",
    "            encoder_input=encoder_input,\n",
    "            attn_mask=attn_mask\n",
    "        )\n",
    "        \n",
    "        # 4. 解码为可读文本（移除特殊符号）\n",
    "        trg_sentence = self.trg_tokenizer.decode(\n",
    "            [preds], \n",
    "            split=True,          # 是否按空格分割单词\n",
    "            remove_eos=False      # 保留EOS用于后续处理\n",
    "        )[0]\n",
    "        \n",
    "        # 5. 解码源语句用于可视化（保留所有特殊符号）\n",
    "        src_decoded = self.src_tokenizer.decode(\n",
    "            encoder_input.tolist(),\n",
    "            split=True,\n",
    "            remove_bos=False,\n",
    "            remove_eos=False\n",
    "        )[0]\n",
    "        \n",
    "        # 6. 可视化注意力机制\n",
    "        self.draw_attention_map(\n",
    "            scores.squeeze(0).numpy(),  # 去除batch维度\n",
    "            src_decoded,                # 源语言词列表\n",
    "            trg_sentence                # 目标语言词列表\n",
    "        )\n",
    "        \n",
    "        # 7. 返回翻译结果（去除末尾的EOS标记）\n",
    "        return \" \".join(trg_sentence[:-1])\n"
   ]
  },
  {
   "cell_type": "code",
   "execution_count": 27,
   "id": "fdae898c3c2c2d9d",
   "metadata": {
    "execution": {
     "iopub.execute_input": "2025-02-13T10:06:39.463604Z",
     "iopub.status.busy": "2025-02-13T10:06:39.463051Z",
     "iopub.status.idle": "2025-02-13T10:06:39.628331Z",
     "shell.execute_reply": "2025-02-13T10:06:39.627729Z",
     "shell.execute_reply.started": "2025-02-13T10:06:39.463572Z"
    }
   },
   "outputs": [
    {
     "name": "stderr",
     "output_type": "stream",
     "text": [
      "/tmp/ipykernel_599/3052889264.py:57: UserWarning: To copy construct from a tensor, it is recommended to use sourceTensor.clone().detach() or sourceTensor.clone().detach().requires_grad_(True), rather than torch.tensor(sourceTensor).\n",
      "  encoder_input = torch.tensor(encoder_input, dtype=torch.int64)\n"
     ]
    },
    {
     "data": {
      "image/png": "[encoded data removed]",
      "text/plain": [
       "<Figure size 480x480 with 1 Axes>"
      ]
     },
     "metadata": {},
     "output_type": "display_data"
    },
    {
     "data": {
      "text/plain": [
       "'it s very cold here .'"
      ]
     },
     "execution_count": 27,
     "metadata": {},
     "output_type": "execute_result"
    }
   ],
   "source": [
    "translator = Translator(model.cpu(), src_tokenizer, trg_tokenizer)\n",
    "translator(u'hace mucho frio aqui .')"
   ]
  },
  {
   "cell_type": "code",
   "execution_count": 28,
   "id": "10d444e9feebf866",
   "metadata": {
    "execution": {
     "iopub.execute_input": "2025-02-13T10:06:39.629100Z",
     "iopub.status.busy": "2025-02-13T10:06:39.628876Z",
     "iopub.status.idle": "2025-02-13T10:06:39.759015Z",
     "shell.execute_reply": "2025-02-13T10:06:39.758214Z",
     "shell.execute_reply.started": "2025-02-13T10:06:39.629075Z"
    }
   },
   "outputs": [
    {
     "name": "stderr",
     "output_type": "stream",
     "text": [
      "/tmp/ipykernel_599/3052889264.py:57: UserWarning: To copy construct from a tensor, it is recommended to use sourceTensor.clone().detach() or sourceTensor.clone().detach().requires_grad_(True), rather than torch.tensor(sourceTensor).\n",
      "  encoder_input = torch.tensor(encoder_input, dtype=torch.int64)\n"
     ]
    },
    {
     "data": {
      "image/png": "[encoded data removed]",
      "text/plain": [
       "<Figure size 560x480 with 1 Axes>"
      ]
     },
     "metadata": {},
     "output_type": "display_data"
    },
    {
     "data": {
      "text/plain": [
       "'this is my life .'"
      ]
     },
     "execution_count": 28,
     "metadata": {},
     "output_type": "execute_result"
    }
   ],
   "source": [
    "translator(u'esta es mi vida.')"
   ]
  },
  {
   "cell_type": "code",
   "execution_count": 29,
   "id": "3d29ec901e6f96ad",
   "metadata": {
    "execution": {
     "iopub.execute_input": "2025-02-13T10:06:39.760124Z",
     "iopub.status.busy": "2025-02-13T10:06:39.759891Z",
     "iopub.status.idle": "2025-02-13T10:12:32.662469Z",
     "shell.execute_reply": "2025-02-13T10:12:32.661686Z",
     "shell.execute_reply.started": "2025-02-13T10:06:39.760099Z"
    },
    "tags": []
   },
   "outputs": [
    {
     "name": "stderr",
     "output_type": "stream",
     "text": [
      "/tmp/ipykernel_599/4228430312.py:11: FutureWarning: You are using `torch.load` with `weights_only=False` (the current default value), which uses the default pickle module implicitly. It is possible to construct malicious pickle data which will execute arbitrary code during unpickling (See https://github.com/pytorch/pytorch/blob/main/SECURITY.md#untrusted-models for more details). In a future release, the default value for `weights_only` will be flipped to `True`. This limits the functions that could be executed during unpickling. Arbitrary objects will no longer be allowed to be loaded via this mode unless they are explicitly allowlisted by the user via `torch.serialization.add_safe_globals`. We recommend you start setting `weights_only=True` for any use case where you don't have full control of the loaded file. Please open an issue on GitHub for any issues related to this experimental feature.\n",
      "  model.load_state_dict(torch.load(f\"./checkpoints/translate-seq2seq/best.ckpt\", map_location=\"cpu\"))\n",
      "/usr/local/lib/python3.10/site-packages/nltk/translate/bleu_score.py:577: UserWarning: \n",
      "The hypothesis contains 0 counts of 2-gram overlaps.\n",
      "Therefore the BLEU score evaluates to 0, independently of\n",
      "how many N-gram overlaps of lower order it contains.\n",
      "Consider using lower n-gram order or use SmoothingFunction()\n",
      "  warnings.warn(_msg)\n",
      "/usr/local/lib/python3.10/site-packages/nltk/translate/bleu_score.py:577: UserWarning: \n",
      "The hypothesis contains 0 counts of 3-gram overlaps.\n",
      "Therefore the BLEU score evaluates to 0, independently of\n",
      "how many N-gram overlaps of lower order it contains.\n",
      "Consider using lower n-gram order or use SmoothingFunction()\n",
      "  warnings.warn(_msg)\n",
      "/usr/local/lib/python3.10/site-packages/nltk/translate/bleu_score.py:577: UserWarning: \n",
      "The hypothesis contains 0 counts of 4-gram overlaps.\n",
      "Therefore the BLEU score evaluates to 0, independently of\n",
      "how many N-gram overlaps of lower order it contains.\n",
      "Consider using lower n-gram order or use SmoothingFunction()\n",
      "  warnings.warn(_msg)\n"
     ]
    },
    {
     "data": {
      "text/plain": [
       "0.7002402134357906"
      ]
     },
     "execution_count": 29,
     "metadata": {},
     "output_type": "execute_result"
    }
   ],
   "source": [
    "# 初始化模型结构\n",
    "# - src_word2idx: 源语言的词到索引的映射字典\n",
    "# - trg_word2idx: 目标语言的词到索引的映射字典\n",
    "# - len(src_word2idx): 源语言的词汇表大小\n",
    "# - len(trg_word2idx): 目标语言的词汇表大小\n",
    "model = Sequence2Sequence(len(src_word2idx), len(trg_word2idx))\n",
    "\n",
    "# 加载预训练模型的权重\n",
    "# - \"./checkpoints/translate-seq2seq/best.ckpt\": 模型权重文件的路径\n",
    "# - map_location=\"cpu\": 将模型权重加载到 CPU 上（即使训练时使用的是 GPU）\n",
    "model.load_state_dict(torch.load(f\"./checkpoints/translate-seq2seq/best.ckpt\", map_location=\"cpu\"))\n",
    "\n",
    "class Translator:\n",
    "    def __init__(self, model, src_tokenizer, trg_tokenizer):\n",
    "        \"\"\"\n",
    "        初始化翻译器\n",
    "        :param model: 加载好权重的 seq2seq 模型\n",
    "        :param src_tokenizer: 源语言的 tokenizer（用于编码输入句子）\n",
    "        :param trg_tokenizer: 目标语言的 tokenizer（用于解码输出句子）\n",
    "        \"\"\"\n",
    "        self.model = model\n",
    "        self.model.eval()  # 将模型设置为评估模式（关闭 dropout 等训练专用层）\n",
    "        self.src_tokenizer = src_tokenizer\n",
    "        self.trg_tokenizer = trg_tokenizer\n",
    "\n",
    "    def __call__(self, sentence):\n",
    "        \"\"\"\n",
    "        翻译句子的核心逻辑\n",
    "        :param sentence: 输入的源语言句子（字符串）\n",
    "        :return: 翻译后的目标语言句子（字符串）\n",
    "        \"\"\"\n",
    "        # 1. 预处理输入句子（例如：大小写转换、标点符号处理等）\n",
    "        sentence = preprocess_sentence(sentence)\n",
    "\n",
    "        # 2. 使用源语言 tokenizer 对句子进行编码\n",
    "        # - sentence.split(): 将句子按空格分割成单词列表\n",
    "        # - padding_first=True: 在序列前面填充（如果需要）\n",
    "        # - add_bos=True: 添加起始符 <BOS>\n",
    "        # - add_eos=True: 添加结束符 <EOS>\n",
    "        # - return_mask=True: 返回注意力掩码（用于处理填充部分）\n",
    "        encoder_input, attn_mask = self.src_tokenizer.encode(\n",
    "            [sentence.split()],\n",
    "            padding_first=True,\n",
    "            add_bos=True,\n",
    "            add_eos=True,\n",
    "            return_mask=True,\n",
    "        )\n",
    "\n",
    "        # 3. 将编码后的输入转换为 PyTorch 张量，并指定数据类型为 int64\n",
    "        encoder_input = torch.Tensor(encoder_input).to(dtype=torch.int64)\n",
    "\n",
    "        # 4. 使用模型进行推理，获取预测结果和注意力分数\n",
    "        # - preds: 模型预测的目标语言 token ID 序列\n",
    "        # - scores: 注意力分数（可选，用于可视化）\n",
    "        preds, scores = model.infer(encoder_input=encoder_input, attn_mask=attn_mask)\n",
    "\n",
    "        # 5. 使用目标语言 tokenizer 将预测的 token ID 序列解码为句子\n",
    "        # - split=True: 按空格分割单词\n",
    "        # - remove_eos=False: 保留结束符 <EOS>\n",
    "        trg_sentence = self.trg_tokenizer.decode([preds], split=True, remove_eos=False)[0]\n",
    "\n",
    "        # 6. 返回翻译结果（去除末尾的 <EOS> 标记）\n",
    "        return \" \".join(trg_sentence[:-1])\n",
    "    \n",
    "from nltk.translate.bleu_score import sentence_bleu\n",
    "\n",
    "def evaluate_bleu_on_test_set(test_data, translator):\n",
    "    \"\"\"\n",
    "    在测试集上计算平均 BLEU 分数。\n",
    "    :param test_data: 测试集数据，格式为 [(src_sentence, [ref_translation1, ref_translation2, ...]), ...]\n",
    "    :param translator: 翻译器对象（Translator 类的实例）\n",
    "    :return: 平均 BLEU 分数\n",
    "    \"\"\"\n",
    "    total_bleu = 0.0  # 用于累加所有句子的 BLEU 分数\n",
    "    num_samples = len(test_data)  # 测试集的样本数量\n",
    "\n",
    "    for src_sentence, ref_translations in test_data:\n",
    "        # 1. 使用翻译器生成候选翻译结果\n",
    "        candidate_translation = translator(src_sentence)\n",
    "\n",
    "        # 2. 计算 BLEU 分数\n",
    "        # - [ref_translations.split()]: 将参考翻译句子分割成单词列表\n",
    "        # - candidate_translation.split(): 将候选翻译句子分割成单词列表\n",
    "        # - weights=(1, 0, 0, 0): 仅使用 1-gram 计算 BLEU 分数（可根据需求调整）\n",
    "        bleu_score = sentence_bleu([ref_translations.split()], candidate_translation.split(), weights=(1, 0, 0, 0))\n",
    "        total_bleu += bleu_score  # 累加当前句子的 BLEU 分数\n",
    "\n",
    "        # 3. （可选）打印当前句子的翻译结果和 BLEU 分数\n",
    "        # print(f\"Source: {src_sentence}\")\n",
    "        # print(f\"Reference: {ref_translations}\")\n",
    "        # print(f\"Candidate: {candidate_translation}\")\n",
    "        # print(f\"BLEU: {bleu_score:.4f}\")\n",
    "        # print(\"-\" * 50)\n",
    "\n",
    "    # 4. 计算平均 BLEU 分数\n",
    "    avg_bleu = total_bleu / num_samples\n",
    "    return avg_bleu\n",
    "\n",
    "# 初始化翻译器\n",
    "# - model.cpu(): 确保模型在 CPU 上运行\n",
    "# - src_tokenizer: 源语言的 tokenizer\n",
    "# - trg_tokenizer: 目标语言的 tokenizer\n",
    "translator = Translator(model.cpu(), src_tokenizer, trg_tokenizer)\n",
    "\n",
    "# 在测试集上评估 BLEU 分数\n",
    "# - test_ds: 测试集数据，格式为 [(src_sentence, ref_translation), ...]\n",
    "# - translator: 翻译器对象\n",
    "evaluate_bleu_on_test_set(test_ds, translator)"
   ]
  }
 ],
 "metadata": {
  "kernelspec": {
   "display_name": "Python 3 (ipykernel)",
   "language": "python",
   "name": "python3"
  },
  "language_info": {
   "codemirror_mode": {
    "name": "ipython",
    "version": 3
   },
   "file_extension": ".py",
   "mimetype": "text/x-python",
   "name": "python",
   "nbconvert_exporter": "python",
   "pygments_lexer": "ipython3",
   "version": "3.10.14"
  }
 },
 "nbformat": 4,
 "nbformat_minor": 5
}
